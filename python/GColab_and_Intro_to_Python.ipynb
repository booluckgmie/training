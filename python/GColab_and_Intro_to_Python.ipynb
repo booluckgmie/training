{
  "nbformat": 4,
  "nbformat_minor": 0,
  "metadata": {
    "colab": {
      "name": "GColab and Intro to Python",
      "provenance": [],
      "collapsed_sections": [],
      "toc_visible": true
    },
    "kernelspec": {
      "name": "python3",
      "display_name": "Python 3"
    },
    "language_info": {
      "name": "python"
    }
  },
  "cells": [
    {
      "cell_type": "markdown",
      "metadata": {
        "id": "FvxOInZj7YtF"
      },
      "source": [
        "# Using Google Colab for Python"
      ]
    },
    {
      "cell_type": "markdown",
      "metadata": {
        "id": "9LfKYrIw6PHd"
      },
      "source": [
        "**What Colab Offers You?**\n",
        "\n",
        "As a programmer, you can perform the following using Google Colab.\n",
        "\n",
        "Write and execute code in Python\n",
        "\n",
        "1. Document your code that supports mathematical equations\n",
        "2. Create/Upload/Share notebooks\n",
        "3. Import/Save notebooks from/to Google Drive\n",
        "4. Import/Publish notebooks from GitHub\n",
        "5. Import external datasets e.g. from Kaggle\n",
        "6. Integrate PyTorch, TensorFlow, Keras, OpenCV\n",
        "7. Free Cloud service with free GPU"
      ]
    },
    {
      "cell_type": "markdown",
      "metadata": {
        "id": "9C8OuK3A6rV5"
      },
      "source": [
        "**In Summary**\n",
        "\n",
        "Google Colab is just a specialized version of the Jupyter Notebook, which runs on the cloud and offers free computing resources. The relationship between iPython, Jupyter Notebook, and Google Colab\n",
        "\n",
        "![Random Unsplash Image](https://miro.medium.com/max/875/1*N7kkTgoq5z6ZO__d9TAqLQ.png)"
      ]
    },
    {
      "cell_type": "code",
      "metadata": {
        "id": "Ob5Fcegl61Vt"
      },
      "source": [
        "import time\n",
        "print(time.ctime())"
      ],
      "execution_count": null,
      "outputs": []
    },
    {
      "cell_type": "markdown",
      "metadata": {
        "id": "3jcHW3nRJpaE"
      },
      "source": [
        "## Exploring Data Tables\n",
        "\n",
        "Here is an example of a data table display:"
      ]
    },
    {
      "cell_type": "code",
      "metadata": {
        "id": "jcQEX_3vHOUz"
      },
      "source": [
        "import pandas as pd\n",
        "from google.colab import data_table\n",
        "\n",
        "data_table.enable_dataframe_formatter()\n",
        "\n",
        "URL = \"https://gist.githubusercontent.com/kevin336/5ea0e96813aa88871c20d315b5bf445c/raw/d8fcf5c2630ba12dd8802a2cdd5480621b6a0ea6/departments.csv\"\n",
        "\n",
        "data = pd.read_csv(URL)\n",
        "data"
      ],
      "execution_count": null,
      "outputs": []
    },
    {
      "cell_type": "markdown",
      "metadata": {
        "id": "Dv9IBN8eFvuo"
      },
      "source": [
        "A few interesting features of the data table display:\n",
        "\n",
        "- Clicking the <button>Filter</button> button in the upper right allows you to search for terms or values in any particular column.\n",
        "- Clicking on any column title lets you sort the results according to that column's value.\n",
        "- The table displays only a subset of the data at a time. You can navigate through pages of data using the controls on the lower right.\n"
      ]
    },
    {
      "cell_type": "markdown",
      "metadata": {
        "id": "AeEdNDQPA6Tq"
      },
      "source": [
        "# Course Contents"
      ]
    },
    {
      "cell_type": "markdown",
      "metadata": {
        "id": "HCeAX7L2c8l9"
      },
      "source": [
        "1. Introductions to the Features of Python  \n",
        "2. Programming Working Variables in Python \n",
        "3. Flow Control in Python \n",
        "4. Using Python Collection \n",
        "5. Working in Libraries in Python \n",
        "6. Program Structure"
      ]
    },
    {
      "cell_type": "markdown",
      "metadata": {
        "id": "_-1fH2TxA_Zj"
      },
      "source": [
        "# Introductions to the Features of Python  Programming"
      ]
    },
    {
      "cell_type": "markdown",
      "metadata": {
        "id": "YgijJF4ldYSY"
      },
      "source": [
        "What? How? Background? Features."
      ]
    },
    {
      "cell_type": "markdown",
      "metadata": {
        "id": "HuCk7JNsBG9B"
      },
      "source": [
        "# Working Variables in Python"
      ]
    },
    {
      "cell_type": "markdown",
      "metadata": {
        "id": "TQhrgu9fRfec"
      },
      "source": [
        "##Literals - Numbers"
      ]
    },
    {
      "cell_type": "code",
      "metadata": {
        "id": "1v40ytk3IHLv"
      },
      "source": [
        "6+6"
      ],
      "execution_count": null,
      "outputs": []
    },
    {
      "cell_type": "code",
      "metadata": {
        "id": "4xr4rq3mIHLx"
      },
      "source": [
        "4/2"
      ],
      "execution_count": null,
      "outputs": []
    },
    {
      "cell_type": "code",
      "metadata": {
        "id": "-NP0pg5nIHLy"
      },
      "source": [
        "3%2"
      ],
      "execution_count": null,
      "outputs": []
    },
    {
      "cell_type": "code",
      "metadata": {
        "id": "zaiAA4qJIHLy"
      },
      "source": [
        "3**2"
      ],
      "execution_count": null,
      "outputs": []
    },
    {
      "cell_type": "code",
      "metadata": {
        "id": "6ClRs_sNIHLy"
      },
      "source": [
        "3-2"
      ],
      "execution_count": null,
      "outputs": []
    },
    {
      "cell_type": "code",
      "metadata": {
        "id": "E6dfCUEGIHLz"
      },
      "source": [
        "5%2"
      ],
      "execution_count": null,
      "outputs": []
    },
    {
      "cell_type": "code",
      "metadata": {
        "id": "U83Me8sZIHLz"
      },
      "source": [
        "5%1"
      ],
      "execution_count": null,
      "outputs": []
    },
    {
      "cell_type": "markdown",
      "metadata": {
        "id": "26B90UaSRvwP"
      },
      "source": [
        "##Literals - Strings"
      ]
    },
    {
      "cell_type": "code",
      "metadata": {
        "id": "_NxVWjbzIHLz"
      },
      "source": [
        "\"Hello\""
      ],
      "execution_count": null,
      "outputs": []
    },
    {
      "cell_type": "code",
      "metadata": {
        "id": "0GBSZNKYIHLz"
      },
      "source": [
        "'hello'"
      ],
      "execution_count": null,
      "outputs": []
    },
    {
      "cell_type": "code",
      "metadata": {
        "id": "Jm8UL-lPIHL0"
      },
      "source": [
        "'\"hello\"'"
      ],
      "execution_count": null,
      "outputs": []
    },
    {
      "cell_type": "code",
      "metadata": {
        "id": "oKqR78svIHL0"
      },
      "source": [
        "print('hello')"
      ],
      "execution_count": null,
      "outputs": []
    },
    {
      "cell_type": "code",
      "metadata": {
        "id": "DKzA71s8IHL0"
      },
      "source": [
        "print(\"hello\")"
      ],
      "execution_count": null,
      "outputs": []
    },
    {
      "cell_type": "code",
      "metadata": {
        "id": "CKOaroWYIHL0"
      },
      "source": [
        "print('hello' + 'world')"
      ],
      "execution_count": null,
      "outputs": []
    },
    {
      "cell_type": "code",
      "metadata": {
        "id": "WSC1B0DyIHL0"
      },
      "source": [
        "print('hello' + ''+ 'world')"
      ],
      "execution_count": null,
      "outputs": []
    },
    {
      "cell_type": "code",
      "metadata": {
        "id": "T4BzDz6bIHL1"
      },
      "source": [
        "print('hello' + ' ' + 'world')"
      ],
      "execution_count": null,
      "outputs": []
    },
    {
      "cell_type": "code",
      "metadata": {
        "id": "Vp8EmOTEIHL1"
      },
      "source": [
        "print(\"can't\")"
      ],
      "execution_count": null,
      "outputs": []
    },
    {
      "cell_type": "code",
      "metadata": {
        "id": "9vwkA4U7IHL1"
      },
      "source": [
        "print('hello'*3)"
      ],
      "execution_count": null,
      "outputs": []
    },
    {
      "cell_type": "code",
      "metadata": {
        "id": "NDsLGsUMIHL1"
      },
      "source": [
        "print('hello' + '3')"
      ],
      "execution_count": null,
      "outputs": []
    },
    {
      "cell_type": "code",
      "metadata": {
        "id": "Ai96S3SQIHL1"
      },
      "source": [
        "print('hello '*3)"
      ],
      "execution_count": null,
      "outputs": []
    },
    {
      "cell_type": "code",
      "metadata": {
        "id": "7VI2ophRIHL1"
      },
      "source": [
        "print('hello\\n'*3)"
      ],
      "execution_count": null,
      "outputs": []
    },
    {
      "cell_type": "markdown",
      "metadata": {
        "id": "Jw3ChDl0R06u"
      },
      "source": [
        "##Numbers (int)"
      ]
    },
    {
      "cell_type": "code",
      "metadata": {
        "id": "XbaNfXfHIHL1"
      },
      "source": [
        "x = 2"
      ],
      "execution_count": null,
      "outputs": []
    },
    {
      "cell_type": "code",
      "metadata": {
        "id": "IaQluXKvIHL2"
      },
      "source": [
        "x"
      ],
      "execution_count": null,
      "outputs": []
    },
    {
      "cell_type": "code",
      "metadata": {
        "id": "ea4kjwhwIHL2"
      },
      "source": [
        "x == 2"
      ],
      "execution_count": null,
      "outputs": []
    },
    {
      "cell_type": "code",
      "metadata": {
        "id": "DTB48-y7IHL2"
      },
      "source": [
        "x ==3"
      ],
      "execution_count": null,
      "outputs": []
    },
    {
      "cell_type": "markdown",
      "metadata": {
        "id": "nSKTQSLBR_ot"
      },
      "source": [
        "##Numbers (float)"
      ]
    },
    {
      "cell_type": "code",
      "metadata": {
        "id": "YI8Odw1hIHL2"
      },
      "source": [
        "#float\n",
        "y = 3.5"
      ],
      "execution_count": null,
      "outputs": []
    },
    {
      "cell_type": "code",
      "metadata": {
        "id": "1mhN2EkxIHL2"
      },
      "source": [
        "y"
      ],
      "execution_count": null,
      "outputs": []
    },
    {
      "cell_type": "code",
      "metadata": {
        "id": "cBvx7N-KIHL2"
      },
      "source": [
        "type(x)"
      ],
      "execution_count": null,
      "outputs": []
    },
    {
      "cell_type": "code",
      "metadata": {
        "id": "JoMycWvQIHL3"
      },
      "source": [
        "type(y)"
      ],
      "execution_count": null,
      "outputs": []
    },
    {
      "cell_type": "code",
      "metadata": {
        "id": "raKeEySFIHL3"
      },
      "source": [
        "int(y)"
      ],
      "execution_count": null,
      "outputs": []
    },
    {
      "cell_type": "code",
      "metadata": {
        "id": "qHTlCR34IHL3"
      },
      "source": [
        "z=4.8"
      ],
      "execution_count": null,
      "outputs": []
    },
    {
      "cell_type": "code",
      "metadata": {
        "id": "pd5NgtHWIHL3"
      },
      "source": [
        "int(z)"
      ],
      "execution_count": null,
      "outputs": []
    },
    {
      "cell_type": "code",
      "metadata": {
        "id": "NzDzflnrIHL3"
      },
      "source": [
        "round(x)"
      ],
      "execution_count": null,
      "outputs": []
    },
    {
      "cell_type": "code",
      "metadata": {
        "id": "MeYO0APiIHL3"
      },
      "source": [
        "round(y)"
      ],
      "execution_count": null,
      "outputs": []
    },
    {
      "cell_type": "code",
      "metadata": {
        "id": "Rv48dooNIHL3"
      },
      "source": [
        "round(z)"
      ],
      "execution_count": null,
      "outputs": []
    },
    {
      "cell_type": "code",
      "metadata": {
        "id": "lR-PnTwoIHL3"
      },
      "source": [
        "z = 1.5"
      ],
      "execution_count": null,
      "outputs": []
    },
    {
      "cell_type": "code",
      "metadata": {
        "id": "-SaIWLdTIHL4"
      },
      "source": [
        "round(z)"
      ],
      "execution_count": null,
      "outputs": []
    },
    {
      "cell_type": "code",
      "metadata": {
        "id": "iJF2tbLbIHL4"
      },
      "source": [
        "z = 4.5"
      ],
      "execution_count": null,
      "outputs": []
    },
    {
      "cell_type": "code",
      "metadata": {
        "id": "__w4PXp_IHL4"
      },
      "source": [
        "round(z)"
      ],
      "execution_count": null,
      "outputs": []
    },
    {
      "cell_type": "code",
      "metadata": {
        "id": "nkIcquPdIHL4"
      },
      "source": [
        "float(z)"
      ],
      "execution_count": null,
      "outputs": []
    },
    {
      "cell_type": "code",
      "metadata": {
        "id": "iL2TCjptIHL4"
      },
      "source": [
        "a=2.5"
      ],
      "execution_count": null,
      "outputs": []
    },
    {
      "cell_type": "code",
      "metadata": {
        "id": "j3SaFy0OIHL4"
      },
      "source": [
        "round(a)"
      ],
      "execution_count": null,
      "outputs": []
    },
    {
      "cell_type": "code",
      "metadata": {
        "id": "UDBE8xiGIHL4"
      },
      "source": [
        "b = 3.5"
      ],
      "execution_count": null,
      "outputs": []
    },
    {
      "cell_type": "code",
      "metadata": {
        "id": "a4UZHhurIHL4"
      },
      "source": [
        "round(b)"
      ],
      "execution_count": null,
      "outputs": []
    },
    {
      "cell_type": "code",
      "metadata": {
        "id": "3ablssUwIHL4"
      },
      "source": [
        "c = 4.5"
      ],
      "execution_count": null,
      "outputs": []
    },
    {
      "cell_type": "code",
      "metadata": {
        "id": "J8FQa9a1IHL5"
      },
      "source": [
        "round(c)"
      ],
      "execution_count": null,
      "outputs": []
    },
    {
      "cell_type": "code",
      "metadata": {
        "id": "zO6WLO2BIHL5"
      },
      "source": [
        "d = 5.5"
      ],
      "execution_count": null,
      "outputs": []
    },
    {
      "cell_type": "code",
      "metadata": {
        "id": "e2coS4iCIHL5"
      },
      "source": [
        "round(d)"
      ],
      "execution_count": null,
      "outputs": []
    },
    {
      "cell_type": "markdown",
      "metadata": {
        "id": "WLZ-ueUiIHL5"
      },
      "source": [
        "##String(str)"
      ]
    },
    {
      "cell_type": "code",
      "metadata": {
        "id": "v4779_gBIHL6"
      },
      "source": [
        "a = 'hello'\n",
        "b = '5'"
      ],
      "execution_count": null,
      "outputs": []
    },
    {
      "cell_type": "code",
      "metadata": {
        "id": "UOe1kHMoIHL6"
      },
      "source": [
        "a"
      ],
      "execution_count": null,
      "outputs": []
    },
    {
      "cell_type": "code",
      "metadata": {
        "id": "SkyqxZ85IHL6"
      },
      "source": [
        "b"
      ],
      "execution_count": null,
      "outputs": []
    },
    {
      "cell_type": "code",
      "metadata": {
        "id": "lrBPS5G4IHL6"
      },
      "source": [
        "a = 'hello'\n",
        "b = 5"
      ],
      "execution_count": null,
      "outputs": []
    },
    {
      "cell_type": "code",
      "metadata": {
        "id": "FsGv6e5dIHL6"
      },
      "source": [
        "b"
      ],
      "execution_count": null,
      "outputs": []
    },
    {
      "cell_type": "code",
      "metadata": {
        "id": "alKVHa8VIHL6"
      },
      "source": [
        "type(b)"
      ],
      "execution_count": null,
      "outputs": []
    },
    {
      "cell_type": "markdown",
      "metadata": {
        "id": "9cAJqaHRIHL6"
      },
      "source": [
        "##Logical/Boolean"
      ]
    },
    {
      "cell_type": "code",
      "metadata": {
        "id": "CnxPMhyIIHL6"
      },
      "source": [
        "#Logical/Boolean\n",
        "L1 = True"
      ],
      "execution_count": null,
      "outputs": []
    },
    {
      "cell_type": "code",
      "metadata": {
        "id": "gOTFbqQAIHL7"
      },
      "source": [
        "type(L1)"
      ],
      "execution_count": null,
      "outputs": []
    },
    {
      "cell_type": "code",
      "metadata": {
        "id": "p57cnvouIHL7"
      },
      "source": [
        "a = 10"
      ],
      "execution_count": null,
      "outputs": []
    },
    {
      "cell_type": "code",
      "metadata": {
        "id": "TnWqd78UIHL7"
      },
      "source": [
        "b = 5"
      ],
      "execution_count": null,
      "outputs": []
    },
    {
      "cell_type": "markdown",
      "metadata": {
        "id": "TRILyeyvIHL7"
      },
      "source": [
        "##Aritmetics"
      ]
    },
    {
      "cell_type": "code",
      "metadata": {
        "id": "0BwwcYVNIHL7"
      },
      "source": [
        "#aritmetics\n",
        "c = a + b"
      ],
      "execution_count": null,
      "outputs": []
    },
    {
      "cell_type": "code",
      "metadata": {
        "id": "DzkgpaO2IHL7"
      },
      "source": [
        "c"
      ],
      "execution_count": null,
      "outputs": []
    },
    {
      "cell_type": "code",
      "metadata": {
        "id": "ECqBEimvIHL7"
      },
      "source": [
        "d = b / a"
      ],
      "execution_count": null,
      "outputs": []
    },
    {
      "cell_type": "code",
      "metadata": {
        "id": "ZP6m1xyOIHL7"
      },
      "source": [
        "d"
      ],
      "execution_count": null,
      "outputs": []
    },
    {
      "cell_type": "code",
      "metadata": {
        "id": "ELN1k_Y3IHL8"
      },
      "source": [
        "print(d)"
      ],
      "execution_count": null,
      "outputs": []
    },
    {
      "cell_type": "markdown",
      "metadata": {
        "id": "AwA0BEXsIHL8"
      },
      "source": [
        "## import library"
      ]
    },
    {
      "cell_type": "code",
      "metadata": {
        "id": "1M99WnQsIHL8"
      },
      "source": [
        "import math"
      ],
      "execution_count": null,
      "outputs": []
    },
    {
      "cell_type": "code",
      "metadata": {
        "id": "wucLiYEdIHL8"
      },
      "source": [
        "math.sqrt(16)"
      ],
      "execution_count": null,
      "outputs": []
    },
    {
      "cell_type": "code",
      "metadata": {
        "id": "nOvdz1HYIHL8"
      },
      "source": [
        "#show interger number ONLY\n",
        "int(math.sqrt(16))"
      ],
      "execution_count": null,
      "outputs": []
    },
    {
      "cell_type": "code",
      "metadata": {
        "id": "hfzq78eOIHL8"
      },
      "source": [
        "math.sqrt(a)"
      ],
      "execution_count": null,
      "outputs": []
    },
    {
      "cell_type": "code",
      "metadata": {
        "id": "Vcji9HNvIHL-"
      },
      "source": [
        "a"
      ],
      "execution_count": null,
      "outputs": []
    },
    {
      "cell_type": "code",
      "metadata": {
        "id": "KOpkHY34IHL-"
      },
      "source": [
        "math.floor(x)"
      ],
      "execution_count": null,
      "outputs": []
    },
    {
      "cell_type": "code",
      "metadata": {
        "id": "B-5-hMZLIHL-"
      },
      "source": [
        "x"
      ],
      "execution_count": null,
      "outputs": []
    },
    {
      "cell_type": "code",
      "metadata": {
        "id": "cChYEuMJIHL-"
      },
      "source": [
        "math.floor(y)"
      ],
      "execution_count": null,
      "outputs": []
    },
    {
      "cell_type": "code",
      "metadata": {
        "id": "6sHfP_dXIHL_"
      },
      "source": [
        "y"
      ],
      "execution_count": null,
      "outputs": []
    },
    {
      "cell_type": "code",
      "metadata": {
        "id": "s9jg4aExIHL_"
      },
      "source": [
        "z"
      ],
      "execution_count": null,
      "outputs": []
    },
    {
      "cell_type": "code",
      "metadata": {
        "id": "rWUs-uSvIHL_"
      },
      "source": [
        "math.floor(z)"
      ],
      "execution_count": null,
      "outputs": []
    },
    {
      "cell_type": "code",
      "metadata": {
        "id": "bgiHdd8NIHL_"
      },
      "source": [
        "math.ceil(z)"
      ],
      "execution_count": null,
      "outputs": []
    },
    {
      "cell_type": "code",
      "metadata": {
        "id": "VjNw-3fFIHL_"
      },
      "source": [
        "z"
      ],
      "execution_count": null,
      "outputs": []
    },
    {
      "cell_type": "code",
      "metadata": {
        "id": "PvM48RYSIHL_"
      },
      "source": [
        "math.ceil(2.2)"
      ],
      "execution_count": null,
      "outputs": []
    },
    {
      "cell_type": "code",
      "metadata": {
        "id": "TocPGWa-IHL_"
      },
      "source": [
        "list(1.5, 2.5, 3.5, 4.5, 5.5, 6.5, 7.5, 8.5, 9.5, 10.5)"
      ],
      "execution_count": null,
      "outputs": []
    },
    {
      "cell_type": "code",
      "metadata": {
        "id": "WtxmP5wAIHL_"
      },
      "source": [
        "#2 point rouded\n",
        "round(math.sqrt(a),2)"
      ],
      "execution_count": null,
      "outputs": []
    },
    {
      "cell_type": "markdown",
      "metadata": {
        "id": "U89n-OVGIHMA"
      },
      "source": [
        "## string combination"
      ]
    },
    {
      "cell_type": "code",
      "metadata": {
        "id": "OrdS7611IHMA"
      },
      "source": [
        "greeting = 'Hello'\n",
        "name = 'Bob'"
      ],
      "execution_count": null,
      "outputs": []
    },
    {
      "cell_type": "code",
      "metadata": {
        "id": "XDMaGwnvIHMA"
      },
      "source": [
        "message = greeting + ' ' + name"
      ],
      "execution_count": null,
      "outputs": []
    },
    {
      "cell_type": "code",
      "metadata": {
        "id": "nPjJPeiaIHMA"
      },
      "source": [
        "print(message)"
      ],
      "execution_count": null,
      "outputs": []
    },
    {
      "cell_type": "markdown",
      "metadata": {
        "id": "vTy3N1zJIHMA"
      },
      "source": [
        "## Boolean Statement"
      ]
    },
    {
      "cell_type": "code",
      "metadata": {
        "id": "VWDMv1j0IHMA"
      },
      "source": [
        "#Boolean / Logical : \n",
        "#Boolean operator or / and / not / != / == / < / > \n",
        "#True\n",
        "#False"
      ],
      "execution_count": null,
      "outputs": []
    },
    {
      "cell_type": "code",
      "metadata": {
        "id": "pNDDkZMbIHMA"
      },
      "source": [
        "3 > 2"
      ],
      "execution_count": null,
      "outputs": []
    },
    {
      "cell_type": "code",
      "metadata": {
        "id": "h-X_jQWWIHMB"
      },
      "source": [
        "2 > 3"
      ],
      "execution_count": null,
      "outputs": []
    },
    {
      "cell_type": "code",
      "metadata": {
        "id": "WRf_D9uZIHMB"
      },
      "source": [
        "#comparison\n",
        "1 == 2"
      ],
      "execution_count": null,
      "outputs": []
    },
    {
      "cell_type": "code",
      "metadata": {
        "id": "-RifrpC7IHMB"
      },
      "source": [
        "2 == 2"
      ],
      "execution_count": null,
      "outputs": []
    },
    {
      "cell_type": "code",
      "metadata": {
        "id": "b--Jzb-xIHMB"
      },
      "source": [
        "1 != 2"
      ],
      "execution_count": null,
      "outputs": []
    },
    {
      "cell_type": "code",
      "metadata": {
        "id": "BtuRJfwhIHMB"
      },
      "source": [
        "2 != 2"
      ],
      "execution_count": null,
      "outputs": []
    },
    {
      "cell_type": "code",
      "metadata": {
        "id": "E_pWLNIZIHMB"
      },
      "source": [
        "result = 2 < 3"
      ],
      "execution_count": null,
      "outputs": []
    },
    {
      "cell_type": "code",
      "metadata": {
        "id": "5xpCppb0IHMB"
      },
      "source": [
        "result"
      ],
      "execution_count": null,
      "outputs": []
    },
    {
      "cell_type": "code",
      "metadata": {
        "id": "x5kpO_6FIHMB"
      },
      "source": [
        "0 and 0"
      ],
      "execution_count": null,
      "outputs": []
    },
    {
      "cell_type": "code",
      "metadata": {
        "id": "SPBmmxmFIHMB"
      },
      "source": [
        "result2 = not(result)"
      ],
      "execution_count": null,
      "outputs": []
    },
    {
      "cell_type": "code",
      "metadata": {
        "id": "1xb1a6CPIHMC"
      },
      "source": [
        "result2"
      ],
      "execution_count": null,
      "outputs": []
    },
    {
      "cell_type": "code",
      "metadata": {
        "id": "dOv2n7wtIHMC"
      },
      "source": [
        "result or result2"
      ],
      "execution_count": null,
      "outputs": []
    },
    {
      "cell_type": "code",
      "metadata": {
        "id": "opsvv6KdIHMC"
      },
      "source": [
        "# 1 or 0 = 1 \n",
        "# 0 and 0 = 0\n",
        "# 1 and 0 = 0 #compulsary\n"
      ],
      "execution_count": null,
      "outputs": []
    },
    {
      "cell_type": "markdown",
      "metadata": {
        "id": "3M8wJz8OIHMD"
      },
      "source": [
        "## Exercise1"
      ]
    },
    {
      "cell_type": "code",
      "metadata": {
        "id": "rDUmfIJGIHMD"
      },
      "source": [
        "name = input('What is your name? ')\n",
        "age = input('What is your age? ')\n",
        "\n",
        "byear = (2018 - int(age))\n",
        "year100 = byear + 100\n",
        "\n",
        "print('Year at 100y/o ' + str(year100))"
      ],
      "execution_count": null,
      "outputs": []
    },
    {
      "cell_type": "code",
      "metadata": {
        "id": "c8ZodT23IHMD"
      },
      "source": [
        "#answer"
      ],
      "execution_count": null,
      "outputs": []
    },
    {
      "cell_type": "code",
      "metadata": {
        "id": "gP-Hukp1IHMD"
      },
      "source": [
        "name = input('What is your name? ')"
      ],
      "execution_count": null,
      "outputs": []
    },
    {
      "cell_type": "code",
      "metadata": {
        "id": "ZK7oJwCEIHMD"
      },
      "source": [
        "age = input('How old are you? ')"
      ],
      "execution_count": null,
      "outputs": []
    },
    {
      "cell_type": "code",
      "metadata": {
        "id": "HzRjOfK8IHME"
      },
      "source": [
        "hundred = 2018 + (100 - int(age))\n",
        "print('You will be 100 years old in the year ', hundred)"
      ],
      "execution_count": null,
      "outputs": []
    },
    {
      "cell_type": "code",
      "metadata": {
        "id": "_P2zjxZJIHME"
      },
      "source": [
        "name = input('What is your name? ')\n",
        "age = input('How old are you? ')\n",
        "hundred = 2018 + (100 - int(age))\n",
        "\n",
        "print('You will be 100 years old in the year ', hundred)"
      ],
      "execution_count": null,
      "outputs": []
    },
    {
      "cell_type": "markdown",
      "metadata": {
        "id": "iLp0QG1FBHEN"
      },
      "source": [
        "# Flow Control in Python"
      ]
    },
    {
      "cell_type": "code",
      "metadata": {
        "id": "gQvQpoxrbEoJ"
      },
      "source": [
        ""
      ],
      "execution_count": null,
      "outputs": []
    },
    {
      "cell_type": "markdown",
      "metadata": {
        "id": "iDACpZafIHME"
      },
      "source": [
        "## 'while' loop"
      ]
    },
    {
      "cell_type": "code",
      "metadata": {
        "id": "rgaPa29vIHME"
      },
      "source": [
        "#while loop example\n",
        "\n",
        "counter = 0\n",
        "\n",
        "while counter < 5:\n",
        "    print(counter)\n",
        "    counter = counter + 1\n",
        "    \n",
        "print('counter complete')"
      ],
      "execution_count": null,
      "outputs": []
    },
    {
      "cell_type": "markdown",
      "metadata": {
        "id": "s8Dvk1hsIHME"
      },
      "source": [
        "## 'for' loop"
      ]
    },
    {
      "cell_type": "code",
      "metadata": {
        "id": "h4WoZ0ITIHME"
      },
      "source": [
        "for i in range(5):\n",
        "    print('Hello')"
      ],
      "execution_count": null,
      "outputs": []
    },
    {
      "cell_type": "code",
      "metadata": {
        "id": "hI_JyAklIHME"
      },
      "source": [
        "range(5)"
      ],
      "execution_count": null,
      "outputs": []
    },
    {
      "cell_type": "code",
      "metadata": {
        "id": "OM1KlMinIHME"
      },
      "source": [
        "for i in range(5):\n",
        "    print('Hello', i)"
      ],
      "execution_count": null,
      "outputs": []
    },
    {
      "cell_type": "code",
      "metadata": {
        "id": "Nz6jCwlLIHMF"
      },
      "source": [
        "# i = 0,1,2,3,4"
      ],
      "execution_count": null,
      "outputs": []
    },
    {
      "cell_type": "code",
      "metadata": {
        "id": "0QnCt0ncIHMF"
      },
      "source": [
        "f = 5\n",
        "\n",
        "for i in range(5):\n",
        "    t = f*i\n",
        "    print(f, 'x', i, '=', t)"
      ],
      "execution_count": null,
      "outputs": []
    },
    {
      "cell_type": "markdown",
      "metadata": {
        "id": "prkr6NehIHMF"
      },
      "source": [
        "## 'if' loop"
      ]
    },
    {
      "cell_type": "code",
      "metadata": {
        "id": "6AojepDeIHMF"
      },
      "source": [
        "#if excute true/false\n",
        "\n",
        "a = 1\n",
        "b = 2\n",
        "\n",
        "if a < b:\n",
        "    print(a, 'is less than', b)"
      ],
      "execution_count": null,
      "outputs": []
    },
    {
      "cell_type": "code",
      "metadata": {
        "id": "Cl2O7HoxIHMF"
      },
      "source": [
        "c = 3\n",
        "d = 4\n",
        "\n",
        "if c < d:\n",
        "    print('c is less than d')\n",
        "else:\n",
        "    print('c is less than d')"
      ],
      "execution_count": null,
      "outputs": []
    },
    {
      "cell_type": "code",
      "metadata": {
        "id": "kt8KwUocIHMF"
      },
      "source": [
        "e = 8\n",
        "f = 9\n",
        "\n",
        "if e < f:\n",
        "    print('e is less than f')\n",
        "elif e == f:\n",
        "    print('e is equal to f')\n",
        "    \n",
        "else:\n",
        "    print('e is greater than f')\n",
        "    \n",
        "print('Example completed')"
      ],
      "execution_count": null,
      "outputs": []
    },
    {
      "cell_type": "markdown",
      "metadata": {
        "id": "kH6xAa_4IHMG"
      },
      "source": [
        "e = 8\n",
        "f = 8\n",
        "\n",
        "if e < f:\n",
        "    print('e is less than f')\n",
        "elif e == f:\n",
        "    print('e is equal to f')\n",
        "    \n",
        "else:\n",
        "    print('e is greater than f')\n",
        "    \n",
        "print('Example completed')"
      ]
    },
    {
      "cell_type": "markdown",
      "metadata": {
        "id": "mmBQ5iwCIHMG"
      },
      "source": [
        "## Exercise 2"
      ]
    },
    {
      "cell_type": "code",
      "metadata": {
        "id": "cPK4hhXWIHMG"
      },
      "source": [
        "wt = float(input('What is your weight(kg)? '))\n",
        "ht = float(input('How old are height(m)? '))\n",
        "BMI = wt/ht**2\n",
        "\n",
        "if BMI > 25:\n",
        "    print('overweight')\n",
        "else:\n",
        "    print('below weight')"
      ],
      "execution_count": null,
      "outputs": []
    },
    {
      "cell_type": "code",
      "metadata": {
        "id": "FxQ8y8IAIHMG"
      },
      "source": [
        "print('My BMI is ', BMI)"
      ],
      "execution_count": null,
      "outputs": []
    },
    {
      "cell_type": "code",
      "metadata": {
        "id": "pX-leYRSIHMG"
      },
      "source": [
        "if BMI > 25:\n",
        "    print('My BMI is ', round(BMI),'overweight')\n",
        "else:\n",
        "    print('My BMI is ', round(BMI),'below weight')"
      ],
      "execution_count": null,
      "outputs": []
    },
    {
      "cell_type": "code",
      "metadata": {
        "id": "4sWO3OXGIHMG"
      },
      "source": [
        "wt = float(input('What is your weight(kg)? '))\n",
        "ht = float(input('How old are height(m)? '))\n",
        "BMI = wt/ht**2\n",
        "\n",
        "if BMI > 25:\n",
        "    print('My BMI is ', BMI,'overweight')\n",
        "else:\n",
        "    print('My BMI is ', BMI,'below weight')"
      ],
      "execution_count": null,
      "outputs": []
    },
    {
      "cell_type": "markdown",
      "metadata": {
        "id": "4tGGRSKycGkP"
      },
      "source": [
        "#Working with Python Collections"
      ]
    },
    {
      "cell_type": "markdown",
      "metadata": {
        "id": "qDQprCajIHMG"
      },
      "source": [
        "## Data Types"
      ]
    },
    {
      "cell_type": "code",
      "metadata": {
        "id": "JTp_jYwJIHMH"
      },
      "source": [
        "#list/tuples/dictionaries"
      ],
      "execution_count": null,
      "outputs": []
    },
    {
      "cell_type": "code",
      "metadata": {
        "id": "vhzLST9rIHMH"
      },
      "source": [
        "l = [1,2,3]"
      ],
      "execution_count": null,
      "outputs": []
    },
    {
      "cell_type": "code",
      "metadata": {
        "id": "31LkOS9CIHMH"
      },
      "source": [
        "l[0] #index no."
      ],
      "execution_count": null,
      "outputs": []
    },
    {
      "cell_type": "code",
      "metadata": {
        "id": "XQeklR66IHMH"
      },
      "source": [
        "l[1]"
      ],
      "execution_count": null,
      "outputs": []
    },
    {
      "cell_type": "code",
      "metadata": {
        "id": "m5TkyBiZIHMH"
      },
      "source": [
        "l[2]"
      ],
      "execution_count": null,
      "outputs": []
    },
    {
      "cell_type": "code",
      "metadata": {
        "id": "aFqRXutTIHMH"
      },
      "source": [
        "# index and len(lenght)\n",
        "l = [1,2,3]\n",
        "l.index(1) #content"
      ],
      "execution_count": null,
      "outputs": []
    },
    {
      "cell_type": "code",
      "metadata": {
        "id": "1WwllRcLIHMH"
      },
      "source": [
        "l.index(2)"
      ],
      "execution_count": null,
      "outputs": []
    },
    {
      "cell_type": "code",
      "metadata": {
        "id": "IXq09dhnIHMI"
      },
      "source": [
        "l.index(3) "
      ],
      "execution_count": null,
      "outputs": []
    },
    {
      "cell_type": "code",
      "metadata": {
        "id": "r4WEjomvIHMI"
      },
      "source": [
        "l = [1,2,3]\n",
        "len(l) #number of length"
      ],
      "execution_count": null,
      "outputs": []
    },
    {
      "cell_type": "markdown",
      "metadata": {
        "id": "m8vgUnopIHMI"
      },
      "source": [
        "## append & extend"
      ]
    },
    {
      "cell_type": "code",
      "metadata": {
        "id": "YMbFbUk_IHMI"
      },
      "source": [
        "l = [1,2,3]\n",
        "l[0]\n",
        "l.append(9)"
      ],
      "execution_count": null,
      "outputs": []
    },
    {
      "cell_type": "code",
      "metadata": {
        "id": "bCI2lZYKIHMI"
      },
      "source": [
        "l"
      ],
      "execution_count": null,
      "outputs": []
    },
    {
      "cell_type": "code",
      "metadata": {
        "id": "xe04sKUEIHMI"
      },
      "source": [
        "l = [1,2,3]\n",
        "e = [4,5,7]\n",
        "\n",
        "l.extend(e)\n",
        "l"
      ],
      "execution_count": null,
      "outputs": []
    },
    {
      "cell_type": "code",
      "metadata": {
        "id": "JGK7F14RIHMI"
      },
      "source": [
        "e.extend(l)\n",
        "l"
      ],
      "execution_count": null,
      "outputs": []
    },
    {
      "cell_type": "markdown",
      "metadata": {
        "id": "UWw9pmp4IHMI"
      },
      "source": [
        "## insert & remove"
      ]
    },
    {
      "cell_type": "code",
      "metadata": {
        "id": "iafNu8LcIHMI"
      },
      "source": [
        "l = [ 1, True,'Hello']\n",
        "l.insert(2, 'John')\n",
        "l"
      ],
      "execution_count": null,
      "outputs": []
    },
    {
      "cell_type": "code",
      "metadata": {
        "id": "TU0Jr_6MIHMJ"
      },
      "source": [
        "l.remove('Hello')"
      ],
      "execution_count": null,
      "outputs": []
    },
    {
      "cell_type": "code",
      "metadata": {
        "id": "bvHeubnMIHMJ"
      },
      "source": [
        "l"
      ],
      "execution_count": null,
      "outputs": []
    },
    {
      "cell_type": "code",
      "metadata": {
        "id": "dVQGeqgNIHMJ"
      },
      "source": [
        "l.remove(l[0])\n",
        "l"
      ],
      "execution_count": null,
      "outputs": []
    },
    {
      "cell_type": "code",
      "metadata": {
        "id": "vVoW0I3BIHMJ"
      },
      "source": [
        "print(list(range(10)))"
      ],
      "execution_count": null,
      "outputs": []
    },
    {
      "cell_type": "code",
      "metadata": {
        "id": "RWZ5reG7IHMK"
      },
      "source": [
        "t = list(range(8))"
      ],
      "execution_count": null,
      "outputs": []
    },
    {
      "cell_type": "code",
      "metadata": {
        "id": "8LQtUjaiIHMK"
      },
      "source": [
        "t"
      ],
      "execution_count": null,
      "outputs": []
    },
    {
      "cell_type": "code",
      "metadata": {
        "id": "Z55ISzHzIHMK"
      },
      "source": [
        "list(range(0,4))"
      ],
      "execution_count": null,
      "outputs": []
    },
    {
      "cell_type": "code",
      "metadata": {
        "id": "AaBG1xpBIHMK"
      },
      "source": [
        "l = [8, 0.5, 'Hello']\n",
        "l.remove(8)\n",
        "l"
      ],
      "execution_count": null,
      "outputs": []
    },
    {
      "cell_type": "markdown",
      "metadata": {
        "id": "WzShm1nfIHMK"
      },
      "source": [
        "## True vs 1"
      ]
    },
    {
      "cell_type": "code",
      "metadata": {
        "id": "AIfz8qC3IHMK"
      },
      "source": [
        "n = [1, True, 2, 3, 'Hello']  #True=1\n",
        "c = n.count(True)\n",
        "c"
      ],
      "execution_count": null,
      "outputs": []
    },
    {
      "cell_type": "code",
      "metadata": {
        "id": "HmADaXGXIHMK"
      },
      "source": [
        "l = [1, 3, 4 , 6, 3, 4, 4, 4, 5]\n",
        "\n",
        "while l.count(3)>0:\n",
        "    l.remove(3)\n",
        "    \n",
        "l"
      ],
      "execution_count": null,
      "outputs": []
    },
    {
      "cell_type": "code",
      "metadata": {
        "id": "0giGj66DIHMK"
      },
      "source": [
        "b = [1, 3, 4 , 6, 3, 4, 4, 4, 5]\n",
        "while 4 in b:\n",
        "    b.remove(4)    \n",
        "b"
      ],
      "execution_count": null,
      "outputs": []
    },
    {
      "cell_type": "code",
      "metadata": {
        "id": "czljpOfLIHMK"
      },
      "source": [
        "b"
      ],
      "execution_count": null,
      "outputs": []
    },
    {
      "cell_type": "code",
      "metadata": {
        "id": "8I3-76seIHMK"
      },
      "source": [
        "l = [1, True, 'Hello']\n",
        "l.pop()  #remove last object\n",
        "l"
      ],
      "execution_count": null,
      "outputs": []
    },
    {
      "cell_type": "code",
      "metadata": {
        "id": "pFHUxns-IHML"
      },
      "source": [
        "l = [8, 0.5, 'Hello', 0.5, 0.5]\n",
        "l.count(0.5) #count no of object"
      ],
      "execution_count": null,
      "outputs": []
    },
    {
      "cell_type": "code",
      "metadata": {
        "id": "N0Bx1BmVIHML"
      },
      "source": [
        "l.pop(0)  #remove last object\n"
      ],
      "execution_count": null,
      "outputs": []
    },
    {
      "cell_type": "code",
      "metadata": {
        "id": "9Y_aB55GIHML"
      },
      "source": [
        "l"
      ],
      "execution_count": null,
      "outputs": []
    },
    {
      "cell_type": "markdown",
      "metadata": {
        "id": "H67TjSnyIHML"
      },
      "source": [
        "## Training"
      ]
    },
    {
      "cell_type": "code",
      "metadata": {
        "id": "DXmgoGtsIHML"
      },
      "source": [
        "list(range(0,4))"
      ],
      "execution_count": null,
      "outputs": []
    },
    {
      "cell_type": "code",
      "metadata": {
        "id": "y4fqbTCXIHML"
      },
      "source": [
        "l.insert(1, 'a')"
      ],
      "execution_count": null,
      "outputs": []
    },
    {
      "cell_type": "code",
      "metadata": {
        "id": "cmkaZhpPIHML"
      },
      "source": [
        "l"
      ],
      "execution_count": null,
      "outputs": []
    },
    {
      "cell_type": "code",
      "metadata": {
        "id": "C9udDCnZIHMM"
      },
      "source": [
        "while l.count('a')>0:\n",
        "    l.remove('a')\n",
        "\n",
        "l"
      ],
      "execution_count": null,
      "outputs": []
    },
    {
      "cell_type": "code",
      "metadata": {
        "id": "WxPIAmGOIHMM"
      },
      "source": [
        "while 'John' in l:\n",
        "    l.remove('John')\n",
        "\n",
        "l"
      ],
      "execution_count": null,
      "outputs": []
    },
    {
      "cell_type": "markdown",
      "metadata": {
        "id": "9ZLv7djrIHMM"
      },
      "source": [
        "## sort"
      ]
    },
    {
      "cell_type": "code",
      "metadata": {
        "id": "JiHRX2UkIHMM"
      },
      "source": [
        "l = [1, 5, 2]\n",
        "l.sort()  #ascending\n",
        "l"
      ],
      "execution_count": null,
      "outputs": []
    },
    {
      "cell_type": "code",
      "metadata": {
        "id": "BWL4hrwzIHMM"
      },
      "source": [
        ""
      ],
      "execution_count": null,
      "outputs": []
    },
    {
      "cell_type": "code",
      "metadata": {
        "id": "NHTtgx4vIHMM"
      },
      "source": [
        "l = [1, 5, 2]\n",
        "l.sort(reverse=True)  #descending\n",
        "l"
      ],
      "execution_count": null,
      "outputs": []
    },
    {
      "cell_type": "code",
      "metadata": {
        "id": "3HR2JjAaIHMN"
      },
      "source": [
        "n = int(input(\"Input a number \"))\n",
        "d = {}\n",
        "        \n",
        "for x in range (1, n+1):\n",
        "        d[x]=x**2\n",
        "        \n",
        "print(d)"
      ],
      "execution_count": null,
      "outputs": []
    },
    {
      "cell_type": "markdown",
      "metadata": {
        "id": "UX-Qkr9BBHJ9"
      },
      "source": [
        "#Working in Libraries in Python"
      ]
    },
    {
      "cell_type": "markdown",
      "metadata": {
        "id": "HV8SSFBycvBY"
      },
      "source": [
        "#Program Structure"
      ]
    },
    {
      "cell_type": "code",
      "metadata": {
        "id": "jEhFiJJgcsIK"
      },
      "source": [
        ""
      ],
      "execution_count": null,
      "outputs": []
    }
  ]
}
