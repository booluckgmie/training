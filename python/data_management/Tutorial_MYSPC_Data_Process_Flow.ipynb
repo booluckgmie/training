{
  "nbformat": 4,
  "nbformat_minor": 0,
  "metadata": {
    "colab": {
      "name": "Tutorial MYSPC Data Process Flow",
      "private_outputs": true,
      "provenance": [],
      "collapsed_sections": [
        "HvDjtCHnvrUs",
        "BrnWFSoAxn4O",
        "3Y99R3ETv0Wm"
      ]
    },
    "kernelspec": {
      "name": "python3",
      "display_name": "Python 3"
    },
    "language_info": {
      "name": "python"
    }
  },
  "cells": [
    {
      "cell_type": "markdown",
      "metadata": {
        "id": "rCxdRzmTPRHk"
      },
      "source": [
        "# Load data from your local drive\n",
        "\n",
        "Start by writing the following and run the code cell :"
      ]
    },
    {
      "cell_type": "code",
      "metadata": {
        "id": "jNBlRDZSMe9a"
      },
      "source": [
        "from google.colab import files\n",
        "data_to_load = files.upload()"
      ],
      "execution_count": null,
      "outputs": []
    },
    {
      "cell_type": "markdown",
      "metadata": {
        "id": "2VfDvNLlPkx6"
      },
      "source": [
        "2. You will be asked to select a file. Click on “Choose files” then select and download the csv file of your choice. You should see the name of the file displayed after Colab downloads it.\n",
        "\n",
        "3. Finally, write the following code to import your file into a Pandas DataFrame (make sure the file name matches the name of the downloaded file)."
      ]
    },
    {
      "cell_type": "markdown",
      "metadata": {
        "id": "ax2hy9bjYQU9"
      },
      "source": [
        "## Read/Open Data"
      ]
    },
    {
      "cell_type": "markdown",
      "metadata": {
        "id": "I8ahkSjIzFqb"
      },
      "source": [
        "Import Libraries and Data"
      ]
    },
    {
      "cell_type": "code",
      "metadata": {
        "id": "vypcLh2Ognpw"
      },
      "source": [
        "import pandas as pd\n",
        "from google.colab import data_table\n",
        "data_table.enable_dataframe_formatter()"
      ],
      "execution_count": null,
      "outputs": []
    },
    {
      "cell_type": "markdown",
      "metadata": {
        "id": "uQ9sUqLwgKo4"
      },
      "source": [
        "###excel"
      ]
    },
    {
      "cell_type": "code",
      "metadata": {
        "id": "1IDpUftHMjLJ"
      },
      "source": [
        "import io\n",
        "df = pd.read_excel(io.BytesIO(data_to_load['APPEND_ALL_DATASET.xlsx']))"
      ],
      "execution_count": null,
      "outputs": []
    },
    {
      "cell_type": "code",
      "metadata": {
        "id": "MazNCYLfxcil"
      },
      "source": [
        "df = pd.DataFrame(data=df)\n",
        "df.head()"
      ],
      "execution_count": null,
      "outputs": []
    },
    {
      "cell_type": "markdown",
      "metadata": {
        "id": "pZcpTSsrgPbi"
      },
      "source": [
        "###CSV"
      ]
    },
    {
      "cell_type": "code",
      "metadata": {
        "id": "NoCIvS4GgQ4f"
      },
      "source": [
        "data = pd.read_csv('/content/sample_data/california_housing_test.csv')"
      ],
      "execution_count": null,
      "outputs": []
    },
    {
      "cell_type": "code",
      "metadata": {
        "id": "XYpk795sgi0e"
      },
      "source": [
        "data"
      ],
      "execution_count": null,
      "outputs": []
    },
    {
      "cell_type": "markdown",
      "metadata": {
        "id": "mzSK34BBYwME"
      },
      "source": [
        "##Alternative Open Large dataset"
      ]
    },
    {
      "cell_type": "markdown",
      "metadata": {
        "id": "KN8DECK6k0ky"
      },
      "source": [
        "###Chunk Pandas"
      ]
    },
    {
      "cell_type": "code",
      "metadata": {
        "id": "AfwnnB48Y1yo"
      },
      "source": [
        "#load profil\n",
        "allprofil = pd.DataFrame()\n",
        "for chunk in pd.read_csv(\"identifier_profil.csv\", chunksize=1000000, low_memory=False):\n",
        "    allprofil = pd.concat([allprofil,chunk])\n"
      ],
      "execution_count": null,
      "outputs": []
    },
    {
      "cell_type": "markdown",
      "metadata": {
        "id": "waPXZYeik7pX"
      },
      "source": [
        "###Modin"
      ]
    },
    {
      "cell_type": "code",
      "metadata": {
        "id": "VaaIDbSkkpoN"
      },
      "source": [
        "import ray\n",
        "ray.init(num_cpus=4)\n",
        "import modin.pandas as mpd\n",
        "\n",
        "#export MODIN_OUT_OF_CORE=true"
      ],
      "execution_count": null,
      "outputs": []
    },
    {
      "cell_type": "code",
      "metadata": {
        "id": "pBLDkjw6kwJV"
      },
      "source": [
        "modin_data = mpd.read_csv('PDPS_PROFIL_21SEPT.csv', sep='|')"
      ],
      "execution_count": null,
      "outputs": []
    },
    {
      "cell_type": "markdown",
      "metadata": {
        "id": "usc5Jf-_zM56"
      },
      "source": [
        "## Merge Multiple Files to ONE file"
      ]
    },
    {
      "cell_type": "code",
      "metadata": {
        "id": "f3Oddpu9r-6u"
      },
      "source": [
        "!pip install -q xlrd\n",
        "import pandas as pd\n",
        "df1 = pd.read_excel('/content/DATASET01.xlsx')\n",
        "df2 = pd.read_excel('/content/DATASET02.xlsx')\n",
        "df3 = pd.read_excel('/content/DATASET03.xlsx')\n"
      ],
      "execution_count": null,
      "outputs": []
    },
    {
      "cell_type": "code",
      "metadata": {
        "id": "4PhiSBUewdy6"
      },
      "source": [
        "import os\n",
        "import glob\n",
        "import pandas as pd\n",
        "os.chdir(\"/content\")\n",
        "\n",
        "extension = 'xlsx'\n",
        "all_filenames = [i for i in glob.glob('*.{}'.format(extension))]\n",
        "\n",
        "#combine all files in the list\n",
        "combined = pd.concat([pd.read_excel(f) for f in all_filenames ])\n",
        "#export to csv\n",
        "#combined_csv.to_csv( \"combined_csv.csv\", index=False, encoding='utf-8-sig')\n",
        "\n"
      ],
      "execution_count": null,
      "outputs": []
    },
    {
      "cell_type": "markdown",
      "metadata": {
        "id": "praW-wKlzSen"
      },
      "source": [
        "## Check Data Properties\n",
        "Total Line of rows, Data Properties"
      ]
    },
    {
      "cell_type": "code",
      "metadata": {
        "id": "3hofDxAey00R"
      },
      "source": [
        "len(df1)+len(df2)+len(df3)"
      ],
      "execution_count": null,
      "outputs": []
    },
    {
      "cell_type": "code",
      "metadata": {
        "id": "XXNXh_xHy4gn"
      },
      "source": [
        "#combined.info()\n",
        "df.info()"
      ],
      "execution_count": null,
      "outputs": []
    },
    {
      "cell_type": "code",
      "metadata": {
        "id": "JAMUU7RGmtbY"
      },
      "source": [
        "df.shape"
      ],
      "execution_count": null,
      "outputs": []
    },
    {
      "cell_type": "code",
      "metadata": {
        "id": "SGZUmT1amvht"
      },
      "source": [
        "df.describe()"
      ],
      "execution_count": null,
      "outputs": []
    },
    {
      "cell_type": "markdown",
      "metadata": {
        "id": "B-6ULkrWdye8"
      },
      "source": [
        "## Change Datatype"
      ]
    },
    {
      "cell_type": "code",
      "metadata": {
        "id": "QNBO3AUAdxeU"
      },
      "source": [
        "df['no_passport'] = df['no_passport'].apply(str)\n",
        "df['no_daftar_majikan'] = df['no_daftar_majikan'].apply(str)\n",
        "df['id_jenis_pekerjaan'] = df['id_jenis_pekerjaan'].apply(str)"
      ],
      "execution_count": null,
      "outputs": []
    },
    {
      "cell_type": "code",
      "metadata": {
        "id": "vfuTQc_JofzF"
      },
      "source": [
        "bant['nilai_bantuan_diterima'] = bant['nilai_bantuan_diterima'].astype('float')\n",
        "bant['kadar_bantuan_diterima'] = bant['kadar_bantuan_diterima'].astype('float')"
      ],
      "execution_count": null,
      "outputs": []
    },
    {
      "cell_type": "markdown",
      "metadata": {
        "id": "CM_UmkMGsSma"
      },
      "source": [
        "##Rename Column"
      ]
    },
    {
      "cell_type": "code",
      "metadata": {
        "id": "ResQCzIjsXTO"
      },
      "source": [
        "#rename header with index\n",
        "\n",
        "mapping = {\n",
        "    df.columns[0]:\"no_kp2\",\n",
        "    df.columns[1]:\"no_kp_lama2\"\n",
        "    }\n",
        "\n",
        "batch1 = df.rename(columns=mapping)\n",
        "batch1.head()"
      ],
      "execution_count": null,
      "outputs": []
    },
    {
      "cell_type": "code",
      "metadata": {
        "id": "bnhUZj5NtB1i"
      },
      "source": [
        "df = df.rename(columns = {'nama': 'nama2'}, inplace = False)\n",
        "df = df.rename(columns = {'no_tel': 'no_tel2'}, inplace = False)"
      ],
      "execution_count": null,
      "outputs": []
    },
    {
      "cell_type": "code",
      "metadata": {
        "id": "rElWPqYNtSui"
      },
      "source": [
        "df.head()"
      ],
      "execution_count": null,
      "outputs": []
    },
    {
      "cell_type": "markdown",
      "metadata": {
        "id": "nbWmeW9vhW0z"
      },
      "source": [
        "# Data Wrangling"
      ]
    },
    {
      "cell_type": "markdown",
      "metadata": {
        "id": "hEhbO79VZz38"
      },
      "source": [
        "## Fix leading zero"
      ]
    },
    {
      "cell_type": "code",
      "metadata": {
        "id": "Sp8wpCnCaCLN"
      },
      "source": [
        "df['no_kp'] = df['no_kp'].apply(str)\n",
        "df['no_kp'] = df['no_kp'].apply(lambda x:'{0:0>12}'.format(x))\n",
        "df.no_kp = df.no_kp.apply(\"{}\".format)"
      ],
      "execution_count": null,
      "outputs": []
    },
    {
      "cell_type": "code",
      "metadata": {
        "id": "at1eGyLwZzS8"
      },
      "source": [
        "df['no_kp'].head() "
      ],
      "execution_count": null,
      "outputs": []
    },
    {
      "cell_type": "code",
      "metadata": {
        "id": "lHLPPXrqhDuQ"
      },
      "source": [
        "df[df['no_kp'].str.contains('000')]\n",
        "#zero = df[df['no_kp'].str.contains('000')]\n",
        "#zero.to_csv('zerotest3.csv', sep ='|', index=False)"
      ],
      "execution_count": null,
      "outputs": []
    },
    {
      "cell_type": "markdown",
      "metadata": {
        "id": "HVYqwBOQZsWk"
      },
      "source": [
        "## Check Duplication"
      ]
    },
    {
      "cell_type": "code",
      "metadata": {
        "id": "8fPmy_rCdiU2"
      },
      "source": [
        "#check duplication\n",
        "df.duplicated(subset=['no_kp']).sum()\n",
        "df.loc[df.duplicated(subset=['no_kp'], keep=False), :]\n",
        "df.drop_duplicates(keep='last')"
      ],
      "execution_count": null,
      "outputs": []
    },
    {
      "cell_type": "code",
      "metadata": {
        "id": "X4il4qtRm0gt"
      },
      "source": [
        "df.duplicated(subset=['no_kp']).sum()"
      ],
      "execution_count": null,
      "outputs": []
    },
    {
      "cell_type": "markdown",
      "metadata": {
        "id": "_t8EwaNDhgQv"
      },
      "source": [
        "##all string to uppercase"
      ]
    },
    {
      "cell_type": "code",
      "metadata": {
        "id": "9FPrPSM3hdER"
      },
      "source": [
        "df = df.applymap(lambda s: s.upper() if type(s) == str else s)"
      ],
      "execution_count": null,
      "outputs": []
    },
    {
      "cell_type": "markdown",
      "metadata": {
        "id": "7iDXkhUchkAV"
      },
      "source": [
        "##remove unwanted character alamat_1/ #remove unicode ?"
      ]
    },
    {
      "cell_type": "code",
      "metadata": {
        "id": "aeSrFwyJhnFh"
      },
      "source": [
        "df['alamat_1'] = df['alamat_1'].astype(str)\n",
        "df['alamat_1'].head()\n",
        "df['alamat_1'] =  df['alamat_1'].str.replace('[^\\x00-\\x7F]','', regex=True)"
      ],
      "execution_count": null,
      "outputs": []
    },
    {
      "cell_type": "markdown",
      "metadata": {
        "id": "9C2-35iViZZz"
      },
      "source": [
        "##convert tarikh_mula, tarikh_tamat to formating"
      ]
    },
    {
      "cell_type": "code",
      "metadata": {
        "id": "fgT-ssUsoFH5"
      },
      "source": [
        "import datetime"
      ],
      "execution_count": null,
      "outputs": []
    },
    {
      "cell_type": "code",
      "metadata": {
        "id": "3TGZgqzviLFI"
      },
      "source": [
        "df['tarikh_mula'] = df['tarikh_mula'].astype('datetime64[ns]')\n",
        "df['tarikh_tamat'] = df['tarikh_tamat'].astype('datetime64[ns]')"
      ],
      "execution_count": null,
      "outputs": []
    },
    {
      "cell_type": "markdown",
      "metadata": {
        "id": "uk2OC9Ziic2h"
      },
      "source": [
        "##NaT_NULL to None"
      ]
    },
    {
      "cell_type": "code",
      "metadata": {
        "id": "ZQCSOTVdiK82"
      },
      "source": [
        "import numpy as np\n",
        "df['tarikh_mula'].replace(np.nan,'None', inplace=True)\n",
        "df['tarikh_tamat'].replace(np.nan,'None', inplace=True)"
      ],
      "execution_count": null,
      "outputs": []
    },
    {
      "cell_type": "markdown",
      "metadata": {
        "id": "HFlcnU52ihWE"
      },
      "source": [
        "##Try converting your NaN to None since MySQL understands None and in the UI you'll see NULL"
      ]
    },
    {
      "cell_type": "code",
      "metadata": {
        "id": "BLsx_Ow_iK31"
      },
      "source": [
        "df = df.where(pd.notnull(df), None)\n"
      ],
      "execution_count": null,
      "outputs": []
    },
    {
      "cell_type": "markdown",
      "metadata": {
        "id": "8ITtVBR8iny1"
      },
      "source": [
        "##save float in 2decimal"
      ]
    },
    {
      "cell_type": "code",
      "metadata": {
        "id": "OzJdLA-5iKwb"
      },
      "source": [
        "df.to_csv('programtest.csv', float_format='%.2f', date_format='%Y-%m-%d %H:%M:%S', index=False, sep='|')"
      ],
      "execution_count": null,
      "outputs": []
    },
    {
      "cell_type": "code",
      "metadata": {
        "id": "Tk3NBXaJqAVd"
      },
      "source": [
        "df_copy[''] = df\n",
        "df_copy.index += 1 "
      ],
      "execution_count": null,
      "outputs": []
    },
    {
      "cell_type": "code",
      "metadata": {
        "id": "JorqOjYsqG_g"
      },
      "source": [
        "df_copy.index"
      ],
      "execution_count": null,
      "outputs": []
    },
    {
      "cell_type": "code",
      "metadata": {
        "id": "lGicoSCcqMkR"
      },
      "source": [
        "df_copy.head()"
      ],
      "execution_count": null,
      "outputs": []
    },
    {
      "cell_type": "markdown",
      "metadata": {
        "id": "6Kxgi0SjryZ_"
      },
      "source": [
        "##Summary (SUM/COUNT) report NA by agensi by variable"
      ]
    },
    {
      "cell_type": "code",
      "metadata": {
        "id": "EkzrHXytrQOe"
      },
      "source": [
        "df.set_index('id_agensi').isna().sum(level=0)"
      ],
      "execution_count": null,
      "outputs": []
    },
    {
      "cell_type": "code",
      "metadata": {
        "id": "TQjDqcG0rZWx"
      },
      "source": [
        "b3 = df.set_index('id_agensi').isna().sum(level=0)\n",
        "b3.to_csv('byagensi.csv')\n"
      ],
      "execution_count": null,
      "outputs": []
    },
    {
      "cell_type": "markdown",
      "metadata": {
        "id": "cW7UaUHneEzO"
      },
      "source": [
        "## Validation Data"
      ]
    },
    {
      "cell_type": "code",
      "metadata": {
        "id": "NOOPKpqsXxvk"
      },
      "source": [
        "!pip install sidetable\n",
        "import sidetable as stb"
      ],
      "execution_count": null,
      "outputs": []
    },
    {
      "cell_type": "code",
      "metadata": {
        "id": "lJMnF3Kmnefp"
      },
      "source": [
        "df.stb.freq(['tahun_lahir'])"
      ],
      "execution_count": null,
      "outputs": []
    },
    {
      "cell_type": "code",
      "metadata": {
        "id": "oHg3SzQciuk9"
      },
      "source": [
        "df.stb.freq(['id_agensi'], style=True)"
      ],
      "execution_count": null,
      "outputs": []
    },
    {
      "cell_type": "code",
      "metadata": {
        "id": "rtxE-IUyf867"
      },
      "source": [
        "df.reset_index(inplace=True)"
      ],
      "execution_count": null,
      "outputs": []
    },
    {
      "cell_type": "code",
      "metadata": {
        "id": "e6ZU1nqYjher"
      },
      "source": [
        "#exact search\n",
        "df['id'] = df['id'].apply(str)\n",
        "df[df['id'].str.contains(r'\\b18\\b')]"
      ],
      "execution_count": null,
      "outputs": []
    },
    {
      "cell_type": "code",
      "metadata": {
        "id": "EZzPde_lfPNC"
      },
      "source": [
        "df[df['nama'].str.contains(\"'\")]"
      ],
      "execution_count": null,
      "outputs": []
    },
    {
      "cell_type": "markdown",
      "metadata": {
        "id": "u8AmvwmCteju"
      },
      "source": [
        "#Recode Values"
      ]
    },
    {
      "cell_type": "markdown",
      "metadata": {
        "id": "HvDjtCHnvrUs"
      },
      "source": [
        "##Parlimen ID"
      ]
    },
    {
      "cell_type": "code",
      "metadata": {
        "id": "-NkTmB6SrC36"
      },
      "source": [
        "df.stb.freq(['id_parlimen'])"
      ],
      "execution_count": null,
      "outputs": []
    },
    {
      "cell_type": "code",
      "metadata": {
        "id": "ND0Waq5_t8pW"
      },
      "source": [
        "df['id_parlimen']=df['id_parlimen'].replace({\n",
        "    \"P001\":1,\n",
        "    \"P002\":2,\n",
        "    \"P003\":3,\n",
        "    \"P004\":4,\n",
        "    \"P005\":5,\n",
        "    \"P006\":6,\n",
        "    \"P007\":7,\n",
        "    \"P008\":8,\n",
        "    \"P009\":9,\n",
        "    \"P010\":10,\n",
        "    \"P011\":11,\n",
        "    \"P012\":12,\n",
        "    \"P013\":13,\n",
        "    \"P014\":14,\n",
        "    \"P015\":15,\n",
        "    \"P016\":16,\n",
        "    \"P017\":17,\n",
        "    \"P018\":18,\n",
        "    \"P019\":19,\n",
        "    \"P020\":20,\n",
        "    \"P021\":21,\n",
        "    \"P022\":22,\n",
        "    \"P023\":23,\n",
        "    \"P024\":24,\n",
        "    \"P025\":25,\n",
        "    \"P026\":26,\n",
        "    \"P027\":27,\n",
        "    \"P028\":28,\n",
        "    \"P029\":29,\n",
        "    \"P030\":30,\n",
        "    \"P031\":31,\n",
        "    \"P032\":32,\n",
        "    \"P033\":33,\n",
        "    \"P034\":34,\n",
        "    \"P035\":35,\n",
        "    \"P036\":36,\n",
        "    \"P037\":37,\n",
        "    \"P038\":38,\n",
        "    \"P039\":39,\n",
        "    \"P040\":40,\n",
        "    \"P041\":41,\n",
        "    \"P042\":42,\n",
        "    \"P043\":43,\n",
        "    \"P044\":44,\n",
        "    \"P045\":45,\n",
        "    \"P046\":46,\n",
        "    \"P047\":47,\n",
        "    \"P048\":48,\n",
        "    \"P049\":49,\n",
        "    \"P050\":50,\n",
        "    \"P051\":51,\n",
        "    \"P052\":52,\n",
        "    \"P053\":53,\n",
        "    \"P054\":54,\n",
        "    \"P055\":55,\n",
        "    \"P056\":56,\n",
        "    \"P057\":57,\n",
        "    \"P058\":58,\n",
        "    \"P059\":59,\n",
        "    \"P060\":60,\n",
        "    \"P061\":61,\n",
        "    \"P062\":62,\n",
        "    \"P063\":63,\n",
        "    \"P064\":64,\n",
        "    \"P065\":65,\n",
        "    \"P066\":66,\n",
        "    \"P067\":67,\n",
        "    \"P068\":68,\n",
        "    \"P069\":69,\n",
        "    \"P070\":70,\n",
        "    \"P071\":71,\n",
        "    \"P072\":72,\n",
        "    \"P073\":73,\n",
        "    \"P074\":74,\n",
        "    \"P075\":75,\n",
        "    \"P076\":76,\n",
        "    \"P077\":77,\n",
        "    \"P078\":78,\n",
        "    \"P079\":79,\n",
        "    \"P080\":80,\n",
        "    \"P081\":81,\n",
        "    \"P082\":82,\n",
        "    \"P083\":83,\n",
        "    \"P084\":84,\n",
        "    \"P085\":85,\n",
        "    \"P086\":86,\n",
        "    \"P087\":87,\n",
        "    \"P088\":88,\n",
        "    \"P089\":89,\n",
        "    \"P090\":90,\n",
        "    \"P091\":91,\n",
        "    \"P092\":92,\n",
        "    \"P093\":93,\n",
        "    \"P094\":94,\n",
        "    \"P095\":95,\n",
        "    \"P096\":96,\n",
        "    \"P097\":97,\n",
        "    \"P098\":98,\n",
        "    \"P099\":99,\n",
        "    \"P100\":100,\n",
        "    \"P101\":101,\n",
        "    \"P102\":102,\n",
        "    \"P103\":103,\n",
        "    \"P104\":104,\n",
        "    \"P105\":105,\n",
        "    \"P106\":106,\n",
        "    \"P107\":107,\n",
        "    \"P108\":108,\n",
        "    \"P109\":109,\n",
        "    \"P110\":110,\n",
        "    \"P111\":111,\n",
        "    \"P112\":112,\n",
        "    \"P113\":113,\n",
        "    \"P114\":114,\n",
        "    \"P115\":115,\n",
        "    \"P116\":116,\n",
        "    \"P117\":117,\n",
        "    \"P118\":118,\n",
        "    \"P119\":119,\n",
        "    \"P120\":120,\n",
        "    \"P121\":121,\n",
        "    \"P122\":122,\n",
        "    \"P123\":123,\n",
        "    \"P124\":124,\n",
        "    \"P125\":125,\n",
        "    \"P126\":126,\n",
        "    \"P127\":127,\n",
        "    \"P128\":128,\n",
        "    \"P129\":129,\n",
        "    \"P130\":130,\n",
        "    \"P131\":131,\n",
        "    \"P132\":132,\n",
        "    \"P133\":133,\n",
        "    \"P134\":134,\n",
        "    \"P135\":135,\n",
        "    \"P136\":136,\n",
        "    \"P137\":137,\n",
        "    \"P138\":138,\n",
        "    \"P139\":139,\n",
        "    \"P140\":140,\n",
        "    \"P141\":141,\n",
        "    \"P142\":142,\n",
        "    \"P143\":143,\n",
        "    \"P144\":144,\n",
        "    \"P145\":145,\n",
        "    \"P146\":146,\n",
        "    \"P147\":147,\n",
        "    \"P148\":148,\n",
        "    \"P149\":149,\n",
        "    \"P150\":150,\n",
        "    \"P151\":151,\n",
        "    \"P152\":152,\n",
        "    \"P153\":153,\n",
        "    \"P154\":154,\n",
        "    \"P155\":155,\n",
        "    \"P156\":156,\n",
        "    \"P157\":157,\n",
        "    \"P158\":158,\n",
        "    \"P159\":159,\n",
        "    \"P160\":160,\n",
        "    \"P161\":161,\n",
        "    \"P162\":162,\n",
        "    \"P163\":163,\n",
        "    \"P164\":164,\n",
        "    \"P165\":165,\n",
        "    \"P166\":166,\n",
        "    \"P167\":167,\n",
        "    \"P168\":168,\n",
        "    \"P169\":169,\n",
        "    \"P170\":170,\n",
        "    \"P171\":171,\n",
        "    \"P172\":172,\n",
        "    \"P173\":173,\n",
        "    \"P174\":174,\n",
        "    \"P175\":175,\n",
        "    \"P176\":176,\n",
        "    \"P177\":177,\n",
        "    \"P178\":178,\n",
        "    \"P179\":179,\n",
        "    \"P180\":180,\n",
        "    \"P181\":181,\n",
        "    \"P182\":182,\n",
        "    \"P183\":183,\n",
        "    \"P184\":184,\n",
        "    \"P185\":185,\n",
        "    \"P186\":186,\n",
        "    \"P187\":187,\n",
        "    \"P188\":188,\n",
        "    \"P189\":189,\n",
        "    \"P190\":190,\n",
        "    \"P191\":191,\n",
        "    \"P192\":192,\n",
        "    \"P193\":193,\n",
        "    \"P194\":194,\n",
        "    \"P195\":195,\n",
        "    \"P196\":196,\n",
        "    \"P197\":197,\n",
        "    \"P198\":198,\n",
        "    \"P199\":199,\n",
        "    \"P200\":200,\n",
        "    \"P201\":201,\n",
        "    \"P202\":202,\n",
        "    \"P203\":203,\n",
        "    \"P204\":204,\n",
        "    \"P205\":205,\n",
        "    \"P206\":206,\n",
        "    \"P207\":207,\n",
        "    \"P208\":208,\n",
        "    \"P209\":209,\n",
        "    \"P210\":210,\n",
        "    \"P211\":211,\n",
        "    \"P212\":212,\n",
        "    \"P213\":213,\n",
        "    \"P214\":214,\n",
        "    \"P215\":215,\n",
        "    \"P216\":216,\n",
        "    \"P217\":217,\n",
        "    \"P218\":218,\n",
        "    \"P219\":219,\n",
        "    \"P220\":220,\n",
        "    \"P221\":221,\n",
        "    \"P222\":222\n",
        "    })"
      ],
      "execution_count": null,
      "outputs": []
    },
    {
      "cell_type": "code",
      "metadata": {
        "id": "PC76ILM1uFHK"
      },
      "source": [
        "df['id_parlimen']"
      ],
      "execution_count": null,
      "outputs": []
    },
    {
      "cell_type": "code",
      "metadata": {
        "id": "2eyXg0DKuwxB"
      },
      "source": [
        "df.stb.freq(['id_strata'], style=True)\n",
        "#df['id_strata'].dtypes"
      ],
      "execution_count": null,
      "outputs": []
    },
    {
      "cell_type": "code",
      "metadata": {
        "id": "4i5M8rlFu39l"
      },
      "source": [
        "df.stb.freq(['id_agama'], style=True)"
      ],
      "execution_count": null,
      "outputs": []
    },
    {
      "cell_type": "code",
      "metadata": {
        "id": "no7T23ICu-OK"
      },
      "source": [
        "df.stb.freq(['id_status_kahwin'], style=True)"
      ],
      "execution_count": null,
      "outputs": []
    },
    {
      "cell_type": "code",
      "metadata": {
        "id": "bwpJ7BQKvPbi"
      },
      "source": [
        "df.stb.freq(['id_taraf_pendidikan'], style=True)"
      ],
      "execution_count": null,
      "outputs": []
    },
    {
      "cell_type": "markdown",
      "metadata": {
        "id": "WTEU6ip4q_4x"
      },
      "source": [
        "#Split Table [Profil | Bantuan]"
      ]
    },
    {
      "cell_type": "markdown",
      "metadata": {
        "id": "BrnWFSoAxn4O"
      },
      "source": [
        "##Rename Columns Header"
      ]
    },
    {
      "cell_type": "code",
      "metadata": {
        "id": "r0fg2HNEwfxX"
      },
      "source": [
        "mapping = {\n",
        "df.columns[0]:\"no_kp\",\n",
        "df.columns[1]:\"no_kp_lama\",\n",
        "df.columns[2]:\"no_sijil_kelahiran\",\n",
        "df.columns[3]:\"no_passport\",\n",
        "df.columns[4]:\"nama\",\n",
        "df.columns[5]:\"no_tel\",\n",
        "df.columns[6]:\"tahun_lahir\",\n",
        "df.columns[7]:\"id_jantina\",\n",
        "df.columns[8]:\"id_agama\",\n",
        "df.columns[9]:\"etnik\",\n",
        "df.columns[10]:\"id_kluster_etnik\",\n",
        "df.columns[11]:\"id_warganegara\",\n",
        "df.columns[12]:\"emel\",\n",
        "df.columns[13]:\"id_status_kahwin\",\n",
        "df.columns[14]:\"alamat_1\",\n",
        "df.columns[15]:\"alamat_2\",\n",
        "df.columns[16]:\"alamat_3\",\n",
        "df.columns[17]:\"poskod\",\n",
        "df.columns[18]:\"id_negeri\",\n",
        "df.columns[19]:\"id_daerah\",\n",
        "df.columns[20]:\"id_mukim\",\n",
        "df.columns[21]:\"id_parlimen\",\n",
        "df.columns[22]:\"id_dun\",\n",
        "df.columns[23]:\"id_strata\",\n",
        "df.columns[24]:\"id_taraf_pendidikan\",\n",
        "df.columns[25]:\"id_sijil\",\n",
        "df.columns[26]:\"id_jenis_pemilikan_kediaman\",\n",
        "df.columns[27]:\"id_jenis_tempat_kediaman\",\n",
        "df.columns[28]:\"id_jenis_pemilikan_kenderaan\",\n",
        "df.columns[29]:\"id_jenis_kenderaan\",\n",
        "df.columns[30]:\"no_plat\",\n",
        "df.columns[31]:\"id_status_pekerjaan\",\n",
        "df.columns[32]:\"id_jenis_pekerjaan\",\n",
        "df.columns[33]:\"nama_majikan\",\n",
        "df.columns[34]:\"no_daftar_majikan\",\n",
        "df.columns[35]:\"id_jenis_kemahiran\",\n",
        "df.columns[36]:\"id_penyakit\",\n",
        "df.columns[37]:\"no_daftar_oku\",\n",
        "df.columns[38]:\"id_jenis_oku\",\n",
        "df.columns[39]:\"id_rawatan\",\n",
        "df.columns[40]:\"no_akaun_bank\",\n",
        "df.columns[41]:\"id_bank\",\n",
        "df.columns[42]:\"id_jenis_akaun_bank\",\n",
        "df.columns[43]:\"nilai_sumber_pendapatan\",\n",
        "df.columns[44]:\"id_sumber_pendapatan\",\n",
        "df.columns[45]:\"jumlah_pendapatan_bulanan\",\n",
        "df.columns[46]:\"nilai_bantuan_diterima\",\n",
        "df.columns[47]:\"kadar_bantuan_diterima\",\n",
        "df.columns[48]:\"id_status_bantuan\",\n",
        "df.columns[49]:\"tarikh_lulus\",\n",
        "df.columns[50]:\"tarikh_mula\",\n",
        "df.columns[51]:\"tarikh_tamat\",\n",
        "df.columns[52]:\"id_kategori_bantuan\",\n",
        "df.columns[53]:\"bidang_fokus\",\n",
        "df.columns[54]:\"id_jenis_sub_kategori\",\n",
        "df.columns[55]:\"id_teras\",\n",
        "df.columns[56]:\"id_kaedah_pemberian\",\n",
        "df.columns[57]:\"id_kekerapan\",\n",
        "df.columns[58]:\"id_sektor\",\n",
        "df.columns[59]:\"id_status_pelaksanaan\",\n",
        "df.columns[60]:\"id_kumpulan_sasar\",\n",
        "df.columns[61]:\"id_program\",\n",
        "df.columns[62]:\"id_agensi\",\n",
        "df.columns[63]:\"id_kementerian\",\n",
        "df.columns[64]:\"skop\",\n",
        "df.columns[65]:\"papar_umum\",\n",
        "df.columns[66]:\"sebab_tidak_aktif\",\n",
        "df.columns[67]:\"syarat_program\",\n",
        "df.columns[68]:\"status_pelaksanaan\",\n",
        "df.columns[69]:\"ptarikh_mula\",\n",
        "df.columns[70]:\"ptarikh_tamat\",\n",
        "df.columns[71]:\"jumlah_peruntukan\",\n",
        "df.columns[72]:\"url\"\n",
        "}\n",
        "df2 = df.rename(columns=mapping)"
      ],
      "execution_count": null,
      "outputs": []
    },
    {
      "cell_type": "code",
      "metadata": {
        "id": "ZwlCFIvqxes-"
      },
      "source": [
        "df2.columns"
      ],
      "execution_count": null,
      "outputs": []
    },
    {
      "cell_type": "code",
      "metadata": {
        "id": "YTzCCfqmyXhJ"
      },
      "source": [
        "df2.head()"
      ],
      "execution_count": null,
      "outputs": []
    },
    {
      "cell_type": "markdown",
      "metadata": {
        "id": "3Y99R3ETv0Wm"
      },
      "source": [
        "##Split Profil"
      ]
    },
    {
      "cell_type": "markdown",
      "metadata": {
        "id": "JqWSz8ITv0Js"
      },
      "source": [
        "##Split Bantuan"
      ]
    },
    {
      "cell_type": "code",
      "metadata": {
        "id": "Do3Wua33uITa"
      },
      "source": [
        "bantuan = df[['id',\n",
        "#'id_profil',\n",
        "#'id_program',\n",
        "'id_status_bantuan',\n",
        "'nilai_bantuan_diterima',\n",
        "'kadar_bantuan_diterima',\n",
        "'tarikh_mula',\n",
        "'tarikh_tamat',\n",
        "'tarikh_lulus']]"
      ],
      "execution_count": null,
      "outputs": []
    },
    {
      "cell_type": "code",
      "metadata": {
        "id": "eUmGNszUyEur"
      },
      "source": [
        "bantuan.head()"
      ],
      "execution_count": null,
      "outputs": []
    },
    {
      "cell_type": "code",
      "metadata": {
        "id": "lYsReJoBysgn"
      },
      "source": [
        ""
      ],
      "execution_count": null,
      "outputs": []
    }
  ]
}
