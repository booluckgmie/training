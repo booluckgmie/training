{
 "cells": [
  {
   "cell_type": "code",
   "execution_count": 10,
   "metadata": {},
   "outputs": [],
   "source": [
    "#pip install pandas sqlalchemy"
   ]
  },
  {
   "cell_type": "markdown",
   "id": "8ae90fd9",
   "metadata": {},
   "source": [
    "### sample dataframe"
   ]
  },
  {
   "cell_type": "code",
   "execution_count": 11,
   "id": "4bfd842c",
   "metadata": {},
   "outputs": [
    {
     "data": {
      "text/html": [
       "<div>\n",
       "<style scoped>\n",
       "    .dataframe tbody tr th:only-of-type {\n",
       "        vertical-align: middle;\n",
       "    }\n",
       "\n",
       "    .dataframe tbody tr th {\n",
       "        vertical-align: top;\n",
       "    }\n",
       "\n",
       "    .dataframe thead th {\n",
       "        text-align: right;\n",
       "    }\n",
       "</style>\n",
       "<table border=\"1\" class=\"dataframe\">\n",
       "  <thead>\n",
       "    <tr style=\"text-align: right;\">\n",
       "      <th></th>\n",
       "      <th>feature1</th>\n",
       "      <th>feature2</th>\n",
       "      <th>class</th>\n",
       "    </tr>\n",
       "  </thead>\n",
       "  <tbody>\n",
       "    <tr>\n",
       "      <th>0</th>\n",
       "      <td>0.548814</td>\n",
       "      <td>0.791725</td>\n",
       "      <td>1</td>\n",
       "    </tr>\n",
       "    <tr>\n",
       "      <th>1</th>\n",
       "      <td>0.715189</td>\n",
       "      <td>0.528895</td>\n",
       "      <td>0</td>\n",
       "    </tr>\n",
       "    <tr>\n",
       "      <th>2</th>\n",
       "      <td>0.602763</td>\n",
       "      <td>0.568045</td>\n",
       "      <td>0</td>\n",
       "    </tr>\n",
       "    <tr>\n",
       "      <th>3</th>\n",
       "      <td>0.544883</td>\n",
       "      <td>0.925597</td>\n",
       "      <td>0</td>\n",
       "    </tr>\n",
       "    <tr>\n",
       "      <th>4</th>\n",
       "      <td>0.423655</td>\n",
       "      <td>0.071036</td>\n",
       "      <td>0</td>\n",
       "    </tr>\n",
       "  </tbody>\n",
       "</table>\n",
       "</div>"
      ],
      "text/plain": [
       "   feature1  feature2  class\n",
       "0  0.548814  0.791725      1\n",
       "1  0.715189  0.528895      0\n",
       "2  0.602763  0.568045      0\n",
       "3  0.544883  0.925597      0\n",
       "4  0.423655  0.071036      0"
      ]
     },
     "execution_count": 11,
     "metadata": {},
     "output_type": "execute_result"
    }
   ],
   "source": [
    "# sample dataframe\n",
    "import pandas as pd\n",
    "import numpy as np\n",
    "\n",
    "np.random.seed(0)\n",
    "number_of_samples = 10\n",
    "frame = pd.DataFrame({\n",
    "    'feature1': np.random.random(number_of_samples),\n",
    "    'feature2': np.random.random(number_of_samples),\n",
    "    'class':    np.random.binomial(2, 0.1, size=number_of_samples),\n",
    "    },columns=['feature1','feature2','class'])\n",
    "\n",
    "frame.head()"
   ]
  },
  {
   "cell_type": "code",
   "execution_count": 12,
   "id": "f1655df3",
   "metadata": {},
   "outputs": [],
   "source": [
    "# form existing data/files\n",
    "\n",
    "#import pandas as pd\n",
    "#frame = pd.read_csv(r\"E:\\lmi2022\\rain.csv\")\n",
    "#frame.head()"
   ]
  },
  {
   "cell_type": "markdown",
   "metadata": {},
   "source": [
    "### Set connection to MySQL"
   ]
  },
  {
   "cell_type": "code",
   "execution_count": 13,
   "id": "8088e646",
   "metadata": {},
   "outputs": [],
   "source": [
    "# Set connection to MySQL\n",
    "import sqlalchemy\n",
    "\n",
    "database_username = 'ENTER USERNAME'             #     user='najmi'\n",
    "database_password = 'ENTER USERNAME PASSWORD'    #     password='====='\n",
    "database_ip       = 'ENTER DATABASE IP'          #     host=\"10.21.45.183\"\n",
    "database_name     = 'ENTER DATABASE NAME'        #     database=\"ADR\"\n",
    "tableName         = 'ENTER TABLE NAME'           #     \"rainfall\"\n",
    "database_connection = sqlalchemy.create_engine('mysql+mysqlconnector://{0}:{1}@{2}/{3}'.\n",
    "                                               format(database_username, database_password, \n",
    "                                                      database_ip, database_name))\n",
    "    "
   ]
  },
  {
   "cell_type": "code",
   "execution_count": 14,
   "metadata": {},
   "outputs": [
    {
     "name": "stdout",
     "output_type": "stream",
     "text": [
      "(bytearray(b'ADR'),)\n",
      "(bytearray(b'information_schema'),)\n",
      "(bytearray(b'mysql'),)\n",
      "(bytearray(b'performance_schema'),)\n",
      "(bytearray(b'sys'),)\n"
     ]
    }
   ],
   "source": [
    "#Listing all tables of the database\n",
    "\n",
    "r_set=database_connection.execute(\"SHOW DATABASES\");\n",
    "for row in r_set:\n",
    "    print(row)\n"
   ]
  },
  {
   "cell_type": "code",
   "execution_count": 15,
   "metadata": {},
   "outputs": [
    {
     "name": "stdout",
     "output_type": "stream",
     "text": [
      "(bytearray(b'employees'),)\n",
      "(bytearray(b'geo_kawasanku'),)\n",
      "(bytearray(b'testingtable'),)\n"
     ]
    }
   ],
   "source": [
    "#Listing all tables of the database\n",
    "\n",
    "r_set=database_connection.execute(\"SHOW TABLES\");\n",
    "for row in r_set:\n",
    "    print(row)\n"
   ]
  },
  {
   "cell_type": "markdown",
   "id": "fd977af2",
   "metadata": {},
   "source": [
    "### Import dataframe into MySQL"
   ]
  },
  {
   "cell_type": "code",
   "execution_count": 16,
   "id": "06f2c492",
   "metadata": {},
   "outputs": [
    {
     "name": "stdout",
     "output_type": "stream",
     "text": [
      "Connection to the 10.21.45.183 for user najmi created successfully.\n",
      "Table rainfall3 uploded successfully.\n"
     ]
    }
   ],
   "source": [
    "# Import dataframe into MySQL\n",
    " \n",
    "frame.to_sql(con=database_connection, name=tableName, if_exists='replace')\n",
    "print(f\"Connection to the {database_ip} for user {database_username} created successfully.\\nTable {tableName} uploded successfully.\")"
   ]
  },
  {
   "cell_type": "markdown",
   "id": "7ef40930",
   "metadata": {},
   "source": [
    "### Read dataframe from MySQL to python"
   ]
  },
  {
   "cell_type": "code",
   "execution_count": 17,
   "id": "223050a8",
   "metadata": {},
   "outputs": [],
   "source": [
    "# Read dataframe from MySQL to python\n",
    " \n",
    "df = pd.read_sql_query(\"SELECT * FROM rainfall3\",\n",
    "    database_connection)\n"
   ]
  },
  {
   "cell_type": "code",
   "execution_count": 18,
   "id": "7a98ad2a",
   "metadata": {},
   "outputs": [
    {
     "data": {
      "text/html": [
       "<div>\n",
       "<style scoped>\n",
       "    .dataframe tbody tr th:only-of-type {\n",
       "        vertical-align: middle;\n",
       "    }\n",
       "\n",
       "    .dataframe tbody tr th {\n",
       "        vertical-align: top;\n",
       "    }\n",
       "\n",
       "    .dataframe thead th {\n",
       "        text-align: right;\n",
       "    }\n",
       "</style>\n",
       "<table border=\"1\" class=\"dataframe\">\n",
       "  <thead>\n",
       "    <tr style=\"text-align: right;\">\n",
       "      <th></th>\n",
       "      <th>index</th>\n",
       "      <th>feature1</th>\n",
       "      <th>feature2</th>\n",
       "      <th>class</th>\n",
       "    </tr>\n",
       "  </thead>\n",
       "  <tbody>\n",
       "    <tr>\n",
       "      <th>0</th>\n",
       "      <td>0</td>\n",
       "      <td>0.548814</td>\n",
       "      <td>0.791725</td>\n",
       "      <td>1</td>\n",
       "    </tr>\n",
       "    <tr>\n",
       "      <th>1</th>\n",
       "      <td>1</td>\n",
       "      <td>0.715189</td>\n",
       "      <td>0.528895</td>\n",
       "      <td>0</td>\n",
       "    </tr>\n",
       "    <tr>\n",
       "      <th>2</th>\n",
       "      <td>2</td>\n",
       "      <td>0.602763</td>\n",
       "      <td>0.568045</td>\n",
       "      <td>0</td>\n",
       "    </tr>\n",
       "    <tr>\n",
       "      <th>3</th>\n",
       "      <td>3</td>\n",
       "      <td>0.544883</td>\n",
       "      <td>0.925597</td>\n",
       "      <td>0</td>\n",
       "    </tr>\n",
       "    <tr>\n",
       "      <th>4</th>\n",
       "      <td>4</td>\n",
       "      <td>0.423655</td>\n",
       "      <td>0.071036</td>\n",
       "      <td>0</td>\n",
       "    </tr>\n",
       "  </tbody>\n",
       "</table>\n",
       "</div>"
      ],
      "text/plain": [
       "   index  feature1  feature2  class\n",
       "0      0  0.548814  0.791725      1\n",
       "1      1  0.715189  0.528895      0\n",
       "2      2  0.602763  0.568045      0\n",
       "3      3  0.544883  0.925597      0\n",
       "4      4  0.423655  0.071036      0"
      ]
     },
     "execution_count": 18,
     "metadata": {},
     "output_type": "execute_result"
    }
   ],
   "source": [
    "df.head()"
   ]
  },
  {
   "cell_type": "code",
   "execution_count": null,
   "metadata": {},
   "outputs": [],
   "source": []
  }
 ],
 "metadata": {
  "kernelspec": {
   "display_name": "Python 3.11.0 ('gemy')",
   "language": "python",
   "name": "python3"
  },
  "language_info": {
   "codemirror_mode": {
    "name": "ipython",
    "version": 3
   },
   "file_extension": ".py",
   "mimetype": "text/x-python",
   "name": "python",
   "nbconvert_exporter": "python",
   "pygments_lexer": "ipython3",
   "version": "3.11.0"
  },
  "orig_nbformat": 4,
  "vscode": {
   "interpreter": {
    "hash": "3ed206cf688b3fc72a84b5a5a0bb5bde581e52ce3ba38cc13f276eabebf86163"
   }
  }
 },
 "nbformat": 4,
 "nbformat_minor": 2
}
