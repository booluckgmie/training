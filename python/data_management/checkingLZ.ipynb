{
 "cells": [
  {
   "attachments": {},
   "cell_type": "markdown",
   "metadata": {},
   "source": [
    "# Flow Data Cleansing\n",
    "1. combine isudata with raw data = no_kp berkenaan\n",
    "2. remove duplicate subset = ['id', 'no_kp', 'state01']\n",
    "3. check leading zero\n",
    "4. result\n",
    "    - (len = 11) = potential LZ\n",
    "    - (len = 11) = potential incomplete last digits\n",
    "    - (len = 10) = potential LZ and incomplete last digits\n",
    "    - (len = 10) = potential/incomplete last digits"
   ]
  },
  {
   "attachments": {},
   "cell_type": "markdown",
   "metadata": {},
   "source": [
    "## Checking Leading Zero\n",
    "- match umur with first 2D no_kp\n",
    "- total len (create new column - number of len)\n",
    "- selected digits: extract digits location number 3-6D\n",
    "- digit {3-4} value should < 13 if not (create new column - month issue)\n",
    "- digit {5-6} value should < 32 if not (create new column - day issue)\n",
    "- check available statecode from dict (MM) digit {8-9} (create new column - status: exist or not exist)\n",
    "- potential leading zero issue (create new column - potential: leading zero or incomplete digit)"
   ]
  },
  {
   "cell_type": "code",
   "execution_count": 174,
   "metadata": {},
   "outputs": [],
   "source": [
    "import pandas as pd\n",
    "import numpy as np"
   ]
  },
  {
   "attachments": {},
   "cell_type": "markdown",
   "metadata": {},
   "source": [
    "## Testing Data"
   ]
  },
  {
   "cell_type": "code",
   "execution_count": null,
   "metadata": {},
   "outputs": [],
   "source": [
    "# isukp = pd.read_csv(r'E:\\gotrace\\06_MACTH_JPN_10_11.csv')\n",
    "# isukp = isukp[['IDENTIFICATION','JPN_NAMA','NAMA_PENIAGA_PELESEN','TEXT_MATCHING_SCORE', 'UMUR', 'JPN_IC', 'NEGERI']]\n",
    "# isukp.columns = ['id', 'namajpn','nama', 'text_score','age01','no_kp','state']\n",
    "# data = isukp[['namajpn','nama', 'text_score','age01','no_kp','state']]\n",
    "# data"
   ]
  },
  {
   "cell_type": "code",
   "execution_count": null,
   "metadata": {},
   "outputs": [],
   "source": [
    "122-55"
   ]
  },
  {
   "cell_type": "code",
   "execution_count": null,
   "metadata": {},
   "outputs": [],
   "source": [
    "dup = pd.read_csv('isukp_gtr06.csv')\n",
    "dup.drop_duplicates(subset=['id', 'no_kp', 'state01'], keep='last', inplace=True)\n",
    "dup.shape"
   ]
  },
  {
   "cell_type": "code",
   "execution_count": null,
   "metadata": {},
   "outputs": [],
   "source": [
    "dup"
   ]
  },
  {
   "cell_type": "code",
   "execution_count": null,
   "metadata": {},
   "outputs": [],
   "source": [
    "isukp = pd.read_csv('isukp_gtr06.csv')\n",
    "data = isukp\n",
    "data"
   ]
  },
  {
   "cell_type": "code",
   "execution_count": null,
   "metadata": {},
   "outputs": [],
   "source": [
    "data['no_kp'] = data['no_kp'].astype(str)"
   ]
  },
  {
   "cell_type": "code",
   "execution_count": null,
   "metadata": {},
   "outputs": [],
   "source": [
    "# # data['no_kp'] = pd.to_numeric(data['no_kp'], errors='coerce').fillna(0).astype(int)\n",
    "# data['no_kp'] = data['no_kp'].astype(str)\n",
    "\n",
    "# # Drop rows with \"\" or \"na\" in a specific column\n",
    "# data = data.dropna(subset=['no_kp'], how='any', axis=0)\n",
    "# data = data.drop(data[(data['no_kp'] == \"\") | (data['no_kp'] == \"na\")].index)\n",
    "\n",
    "# data"
   ]
  },
  {
   "cell_type": "code",
   "execution_count": 194,
   "metadata": {},
   "outputs": [],
   "source": [
    "# Sample data\n",
    "data = pd.DataFrame({'no_kp': ['1002110209', '94103008650', '92082203513', '94133008650', '94103060650', '47020512506', '7411A902541', '88092603628', '020607189952', 'nan', '', ]})\n"
   ]
  },
  {
   "attachments": {},
   "cell_type": "markdown",
   "metadata": {},
   "source": [
    "## total len (create new column - number of len)"
   ]
  },
  {
   "cell_type": "code",
   "execution_count": 195,
   "metadata": {},
   "outputs": [
    {
     "data": {
      "text/html": [
       "<div>\n",
       "<style scoped>\n",
       "    .dataframe tbody tr th:only-of-type {\n",
       "        vertical-align: middle;\n",
       "    }\n",
       "\n",
       "    .dataframe tbody tr th {\n",
       "        vertical-align: top;\n",
       "    }\n",
       "\n",
       "    .dataframe thead th {\n",
       "        text-align: right;\n",
       "    }\n",
       "</style>\n",
       "<table border=\"1\" class=\"dataframe\">\n",
       "  <thead>\n",
       "    <tr style=\"text-align: right;\">\n",
       "      <th></th>\n",
       "      <th>no_kp</th>\n",
       "      <th>len</th>\n",
       "    </tr>\n",
       "  </thead>\n",
       "  <tbody>\n",
       "    <tr>\n",
       "      <th>0</th>\n",
       "      <td>1002110209</td>\n",
       "      <td>10</td>\n",
       "    </tr>\n",
       "    <tr>\n",
       "      <th>1</th>\n",
       "      <td>94103008650</td>\n",
       "      <td>11</td>\n",
       "    </tr>\n",
       "    <tr>\n",
       "      <th>2</th>\n",
       "      <td>92082203513</td>\n",
       "      <td>11</td>\n",
       "    </tr>\n",
       "    <tr>\n",
       "      <th>3</th>\n",
       "      <td>94133008650</td>\n",
       "      <td>11</td>\n",
       "    </tr>\n",
       "    <tr>\n",
       "      <th>4</th>\n",
       "      <td>94103060650</td>\n",
       "      <td>11</td>\n",
       "    </tr>\n",
       "    <tr>\n",
       "      <th>5</th>\n",
       "      <td>47020512506</td>\n",
       "      <td>11</td>\n",
       "    </tr>\n",
       "    <tr>\n",
       "      <th>6</th>\n",
       "      <td>7411A902541</td>\n",
       "      <td>11</td>\n",
       "    </tr>\n",
       "    <tr>\n",
       "      <th>7</th>\n",
       "      <td>88092603628</td>\n",
       "      <td>11</td>\n",
       "    </tr>\n",
       "    <tr>\n",
       "      <th>8</th>\n",
       "      <td>020607189952</td>\n",
       "      <td>12</td>\n",
       "    </tr>\n",
       "    <tr>\n",
       "      <th>9</th>\n",
       "      <td>nan</td>\n",
       "      <td>3</td>\n",
       "    </tr>\n",
       "    <tr>\n",
       "      <th>10</th>\n",
       "      <td></td>\n",
       "      <td>0</td>\n",
       "    </tr>\n",
       "  </tbody>\n",
       "</table>\n",
       "</div>"
      ],
      "text/plain": [
       "           no_kp  len\n",
       "0     1002110209   10\n",
       "1    94103008650   11\n",
       "2    92082203513   11\n",
       "3    94133008650   11\n",
       "4    94103060650   11\n",
       "5    47020512506   11\n",
       "6    7411A902541   11\n",
       "7    88092603628   11\n",
       "8   020607189952   12\n",
       "9            nan    3\n",
       "10                  0"
      ]
     },
     "execution_count": 195,
     "metadata": {},
     "output_type": "execute_result"
    }
   ],
   "source": [
    "# Create a column for the total length of the identification number\n",
    "data['len'] = data['no_kp'].str.len()\n",
    "data"
   ]
  },
  {
   "attachments": {},
   "cell_type": "markdown",
   "metadata": {},
   "source": [
    "### match umur with first 2D no_kp"
   ]
  },
  {
   "cell_type": "code",
   "execution_count": 196,
   "metadata": {},
   "outputs": [
    {
     "data": {
      "text/plain": [
       "467"
      ]
     },
     "execution_count": 196,
     "metadata": {},
     "output_type": "execute_result"
    }
   ],
   "source": [
    "619-152"
   ]
  },
  {
   "cell_type": "code",
   "execution_count": 197,
   "metadata": {},
   "outputs": [],
   "source": [
    "import pandas as pd\n",
    "from datetime import datetime\n",
    "\n",
    "# Define a function to calculate age based on birth year\n",
    "def calculate_age(birth_year):\n",
    "    today = datetime.now()\n",
    "    age = today.year - birth_year\n",
    "    if today < datetime(today.year, 1, 1):\n",
    "        age -= 1\n",
    "    return age\n",
    "\n",
    "# Define a function to convert the first two digits of the identification number to a birth year\n",
    "def get_birth_year(id_num):\n",
    "    if int(id_num[:2]) < 23:\n",
    "        return 2000 + int(id_num[:2])\n",
    "    else:\n",
    "        return 1900 + int(id_num[:2])\n"
   ]
  },
  {
   "cell_type": "code",
   "execution_count": 198,
   "metadata": {},
   "outputs": [
    {
     "name": "stderr",
     "output_type": "stream",
     "text": [
      "C:\\Users\\najmi.ariffin\\AppData\\Local\\Temp\\2\\ipykernel_25088\\826333553.py:6: SettingWithCopyWarning: \n",
      "A value is trying to be set on a copy of a slice from a DataFrame.\n",
      "Try using .loc[row_indexer,col_indexer] = value instead\n",
      "\n",
      "See the caveats in the documentation: https://pandas.pydata.org/pandas-docs/stable/user_guide/indexing.html#returning-a-view-versus-a-copy\n",
      "  data['no_kp'] = pd.to_numeric(data['no_kp'], errors='coerce').apply(lambda x: '{:.0f}'.format(x))\n",
      "C:\\Users\\najmi.ariffin\\AppData\\Local\\Temp\\2\\ipykernel_25088\\826333553.py:7: SettingWithCopyWarning: \n",
      "A value is trying to be set on a copy of a slice from a DataFrame.\n",
      "Try using .loc[row_indexer,col_indexer] = value instead\n",
      "\n",
      "See the caveats in the documentation: https://pandas.pydata.org/pandas-docs/stable/user_guide/indexing.html#returning-a-view-versus-a-copy\n",
      "  data['no_kp'] = data['no_kp'].astype(str)\n",
      "C:\\Users\\najmi.ariffin\\AppData\\Local\\Temp\\2\\ipykernel_25088\\826333553.py:10: SettingWithCopyWarning: \n",
      "A value is trying to be set on a copy of a slice from a DataFrame.\n",
      "Try using .loc[row_indexer,col_indexer] = value instead\n",
      "\n",
      "See the caveats in the documentation: https://pandas.pydata.org/pandas-docs/stable/user_guide/indexing.html#returning-a-view-versus-a-copy\n",
      "  data['birth_year'] = data['no_kp'].apply(get_birth_year)\n",
      "C:\\Users\\najmi.ariffin\\AppData\\Local\\Temp\\2\\ipykernel_25088\\826333553.py:13: SettingWithCopyWarning: \n",
      "A value is trying to be set on a copy of a slice from a DataFrame.\n",
      "Try using .loc[row_indexer,col_indexer] = value instead\n",
      "\n",
      "See the caveats in the documentation: https://pandas.pydata.org/pandas-docs/stable/user_guide/indexing.html#returning-a-view-versus-a-copy\n",
      "  data['age'] = data['birth_year'].apply(calculate_age)\n"
     ]
    }
   ],
   "source": [
    "# Convert 'no_kp' column to numeric, set non-numeric values to NaN\n",
    "data['no_kp'] = pd.to_numeric(data['no_kp'], errors='coerce')\n",
    "\n",
    "# Drop rows with NaN values in 'no_kp' column\n",
    "data = data.dropna(subset=['no_kp'])\n",
    "data['no_kp'] = pd.to_numeric(data['no_kp'], errors='coerce').apply(lambda x: '{:.0f}'.format(x))\n",
    "data['no_kp'] = data['no_kp'].astype(str)\n",
    "\n",
    "# Extract the birth year from the identification number\n",
    "data['birth_year'] = data['no_kp'].apply(get_birth_year)\n",
    "\n",
    "# Calculate age based on birth year\n",
    "data['age'] = data['birth_year'].apply(calculate_age)\n",
    "\n",
    "# data['no_kp'] = data['no_kp'].astype(float)\n",
    "# data['no_kp'] = data['no_kp'].apply(lambda x: pd.to_numeric(x, errors='coerce')).apply(lambda x: '{:,.2f}'.format(x))\n",
    "\n",
    "# Show the results\n",
    "# data\n"
   ]
  },
  {
   "attachments": {},
   "cell_type": "markdown",
   "metadata": {},
   "source": [
    "age01 != age ===> potential LZ"
   ]
  },
  {
   "attachments": {},
   "cell_type": "markdown",
   "metadata": {},
   "source": [
    "### selected digits: extract digits location number 3-6D\n",
    "### digit {3-4} value should < 13 if not (create new column - month issue)\n",
    "### digit {5-6} value should < 32 if not (create new column - day issue)"
   ]
  },
  {
   "cell_type": "code",
   "execution_count": 199,
   "metadata": {},
   "outputs": [
    {
     "name": "stderr",
     "output_type": "stream",
     "text": [
      "C:\\Users\\najmi.ariffin\\AppData\\Local\\Temp\\2\\ipykernel_25088\\3196784518.py:1: SettingWithCopyWarning: \n",
      "A value is trying to be set on a copy of a slice from a DataFrame.\n",
      "Try using .loc[row_indexer,col_indexer] = value instead\n",
      "\n",
      "See the caveats in the documentation: https://pandas.pydata.org/pandas-docs/stable/user_guide/indexing.html#returning-a-view-versus-a-copy\n",
      "  data['no_kp'] = data['no_kp'].astype(str)\n"
     ]
    }
   ],
   "source": [
    "data['no_kp'] = data['no_kp'].astype(str)"
   ]
  },
  {
   "cell_type": "code",
   "execution_count": 200,
   "metadata": {},
   "outputs": [
    {
     "name": "stderr",
     "output_type": "stream",
     "text": [
      "C:\\Users\\najmi.ariffin\\AppData\\Local\\Temp\\2\\ipykernel_25088\\1923089323.py:2: SettingWithCopyWarning: \n",
      "A value is trying to be set on a copy of a slice from a DataFrame.\n",
      "Try using .loc[row_indexer,col_indexer] = value instead\n",
      "\n",
      "See the caveats in the documentation: https://pandas.pydata.org/pandas-docs/stable/user_guide/indexing.html#returning-a-view-versus-a-copy\n",
      "  data['dob'] = data['no_kp'].str[2:6]\n",
      "C:\\Users\\najmi.ariffin\\AppData\\Local\\Temp\\2\\ipykernel_25088\\1923089323.py:5: SettingWithCopyWarning: \n",
      "A value is trying to be set on a copy of a slice from a DataFrame.\n",
      "Try using .loc[row_indexer,col_indexer] = value instead\n",
      "\n",
      "See the caveats in the documentation: https://pandas.pydata.org/pandas-docs/stable/user_guide/indexing.html#returning-a-view-versus-a-copy\n",
      "  data['month_issue'] = (data['dob'].str[:2].astype(int) < 13) & (data['dob'].str[:2].astype(int) > 0)\n",
      "C:\\Users\\najmi.ariffin\\AppData\\Local\\Temp\\2\\ipykernel_25088\\1923089323.py:6: SettingWithCopyWarning: \n",
      "A value is trying to be set on a copy of a slice from a DataFrame.\n",
      "Try using .loc[row_indexer,col_indexer] = value instead\n",
      "\n",
      "See the caveats in the documentation: https://pandas.pydata.org/pandas-docs/stable/user_guide/indexing.html#returning-a-view-versus-a-copy\n",
      "  data['month_issue'] = data['month_issue'].replace({True: 'no issue', False: 'something wrong'})\n",
      "C:\\Users\\najmi.ariffin\\AppData\\Local\\Temp\\2\\ipykernel_25088\\1923089323.py:9: SettingWithCopyWarning: \n",
      "A value is trying to be set on a copy of a slice from a DataFrame.\n",
      "Try using .loc[row_indexer,col_indexer] = value instead\n",
      "\n",
      "See the caveats in the documentation: https://pandas.pydata.org/pandas-docs/stable/user_guide/indexing.html#returning-a-view-versus-a-copy\n",
      "  data['day_issue'] = (data['dob'].str[2:].astype(int) < 32) & (data['dob'].str[2:].astype(int) > 0)\n",
      "C:\\Users\\najmi.ariffin\\AppData\\Local\\Temp\\2\\ipykernel_25088\\1923089323.py:10: SettingWithCopyWarning: \n",
      "A value is trying to be set on a copy of a slice from a DataFrame.\n",
      "Try using .loc[row_indexer,col_indexer] = value instead\n",
      "\n",
      "See the caveats in the documentation: https://pandas.pydata.org/pandas-docs/stable/user_guide/indexing.html#returning-a-view-versus-a-copy\n",
      "  data['day_issue'] = data['day_issue'].replace({True: 'no issue', False: 'something wrong'})\n"
     ]
    }
   ],
   "source": [
    "# Extract the digits representing the date of birth\n",
    "data['dob'] = data['no_kp'].str[2:6]\n",
    "\n",
    "# Check if the month in the date of birth is valid\n",
    "data['month_issue'] = (data['dob'].str[:2].astype(int) < 13) & (data['dob'].str[:2].astype(int) > 0)\n",
    "data['month_issue'] = data['month_issue'].replace({True: 'no issue', False: 'something wrong'})\n",
    "\n",
    "# Check if the day in the date of birth is valid\n",
    "data['day_issue'] = (data['dob'].str[2:].astype(int) < 32) & (data['dob'].str[2:].astype(int) > 0)\n",
    "data['day_issue'] = data['day_issue'].replace({True: 'no issue', False: 'something wrong'})\n",
    "# data"
   ]
  },
  {
   "cell_type": "code",
   "execution_count": 201,
   "metadata": {},
   "outputs": [
    {
     "name": "stderr",
     "output_type": "stream",
     "text": [
      "C:\\Users\\najmi.ariffin\\AppData\\Local\\Temp\\2\\ipykernel_25088\\2308526142.py:2: SettingWithCopyWarning: \n",
      "A value is trying to be set on a copy of a slice from a DataFrame.\n",
      "Try using .loc[row_indexer,col_indexer] = value instead\n",
      "\n",
      "See the caveats in the documentation: https://pandas.pydata.org/pandas-docs/stable/user_guide/indexing.html#returning-a-view-versus-a-copy\n",
      "  data['state_code'] = data['no_kp'].str[6:8]\n"
     ]
    }
   ],
   "source": [
    "# Extract the digits representing the state code\n",
    "data['state_code'] = data['no_kp'].str[6:8]\n",
    "# data"
   ]
  },
  {
   "attachments": {},
   "cell_type": "markdown",
   "metadata": {},
   "source": [
    "## check available statecode from dict (MM) digit {8-9} \n",
    "(create new column - status: exist or not exist)"
   ]
  },
  {
   "cell_type": "code",
   "execution_count": 202,
   "metadata": {},
   "outputs": [
    {
     "name": "stderr",
     "output_type": "stream",
     "text": [
      "C:\\Users\\najmi.ariffin\\AppData\\Local\\Temp\\2\\ipykernel_25088\\1542587606.py:4: SettingWithCopyWarning: \n",
      "A value is trying to be set on a copy of a slice from a DataFrame.\n",
      "Try using .loc[row_indexer,col_indexer] = value instead\n",
      "\n",
      "See the caveats in the documentation: https://pandas.pydata.org/pandas-docs/stable/user_guide/indexing.html#returning-a-view-versus-a-copy\n",
      "  data['statuscode'] = data['state_code'].apply(lambda x: 'exist' if x in valid_state_codes else 'not exist')\n"
     ]
    }
   ],
   "source": [
    "# Check if the state code is valid\n",
    "jpn = {'state': ['Johor', 'Kedah', 'Kelantan', 'Melaka', 'Negeri Sembilan', 'Pahang', 'Pulau Pinang', 'Perak', 'Perlis', 'Selangor', 'Terengganu', 'Sabah', 'Sarawak', 'WP Kuala Lumpur', 'WP Labuan', 'WP Putrajaya', 'Johor', 'Kedah', 'Kelantan', 'Melaka', 'Negeri Sembilan', 'Pahang', 'Pulau Pinang', 'Perak', 'Perlis', 'Selangor', 'Terengganu', 'Sabah', 'Sarawak', 'WP Kuala Lumpur', 'WP Labuan', 'Johor', 'Kedah', 'Kelantan', 'Negeri Sembilan', 'Pahang', 'Pulau Pinang', 'Perak', 'Selangor', 'Terengganu', 'Sabah', 'Sarawak', 'WP Kuala Lumpur', 'Johor', 'Kedah', 'Perak', 'Selangor', 'Sabah', 'Sarawak', 'WP Kuala Lumpur', 'Johor', 'Perak', 'Selangor', 'Sarawak', 'WP Kuala Lumpur'], 'code': ['01', '02', '03', '04', '05', '06', '07', '08', '09', '10', '11', '12', '13', '14', '15', '16', '21', '25', '28', '30', '31', '32', '34', '36', '40', '41', '45', '47', '50', '54', '58', '22', '26', '29', '59', '33', '35', '37', '42', '46', '48', '51', '55', '23', '27', '38', '43', '49', '52', '56', '24', '39', '44', '53', '57']}\n",
    "valid_state_codes = set(jpn['code'])\n",
    "data['statuscode'] = data['state_code'].apply(lambda x: 'exist' if x in valid_state_codes else 'not exist')\n",
    "# data\n"
   ]
  },
  {
   "cell_type": "code",
   "execution_count": 184,
   "metadata": {},
   "outputs": [],
   "source": [
    "# data[data.statuscode == 'not exist']"
   ]
  },
  {
   "attachments": {},
   "cell_type": "markdown",
   "metadata": {},
   "source": [
    "## potential leading zero issue\n",
    "(create new column - potential: leading zero or incomplete digit)"
   ]
  },
  {
   "cell_type": "code",
   "execution_count": 203,
   "metadata": {},
   "outputs": [],
   "source": [
    "# # Create a new column 'age_difference' as the absolute difference between 'age' and 'age01'\n",
    "# data['age_difference'] = abs(data['age'] - data['umur'])\n",
    "\n",
    "# # Create a boolean mask for rows where the age difference is more than 3 years\n",
    "# mask = data['age_difference'] > 3"
   ]
  },
  {
   "attachments": {},
   "cell_type": "markdown",
   "metadata": {},
   "source": [
    "## Complete indicator/condition"
   ]
  },
  {
   "cell_type": "code",
   "execution_count": 206,
   "metadata": {},
   "outputs": [
    {
     "name": "stderr",
     "output_type": "stream",
     "text": [
      "C:\\Users\\najmi.ariffin\\AppData\\Local\\Temp\\2\\ipykernel_25088\\3514899834.py:2: SettingWithCopyWarning: \n",
      "A value is trying to be set on a copy of a slice from a DataFrame.\n",
      "Try using .loc[row_indexer,col_indexer] = value instead\n",
      "\n",
      "See the caveats in the documentation: https://pandas.pydata.org/pandas-docs/stable/user_guide/indexing.html#returning-a-view-versus-a-copy\n",
      "  data['potential'] = (data['no_kp'].str.startswith('0')\n",
      "C:\\Users\\najmi.ariffin\\AppData\\Local\\Temp\\2\\ipykernel_25088\\3514899834.py:9: SettingWithCopyWarning: \n",
      "A value is trying to be set on a copy of a slice from a DataFrame.\n",
      "Try using .loc[row_indexer,col_indexer] = value instead\n",
      "\n",
      "See the caveats in the documentation: https://pandas.pydata.org/pandas-docs/stable/user_guide/indexing.html#returning-a-view-versus-a-copy\n",
      "  data['potential'] = data['potential'].replace({True: 'potential LZ', False: 'incomplete last digits'})\n"
     ]
    },
    {
     "data": {
      "text/html": [
       "<div>\n",
       "<style scoped>\n",
       "    .dataframe tbody tr th:only-of-type {\n",
       "        vertical-align: middle;\n",
       "    }\n",
       "\n",
       "    .dataframe tbody tr th {\n",
       "        vertical-align: top;\n",
       "    }\n",
       "\n",
       "    .dataframe thead th {\n",
       "        text-align: right;\n",
       "    }\n",
       "</style>\n",
       "<table border=\"1\" class=\"dataframe\">\n",
       "  <thead>\n",
       "    <tr style=\"text-align: right;\">\n",
       "      <th></th>\n",
       "      <th>no_kp</th>\n",
       "      <th>len</th>\n",
       "      <th>birth_year</th>\n",
       "      <th>age</th>\n",
       "      <th>dob</th>\n",
       "      <th>month_issue</th>\n",
       "      <th>day_issue</th>\n",
       "      <th>state_code</th>\n",
       "      <th>statuscode</th>\n",
       "      <th>potential</th>\n",
       "    </tr>\n",
       "  </thead>\n",
       "  <tbody>\n",
       "    <tr>\n",
       "      <th>0</th>\n",
       "      <td>1002110209</td>\n",
       "      <td>10</td>\n",
       "      <td>2010</td>\n",
       "      <td>13</td>\n",
       "      <td>0211</td>\n",
       "      <td>no issue</td>\n",
       "      <td>no issue</td>\n",
       "      <td>02</td>\n",
       "      <td>exist</td>\n",
       "      <td>incomplete last digits</td>\n",
       "    </tr>\n",
       "    <tr>\n",
       "      <th>1</th>\n",
       "      <td>94103008650</td>\n",
       "      <td>11</td>\n",
       "      <td>1994</td>\n",
       "      <td>29</td>\n",
       "      <td>1030</td>\n",
       "      <td>no issue</td>\n",
       "      <td>no issue</td>\n",
       "      <td>08</td>\n",
       "      <td>exist</td>\n",
       "      <td>incomplete last digits</td>\n",
       "    </tr>\n",
       "    <tr>\n",
       "      <th>2</th>\n",
       "      <td>92082203513</td>\n",
       "      <td>11</td>\n",
       "      <td>1992</td>\n",
       "      <td>31</td>\n",
       "      <td>0822</td>\n",
       "      <td>no issue</td>\n",
       "      <td>no issue</td>\n",
       "      <td>03</td>\n",
       "      <td>exist</td>\n",
       "      <td>incomplete last digits</td>\n",
       "    </tr>\n",
       "    <tr>\n",
       "      <th>3</th>\n",
       "      <td>94133008650</td>\n",
       "      <td>11</td>\n",
       "      <td>1994</td>\n",
       "      <td>29</td>\n",
       "      <td>1330</td>\n",
       "      <td>something wrong</td>\n",
       "      <td>no issue</td>\n",
       "      <td>08</td>\n",
       "      <td>exist</td>\n",
       "      <td>potential LZ</td>\n",
       "    </tr>\n",
       "    <tr>\n",
       "      <th>4</th>\n",
       "      <td>94103060650</td>\n",
       "      <td>11</td>\n",
       "      <td>1994</td>\n",
       "      <td>29</td>\n",
       "      <td>1030</td>\n",
       "      <td>no issue</td>\n",
       "      <td>no issue</td>\n",
       "      <td>60</td>\n",
       "      <td>not exist</td>\n",
       "      <td>potential LZ</td>\n",
       "    </tr>\n",
       "  </tbody>\n",
       "</table>\n",
       "</div>"
      ],
      "text/plain": [
       "         no_kp  len  birth_year  age   dob      month_issue day_issue  \\\n",
       "0   1002110209   10        2010   13  0211         no issue  no issue   \n",
       "1  94103008650   11        1994   29  1030         no issue  no issue   \n",
       "2  92082203513   11        1992   31  0822         no issue  no issue   \n",
       "3  94133008650   11        1994   29  1330  something wrong  no issue   \n",
       "4  94103060650   11        1994   29  1030         no issue  no issue   \n",
       "\n",
       "  state_code statuscode               potential  \n",
       "0         02      exist  incomplete last digits  \n",
       "1         08      exist  incomplete last digits  \n",
       "2         03      exist  incomplete last digits  \n",
       "3         08      exist            potential LZ  \n",
       "4         60  not exist            potential LZ  "
      ]
     },
     "execution_count": 206,
     "metadata": {},
     "output_type": "execute_result"
    }
   ],
   "source": [
    "# Check for potential leading zeros or incomplete digits\n",
    "data['potential'] = (data['no_kp'].str.startswith('0')\n",
    "                     | (data['day_issue'] == 'something wrong')\n",
    "                     | (data['month_issue'] == 'something wrong')\n",
    "                    #  | (mask)\n",
    "                     | (data['statuscode'].str.startswith('not exist')))\n",
    "\n",
    "# Print messages based on potential LZ or incomplete digits\n",
    "data['potential'] = data['potential'].replace({True: 'potential LZ', False: 'incomplete last digits'})\n",
    "data.head()"
   ]
  },
  {
   "attachments": {},
   "cell_type": "markdown",
   "metadata": {},
   "source": [
    "if something wrong in col = day_issue OR month_issue OR statuscode ==> potential LZ"
   ]
  },
  {
   "cell_type": "code",
   "execution_count": 207,
   "metadata": {},
   "outputs": [
    {
     "data": {
      "text/plain": [
       "{'incomplete last digits', 'potential LZ'}"
      ]
     },
     "execution_count": 207,
     "metadata": {},
     "output_type": "execute_result"
    }
   ],
   "source": [
    "set(data['potential'])"
   ]
  },
  {
   "attachments": {},
   "cell_type": "markdown",
   "metadata": {},
   "source": [
    "## Potential issue incomplete last digit (len =11 )"
   ]
  },
  {
   "cell_type": "code",
   "execution_count": 208,
   "metadata": {},
   "outputs": [],
   "source": [
    "# data.drop_duplicates(subset=['id', 'no_kp', 'state01'], keep='last', inplace=True)"
   ]
  },
  {
   "cell_type": "code",
   "execution_count": 209,
   "metadata": {},
   "outputs": [
    {
     "data": {
      "text/plain": [
       "(5, 10)"
      ]
     },
     "execution_count": 209,
     "metadata": {},
     "output_type": "execute_result"
    }
   ],
   "source": [
    "data[data['potential'] == 'incomplete last digits'].shape"
   ]
  },
  {
   "cell_type": "code",
   "execution_count": 210,
   "metadata": {},
   "outputs": [
    {
     "data": {
      "text/plain": [
       "(4, 10)"
      ]
     },
     "execution_count": 210,
     "metadata": {},
     "output_type": "execute_result"
    }
   ],
   "source": [
    "data.query(\"potential == 'incomplete last digits' & len == 11\").shape"
   ]
  },
  {
   "cell_type": "code",
   "execution_count": 211,
   "metadata": {},
   "outputs": [
    {
     "data": {
      "text/plain": [
       "(1, 10)"
      ]
     },
     "execution_count": 211,
     "metadata": {},
     "output_type": "execute_result"
    }
   ],
   "source": [
    "data.query(\"potential == 'incomplete last digits' & len == 10\").shape"
   ]
  },
  {
   "attachments": {},
   "cell_type": "markdown",
   "metadata": {},
   "source": [
    "10 records incomplete last digits with len=10"
   ]
  },
  {
   "cell_type": "code",
   "execution_count": 212,
   "metadata": {},
   "outputs": [
    {
     "data": {
      "text/html": [
       "<div>\n",
       "<style scoped>\n",
       "    .dataframe tbody tr th:only-of-type {\n",
       "        vertical-align: middle;\n",
       "    }\n",
       "\n",
       "    .dataframe tbody tr th {\n",
       "        vertical-align: top;\n",
       "    }\n",
       "\n",
       "    .dataframe thead th {\n",
       "        text-align: right;\n",
       "    }\n",
       "</style>\n",
       "<table border=\"1\" class=\"dataframe\">\n",
       "  <thead>\n",
       "    <tr style=\"text-align: right;\">\n",
       "      <th></th>\n",
       "      <th>no_kp</th>\n",
       "      <th>len</th>\n",
       "      <th>birth_year</th>\n",
       "      <th>age</th>\n",
       "      <th>dob</th>\n",
       "      <th>month_issue</th>\n",
       "      <th>day_issue</th>\n",
       "      <th>state_code</th>\n",
       "      <th>statuscode</th>\n",
       "      <th>potential</th>\n",
       "    </tr>\n",
       "  </thead>\n",
       "  <tbody>\n",
       "    <tr>\n",
       "      <th>1</th>\n",
       "      <td>94103008650</td>\n",
       "      <td>11</td>\n",
       "      <td>1994</td>\n",
       "      <td>29</td>\n",
       "      <td>1030</td>\n",
       "      <td>no issue</td>\n",
       "      <td>no issue</td>\n",
       "      <td>08</td>\n",
       "      <td>exist</td>\n",
       "      <td>incomplete last digits</td>\n",
       "    </tr>\n",
       "    <tr>\n",
       "      <th>2</th>\n",
       "      <td>92082203513</td>\n",
       "      <td>11</td>\n",
       "      <td>1992</td>\n",
       "      <td>31</td>\n",
       "      <td>0822</td>\n",
       "      <td>no issue</td>\n",
       "      <td>no issue</td>\n",
       "      <td>03</td>\n",
       "      <td>exist</td>\n",
       "      <td>incomplete last digits</td>\n",
       "    </tr>\n",
       "    <tr>\n",
       "      <th>5</th>\n",
       "      <td>47020512506</td>\n",
       "      <td>11</td>\n",
       "      <td>1947</td>\n",
       "      <td>76</td>\n",
       "      <td>0205</td>\n",
       "      <td>no issue</td>\n",
       "      <td>no issue</td>\n",
       "      <td>12</td>\n",
       "      <td>exist</td>\n",
       "      <td>incomplete last digits</td>\n",
       "    </tr>\n",
       "    <tr>\n",
       "      <th>7</th>\n",
       "      <td>88092603628</td>\n",
       "      <td>11</td>\n",
       "      <td>1988</td>\n",
       "      <td>35</td>\n",
       "      <td>0926</td>\n",
       "      <td>no issue</td>\n",
       "      <td>no issue</td>\n",
       "      <td>03</td>\n",
       "      <td>exist</td>\n",
       "      <td>incomplete last digits</td>\n",
       "    </tr>\n",
       "  </tbody>\n",
       "</table>\n",
       "</div>"
      ],
      "text/plain": [
       "         no_kp  len  birth_year  age   dob month_issue day_issue state_code  \\\n",
       "1  94103008650   11        1994   29  1030    no issue  no issue         08   \n",
       "2  92082203513   11        1992   31  0822    no issue  no issue         03   \n",
       "5  47020512506   11        1947   76  0205    no issue  no issue         12   \n",
       "7  88092603628   11        1988   35  0926    no issue  no issue         03   \n",
       "\n",
       "  statuscode               potential  \n",
       "1      exist  incomplete last digits  \n",
       "2      exist  incomplete last digits  \n",
       "5      exist  incomplete last digits  \n",
       "7      exist  incomplete last digits  "
      ]
     },
     "execution_count": 212,
     "metadata": {},
     "output_type": "execute_result"
    }
   ],
   "source": [
    "data.query(\"potential == 'incomplete last digits' & len == 11\").head()"
   ]
  },
  {
   "attachments": {},
   "cell_type": "markdown",
   "metadata": {},
   "source": [
    "## Potential LZ issue (len = 11)"
   ]
  },
  {
   "cell_type": "code",
   "execution_count": 215,
   "metadata": {},
   "outputs": [
    {
     "data": {
      "text/plain": [
       "(2, 10)"
      ]
     },
     "execution_count": 215,
     "metadata": {},
     "output_type": "execute_result"
    }
   ],
   "source": [
    "# data.drop_duplicates(subset=['id', 'no_kp', 'state01'], keep='last', inplace=True)\n",
    "data.query(\"potential == 'potential LZ' & len == 11\").shape"
   ]
  },
  {
   "cell_type": "code",
   "execution_count": 216,
   "metadata": {},
   "outputs": [
    {
     "data": {
      "text/html": [
       "<div>\n",
       "<style scoped>\n",
       "    .dataframe tbody tr th:only-of-type {\n",
       "        vertical-align: middle;\n",
       "    }\n",
       "\n",
       "    .dataframe tbody tr th {\n",
       "        vertical-align: top;\n",
       "    }\n",
       "\n",
       "    .dataframe thead th {\n",
       "        text-align: right;\n",
       "    }\n",
       "</style>\n",
       "<table border=\"1\" class=\"dataframe\">\n",
       "  <thead>\n",
       "    <tr style=\"text-align: right;\">\n",
       "      <th></th>\n",
       "      <th>no_kp</th>\n",
       "      <th>len</th>\n",
       "      <th>birth_year</th>\n",
       "      <th>age</th>\n",
       "      <th>dob</th>\n",
       "      <th>month_issue</th>\n",
       "      <th>day_issue</th>\n",
       "      <th>state_code</th>\n",
       "      <th>statuscode</th>\n",
       "      <th>potential</th>\n",
       "    </tr>\n",
       "  </thead>\n",
       "  <tbody>\n",
       "    <tr>\n",
       "      <th>3</th>\n",
       "      <td>94133008650</td>\n",
       "      <td>11</td>\n",
       "      <td>1994</td>\n",
       "      <td>29</td>\n",
       "      <td>1330</td>\n",
       "      <td>something wrong</td>\n",
       "      <td>no issue</td>\n",
       "      <td>08</td>\n",
       "      <td>exist</td>\n",
       "      <td>potential LZ</td>\n",
       "    </tr>\n",
       "    <tr>\n",
       "      <th>4</th>\n",
       "      <td>94103060650</td>\n",
       "      <td>11</td>\n",
       "      <td>1994</td>\n",
       "      <td>29</td>\n",
       "      <td>1030</td>\n",
       "      <td>no issue</td>\n",
       "      <td>no issue</td>\n",
       "      <td>60</td>\n",
       "      <td>not exist</td>\n",
       "      <td>potential LZ</td>\n",
       "    </tr>\n",
       "  </tbody>\n",
       "</table>\n",
       "</div>"
      ],
      "text/plain": [
       "         no_kp  len  birth_year  age   dob      month_issue day_issue  \\\n",
       "3  94133008650   11        1994   29  1330  something wrong  no issue   \n",
       "4  94103060650   11        1994   29  1030         no issue  no issue   \n",
       "\n",
       "  state_code statuscode     potential  \n",
       "3         08      exist  potential LZ  \n",
       "4         60  not exist  potential LZ  "
      ]
     },
     "execution_count": 216,
     "metadata": {},
     "output_type": "execute_result"
    }
   ],
   "source": [
    "data.query(\"potential == 'potential LZ' & len == 11\").head()"
   ]
  },
  {
   "cell_type": "code",
   "execution_count": 217,
   "metadata": {},
   "outputs": [
    {
     "data": {
      "text/plain": [
       "(0, 10)"
      ]
     },
     "execution_count": 217,
     "metadata": {},
     "output_type": "execute_result"
    }
   ],
   "source": [
    "data.query(\"potential == 'potential LZ' & len == 10\").shape"
   ]
  },
  {
   "cell_type": "code",
   "execution_count": 218,
   "metadata": {},
   "outputs": [
    {
     "data": {
      "text/plain": [
       "(3, 10)"
      ]
     },
     "execution_count": 218,
     "metadata": {},
     "output_type": "execute_result"
    }
   ],
   "source": [
    "data.query(\"potential == 'potential LZ'\").shape"
   ]
  },
  {
   "cell_type": "code",
   "execution_count": 219,
   "metadata": {},
   "outputs": [
    {
     "data": {
      "text/plain": [
       "(1, 10)"
      ]
     },
     "execution_count": 219,
     "metadata": {},
     "output_type": "execute_result"
    }
   ],
   "source": [
    "data.query(\"potential == 'incomplete last digits' & len == 10\").shape"
   ]
  },
  {
   "attachments": {},
   "cell_type": "markdown",
   "metadata": {},
   "source": [
    "## Potential LZ issue and incomplete last digit"
   ]
  },
  {
   "cell_type": "code",
   "execution_count": 221,
   "metadata": {},
   "outputs": [
    {
     "data": {
      "text/plain": [
       "(0, 10)"
      ]
     },
     "execution_count": 221,
     "metadata": {},
     "output_type": "execute_result"
    }
   ],
   "source": [
    "# data.drop_duplicates(subset=['id', 'no_kp', 'state01'], keep='last', inplace=True)\n",
    "data.query(\"potential == 'potential LZ' & len == 10\").shape"
   ]
  },
  {
   "cell_type": "code",
   "execution_count": 222,
   "metadata": {},
   "outputs": [
    {
     "data": {
      "text/html": [
       "<div>\n",
       "<style scoped>\n",
       "    .dataframe tbody tr th:only-of-type {\n",
       "        vertical-align: middle;\n",
       "    }\n",
       "\n",
       "    .dataframe tbody tr th {\n",
       "        vertical-align: top;\n",
       "    }\n",
       "\n",
       "    .dataframe thead th {\n",
       "        text-align: right;\n",
       "    }\n",
       "</style>\n",
       "<table border=\"1\" class=\"dataframe\">\n",
       "  <thead>\n",
       "    <tr style=\"text-align: right;\">\n",
       "      <th></th>\n",
       "      <th>no_kp</th>\n",
       "      <th>len</th>\n",
       "      <th>birth_year</th>\n",
       "      <th>age</th>\n",
       "      <th>dob</th>\n",
       "      <th>month_issue</th>\n",
       "      <th>day_issue</th>\n",
       "      <th>state_code</th>\n",
       "      <th>statuscode</th>\n",
       "      <th>potential</th>\n",
       "    </tr>\n",
       "  </thead>\n",
       "  <tbody>\n",
       "  </tbody>\n",
       "</table>\n",
       "</div>"
      ],
      "text/plain": [
       "Empty DataFrame\n",
       "Columns: [no_kp, len, birth_year, age, dob, month_issue, day_issue, state_code, statuscode, potential]\n",
       "Index: []"
      ]
     },
     "execution_count": 222,
     "metadata": {},
     "output_type": "execute_result"
    }
   ],
   "source": [
    "data.query(\"potential == 'potential LZ' & len == 10\")"
   ]
  },
  {
   "cell_type": "code",
   "execution_count": null,
   "metadata": {},
   "outputs": [],
   "source": []
  }
 ],
 "metadata": {
  "kernelspec": {
   "display_name": "Python 3",
   "language": "python",
   "name": "python3"
  },
  "language_info": {
   "codemirror_mode": {
    "name": "ipython",
    "version": 3
   },
   "file_extension": ".py",
   "mimetype": "text/x-python",
   "name": "python",
   "nbconvert_exporter": "python",
   "pygments_lexer": "ipython3",
   "version": "3.11.1"
  },
  "orig_nbformat": 4,
  "vscode": {
   "interpreter": {
    "hash": "c261aea317cc0286b3b3261fbba9abdec21eaa57589985bb7a274bf54d6cc0a7"
   }
  }
 },
 "nbformat": 4,
 "nbformat_minor": 2
}
