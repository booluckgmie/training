{
  "nbformat": 4,
  "nbformat_minor": 0,
  "metadata": {
    "colab": {
      "name": "Split Large File to Multiple Files_byNoRows",
      "provenance": []
    },
    "kernelspec": {
      "name": "python3",
      "display_name": "Python 3"
    },
    "language_info": {
      "name": "python"
    }
  },
  "cells": [
    {
      "cell_type": "code",
      "metadata": {
        "id": "jWqTSZhqLXee"
      },
      "source": [
        ""
      ],
      "execution_count": null,
      "outputs": []
    },
    {
      "cell_type": "code",
      "metadata": {
        "id": "T2NEG-PTJx_E"
      },
      "source": [
        "def split_csv(source_filepath, dest_folder, split_file_prefix,\n",
        "                records_per_file):\n",
        "    \"\"\"\n",
        "    Split a source csv into multiple csvs of equal numbers of records,\n",
        "    except the last file.\n",
        "\n",
        "    Includes the initial header row in each split file.\n",
        "\n",
        "    Split files follow a zero-index sequential naming convention like so:\n",
        "\n",
        "        `{split_file_prefix}_0.csv`\n",
        "    \"\"\"\n",
        "    if records_per_file <= 0:\n",
        "        raise Exception('records_per_file must be > 0')\n",
        "\n",
        "    with open(source_filepath, 'r') as source:\n",
        "        reader = csv.reader(source)\n",
        "        headers = next(reader)\n",
        "\n",
        "        file_idx = 0\n",
        "        records_exist = True\n",
        "\n",
        "        while records_exist:\n",
        "\n",
        "            i = 0\n",
        "            target_filename = f'{split_file_prefix}_{file_idx}.csv'\n",
        "            target_filepath = os.path.join(dest_folder, target_filename)\n",
        "\n",
        "            with open(target_filepath, 'w') as target:\n",
        "                writer = csv.writer(target)\n",
        "\n",
        "                while i < records_per_file:\n",
        "                    if i == 0:\n",
        "                        writer.writerow(headers)\n",
        "\n",
        "                    try:\n",
        "                        writer.writerow(next(reader))\n",
        "                        i += 1\n",
        "                    except StopIteration:\n",
        "                        records_exist = False\n",
        "                        break\n",
        "\n",
        "            if i == 0:\n",
        "                # we only wrote the header, so delete that file\n",
        "                os.remove(target_filepath)\n",
        "\n",
        "            file_idx += 1"
      ],
      "execution_count": null,
      "outputs": []
    },
    {
      "cell_type": "code",
      "metadata": {
        "id": "Oe7XnlpoJ_CM"
      },
      "source": [
        "source_filepath = '/content/sample_data/california_housing_train.csv' #directory file asal\n",
        "dest_folder = '/content/sample_data' #target output file\n",
        "split_file_prefix = 'split' #split rename, eg: Melaka_0, Melaka_1, Melaka_2\n",
        "records_per_file = 3400 #bilangan per records\n",
        "\n",
        "split_csv(source_filepath, dest_folder, split_file_prefix, records_per_file)"
      ],
      "execution_count": null,
      "outputs": []
    }
  ]
}