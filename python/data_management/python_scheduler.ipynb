{
 "cells": [
  {
   "cell_type": "markdown",
   "metadata": {},
   "source": [
    "https://medium.com/short-bits/an-extremely-simple-way-to-schedule-programs-with-python-on-windows-46fc34074874"
   ]
  },
  {
   "cell_type": "code",
   "execution_count": 1,
   "metadata": {},
   "outputs": [
    {
     "name": "stdout",
     "output_type": "stream",
     "text": [
      "I'm working...\n",
      "I'm working...\n",
      "I'm working...\n"
     ]
    },
    {
     "ename": "KeyboardInterrupt",
     "evalue": "",
     "output_type": "error",
     "traceback": [
      "\u001b[1;31m---------------------------------------------------------------------------\u001b[0m",
      "\u001b[1;31mKeyboardInterrupt\u001b[0m                         Traceback (most recent call last)",
      "Cell \u001b[1;32mIn [1], line 24\u001b[0m\n\u001b[0;32m     22\u001b[0m \u001b[39mwhile\u001b[39;00m \u001b[39mTrue\u001b[39;00m:\n\u001b[0;32m     23\u001b[0m     schedule\u001b[39m.\u001b[39mrun_pending()\n\u001b[1;32m---> 24\u001b[0m     time\u001b[39m.\u001b[39msleep(\u001b[39m1\u001b[39m)\n",
      "\u001b[1;31mKeyboardInterrupt\u001b[0m: "
     ]
    }
   ],
   "source": [
    "import schedule\n",
    "import time\n",
    "\n",
    "def job():\n",
    "    print(\"I'm working...\")\n",
    "\n",
    "schedule.every(10).seconds.do(job)\n",
    "# schedule.every(10).minutes.do(job)\n",
    "# schedule.every().hour.do(job)\n",
    "# schedule.every().day.at(\"10:30\").do(job)\n",
    "# schedule.every(5).to(10).minutes.do(job)\n",
    "# schedule.every().monday.do(job)\n",
    "# schedule.every().wednesday.at(\"13:15\").do(job)\n",
    "# schedule.every().day.at(\"12:42\", \"Europe/Amsterdam\").do(job)\n",
    "# schedule.every().minute.at(\":17\").do(job)\n",
    "\n",
    "# def job_with_argument(name):\n",
    "#     print(f\"I am {name}\")\n",
    "\n",
    "# schedule.every(10).seconds.do(job_with_argument, name=\"Peter\")\n",
    "\n",
    "while True:\n",
    "    schedule.run_pending()\n",
    "    time.sleep(1)"
   ]
  },
  {
   "cell_type": "code",
   "execution_count": null,
   "metadata": {},
   "outputs": [],
   "source": [
    "#1. create new .py file - name : schedular.py\n",
    "#2. pip install schedule\n",
    "\n",
    "# Schedule Library imported\n",
    "import subprocess\n",
    "import schedule\n",
    "import time\n",
    "\n",
    "# Functions setup\n",
    "\n",
    "print(\"next analysis started soon ...\")\n",
    "def job():\n",
    "\tsubprocess.run('E:\\gotrace\\cron_gotrace.bat') #.bat location file\n",
    "    \n",
    "schedule.every().day.at(\"08:00\").do(job) #daily 8am next run\n",
    "schedule.every().day.at(\"12:00\").do(job) #daily 12pm next run\n",
    "schedule.every().day.at(\"17:00\").do(job) #daily 6pm\n",
    "\n",
    "while True:\n",
    "\n",
    "\t# Checks whether a scheduled task\n",
    "\t# is pending to run or not\n",
    "\tschedule.run_pending()\n",
    "\ttime.sleep(1)\n"
   ]
  }
 ],
 "metadata": {
  "kernelspec": {
   "display_name": "Python 3.11.0 ('gemy')",
   "language": "python",
   "name": "python3"
  },
  "language_info": {
   "codemirror_mode": {
    "name": "ipython",
    "version": 3
   },
   "file_extension": ".py",
   "mimetype": "text/x-python",
   "name": "python",
   "nbconvert_exporter": "python",
   "pygments_lexer": "ipython3",
   "version": "3.11.0"
  },
  "orig_nbformat": 4,
  "vscode": {
   "interpreter": {
    "hash": "3ed206cf688b3fc72a84b5a5a0bb5bde581e52ce3ba38cc13f276eabebf86163"
   }
  }
 },
 "nbformat": 4,
 "nbformat_minor": 2
}
