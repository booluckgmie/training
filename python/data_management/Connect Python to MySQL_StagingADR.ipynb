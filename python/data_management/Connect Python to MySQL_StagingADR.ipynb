{
 "cells": [
  {
   "cell_type": "markdown",
   "id": "c4cbb836-614f-4642-aba5-ed27e138a309",
   "metadata": {},
   "source": [
    "## Check List of Tables in Database"
   ]
  },
  {
   "cell_type": "code",
   "execution_count": 36,
   "id": "1b43539b-2ac7-4662-a4b9-1aa5c4050fd5",
   "metadata": {},
   "outputs": [
    {
     "name": "stdout",
     "output_type": "stream",
     "text": [
      "('geo_kawasanku',)\n",
      "('testingtable',)\n"
     ]
    }
   ],
   "source": [
    "import mysql.connector\n",
    "\n",
    "mydb = mysql.connector.connect(\n",
    "    host=\"10.21.45.183\",\n",
    "    user=\"najmi\",\n",
    "    password=\"Najmi@118\",\n",
    "    database=\"ADR\"\n",
    ")\n",
    "\n",
    "mycursor = mydb.cursor()\n",
    "\n",
    "mycursor.execute(\"Show tables;\")\n",
    "\n",
    "myresult = mycursor.fetchall()\n",
    "\n",
    "for x in myresult:\n",
    "    print(x)"
   ]
  },
  {
   "cell_type": "markdown",
   "id": "f0d347a7-d577-48e3-aa6b-2c9dc70ff42d",
   "metadata": {},
   "source": [
    "## Read Table in Database"
   ]
  },
  {
   "cell_type": "code",
   "execution_count": 37,
   "id": "d557f7c7-9fd1-4fb3-9036-8101523c8c92",
   "metadata": {},
   "outputs": [
    {
     "name": "stdout",
     "output_type": "stream",
     "text": [
      "Connected to MySQL Server version  8.0.21\n",
      "You're connected to database:  ('ADR',)\n"
     ]
    },
    {
     "data": {
      "text/plain": [
       "'\\nfinally:\\n    if connection.is_connected():\\n        cursor.close()\\n        connection.close()\\n        print(\"MySQL connection is closed\")\\n'"
      ]
     },
     "execution_count": 37,
     "metadata": {},
     "output_type": "execute_result"
    }
   ],
   "source": [
    "import mysql.connector\n",
    "from mysql.connector import Error\n",
    "\n",
    "try:\n",
    "    connection = mysql.connector.connect(host='10.21.45.183',\n",
    "                                         database='ADR',\n",
    "                                         user='***', # username\n",
    "                                         password=='***') # password\n",
    "    if connection.is_connected():\n",
    "        db_Info = connection.get_server_info()\n",
    "        print(\"Connected to MySQL Server version \", db_Info)\n",
    "        cursor = connection.cursor()\n",
    "        cursor.execute(\"select database();\")\n",
    "        record = cursor.fetchone()\n",
    "        print(\"You're connected to database: \", record)\n",
    "\n",
    "except Error as e:\n",
    "    print(\"Error while connecting to MySQL\", e)\n",
    "    \n",
    "'''\n",
    "finally:\n",
    "    if connection.is_connected():\n",
    "        cursor.close()\n",
    "        connection.close()\n",
    "        print(\"MySQL connection is closed\")\n",
    "'''"
   ]
  },
  {
   "cell_type": "code",
   "execution_count": 38,
   "id": "81594caa-bfb7-4768-8fe0-453a0a0c2acb",
   "metadata": {},
   "outputs": [],
   "source": [
    "df = pd.read_sql_query(\"SELECT * FROM geo_kawasanku\",\n",
    "    connection)"
   ]
  },
  {
   "cell_type": "code",
   "execution_count": 39,
   "id": "8c9ef8b6-cf27-449e-8494-2e7a480b6923",
   "metadata": {},
   "outputs": [
    {
     "data": {
      "text/html": [
       "<div>\n",
       "<style scoped>\n",
       "    .dataframe tbody tr th:only-of-type {\n",
       "        vertical-align: middle;\n",
       "    }\n",
       "\n",
       "    .dataframe tbody tr th {\n",
       "        vertical-align: top;\n",
       "    }\n",
       "\n",
       "    .dataframe thead th {\n",
       "        text-align: right;\n",
       "    }\n",
       "</style>\n",
       "<table border=\"1\" class=\"dataframe\">\n",
       "  <thead>\n",
       "    <tr style=\"text-align: right;\">\n",
       "      <th></th>\n",
       "      <th>area_type</th>\n",
       "      <th>area</th>\n",
       "      <th>total_area</th>\n",
       "      <th>max_elevation</th>\n",
       "      <th>ruggedness</th>\n",
       "      <th>watercover</th>\n",
       "      <th>treecover</th>\n",
       "      <th>treeloss</th>\n",
       "      <th>nightlights</th>\n",
       "    </tr>\n",
       "  </thead>\n",
       "  <tbody>\n",
       "    <tr>\n",
       "      <th>0</th>\n",
       "      <td>state</td>\n",
       "      <td>Johor</td>\n",
       "      <td>19160.0</td>\n",
       "      <td>1249.0</td>\n",
       "      <td>59.88</td>\n",
       "      <td>0.12</td>\n",
       "      <td>72.82</td>\n",
       "      <td>0.41</td>\n",
       "      <td>143.57</td>\n",
       "    </tr>\n",
       "    <tr>\n",
       "      <th>1</th>\n",
       "      <td>state</td>\n",
       "      <td>Kedah</td>\n",
       "      <td>9492.0</td>\n",
       "      <td>1851.0</td>\n",
       "      <td>138.38</td>\n",
       "      <td>0.18</td>\n",
       "      <td>62.76</td>\n",
       "      <td>0.23</td>\n",
       "      <td>1.89</td>\n",
       "    </tr>\n",
       "    <tr>\n",
       "      <th>2</th>\n",
       "      <td>state</td>\n",
       "      <td>Kelantan</td>\n",
       "      <td>15035.0</td>\n",
       "      <td>2182.0</td>\n",
       "      <td>526.14</td>\n",
       "      <td>0.05</td>\n",
       "      <td>80.86</td>\n",
       "      <td>0.29</td>\n",
       "      <td>0.83</td>\n",
       "    </tr>\n",
       "    <tr>\n",
       "      <th>3</th>\n",
       "      <td>state</td>\n",
       "      <td>Melaka</td>\n",
       "      <td>1712.0</td>\n",
       "      <td>500.0</td>\n",
       "      <td>258.73</td>\n",
       "      <td>0.07</td>\n",
       "      <td>56.57</td>\n",
       "      <td>0.40</td>\n",
       "      <td>83.20</td>\n",
       "    </tr>\n",
       "    <tr>\n",
       "      <th>4</th>\n",
       "      <td>state</td>\n",
       "      <td>Negeri Sembilan</td>\n",
       "      <td>6654.0</td>\n",
       "      <td>1443.0</td>\n",
       "      <td>407.07</td>\n",
       "      <td>0.03</td>\n",
       "      <td>72.47</td>\n",
       "      <td>0.42</td>\n",
       "      <td>61.89</td>\n",
       "    </tr>\n",
       "  </tbody>\n",
       "</table>\n",
       "</div>"
      ],
      "text/plain": [
       "  area_type             area  total_area  max_elevation  ruggedness  \\\n",
       "0     state            Johor     19160.0         1249.0       59.88   \n",
       "1     state            Kedah      9492.0         1851.0      138.38   \n",
       "2     state         Kelantan     15035.0         2182.0      526.14   \n",
       "3     state           Melaka      1712.0          500.0      258.73   \n",
       "4     state  Negeri Sembilan      6654.0         1443.0      407.07   \n",
       "\n",
       "   watercover  treecover  treeloss  nightlights  \n",
       "0        0.12      72.82      0.41       143.57  \n",
       "1        0.18      62.76      0.23         1.89  \n",
       "2        0.05      80.86      0.29         0.83  \n",
       "3        0.07      56.57      0.40        83.20  \n",
       "4        0.03      72.47      0.42        61.89  "
      ]
     },
     "execution_count": 39,
     "metadata": {},
     "output_type": "execute_result"
    }
   ],
   "source": [
    "df.head()"
   ]
  },
  {
   "cell_type": "markdown",
   "id": "381eb5dc-b808-4f00-8714-b19ea23594bb",
   "metadata": {},
   "source": [
    "## Disconnecting the DB Connection"
   ]
  },
  {
   "cell_type": "code",
   "execution_count": 41,
   "id": "0edb3e67-8306-4231-abc0-8878e0dac749",
   "metadata": {},
   "outputs": [],
   "source": [
    "#finally:\n",
    "#    if connection.is_connected():\n",
    "#        cursor.close()\n",
    "#        connection.close()\n",
    "#        print(\"MySQL connection is closed\")"
   ]
  },
  {
   "cell_type": "code",
   "execution_count": null,
   "id": "1b673904-09d5-4556-8d86-2933bb8d4628",
   "metadata": {},
   "outputs": [],
   "source": []
  }
 ],
 "metadata": {
  "kernelspec": {
   "display_name": "Python 3",
   "language": "python",
   "name": "python3"
  },
  "language_info": {
   "codemirror_mode": {
    "name": "ipython",
    "version": 3
   },
   "file_extension": ".py",
   "mimetype": "text/x-python",
   "name": "python",
   "nbconvert_exporter": "python",
   "pygments_lexer": "ipython3",
   "version": "3.8.8"
  }
 },
 "nbformat": 4,
 "nbformat_minor": 5
}
