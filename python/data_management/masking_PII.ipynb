{
 "cells": [
  {
   "attachments": {},
   "cell_type": "markdown",
   "metadata": {},
   "source": [
    "# Masking personally identifiable information (PII)"
   ]
  },
  {
   "cell_type": "code",
   "execution_count": 9,
   "metadata": {},
   "outputs": [
    {
     "name": "stdout",
     "output_type": "stream",
     "text": [
      "Collecting numexpr\n",
      "  Using cached numexpr-2.8.4-cp310-cp310-win_amd64.whl (92 kB)\n",
      "Collecting numpy>=1.13.3 (from numexpr)\n",
      "  Using cached numpy-1.24.3-cp310-cp310-win_amd64.whl (14.8 MB)\n",
      "Installing collected packages: numpy, numexpr\n",
      "Successfully installed numexpr-2.8.4 numpy-1.24.3\n"
     ]
    },
    {
     "name": "stderr",
     "output_type": "stream",
     "text": [
      "WARNING: Ignoring invalid distribution -andas (c:\\users\\najmi.ariffin\\anaconda3\\envs\\ui\\lib\\site-packages)\n",
      "WARNING: Ignoring invalid distribution -andas (c:\\users\\najmi.ariffin\\anaconda3\\envs\\ui\\lib\\site-packages)\n",
      "  WARNING: The script f2py.exe is installed in 'C:\\Users\\najmi.ariffin\\AppData\\Roaming\\Python\\Python310\\Scripts' which is not on PATH.\n",
      "  Consider adding this directory to PATH or, if you prefer to suppress this warning, use --no-warn-script-location.\n",
      "ERROR: pip's dependency resolver does not currently take into account all the packages that are installed. This behaviour is the source of the following dependency conflicts.\n",
      "jupyter-bokeh 3.0.7 requires bokeh==3.*, but you have bokeh 2.4.3 which is incompatible.\n",
      "mlflow 1.28.0 requires importlib-metadata!=4.7.0,<5,>=3.7.0, but you have importlib-metadata 6.5.0 which is incompatible.\n",
      "mlflow 1.28.0 requires packaging<22, but you have packaging 23.1 which is incompatible.\n",
      "mlflow 1.28.0 requires pytz<2023, but you have pytz 2023.3 which is incompatible.\n",
      "numba 0.56.2 requires numpy<1.24,>=1.18, but you have numpy 1.24.3 which is incompatible.\n",
      "pandas-profiling 3.3.0 requires joblib~=1.1.0, but you have joblib 1.2.0 which is incompatible.\n",
      "pandas-profiling 3.3.0 requires matplotlib<3.6,>=3.2, but you have matplotlib 3.7.1 which is incompatible.\n",
      "pandas-profiling 3.3.0 requires numpy<1.24,>=1.16.0, but you have numpy 1.24.3 which is incompatible.\n",
      "pandas-profiling 3.3.0 requires pandas!=1.4.0,<1.5,>1.1, but you have pandas 1.5.3 which is incompatible.\n",
      "pandas-profiling 3.3.0 requires requests<2.29,>=2.24.0, but you have requests 2.29.0 which is incompatible.\n",
      "pandas-profiling 3.3.0 requires tqdm<4.65,>=4.48.2, but you have tqdm 4.65.0 which is incompatible.\n",
      "pycaret 3.0.1 requires numpy<1.24,>=1.21, but you have numpy 1.24.3 which is incompatible.\n"
     ]
    }
   ],
   "source": [
    "# !pip install faker faker-schema"
   ]
  },
  {
   "attachments": {},
   "cell_type": "markdown",
   "metadata": {},
   "source": [
    "## Direct Masking (Failed - fail to detect unique ID from dictionary, must be in integer)"
   ]
  },
  {
   "cell_type": "code",
   "execution_count": 23,
   "metadata": {},
   "outputs": [
    {
     "name": "stdout",
     "output_type": "stream",
     "text": [
      "Original Personal Data:\n",
      "{'id_no': '543609320', 'name': 'Julie Parker', 'email': 'reynoldsstephanie@example.com', 'phone_number': '001-754-672-7246x524', 'address': '2210 Charles Ford\\nCisnerosshire, AR 45535'}\n",
      "{'id_no': '555367890', 'name': 'Margaret Coleman', 'email': 'bdavis@example.com', 'phone_number': '3669458174', 'address': '43025 Gonzales Squares\\nWongfurt, TX 76564'}\n",
      "{'id_no': '250725242', 'name': 'Patricia Dickerson', 'email': 'taylor27@example.com', 'phone_number': '+1-056-145-7357x74634', 'address': 'PSC 6566, Box 0488\\nAPO AA 54827'}\n",
      "{'id_no': '975874059', 'name': 'Jennifer Miller', 'email': 'griffinjesus@example.org', 'phone_number': '168-944-5536x261', 'address': '7537 Jamie Trail\\nWest Terrimouth, AL 01255'}\n",
      "{'id_no': '438481931', 'name': 'Tyler Bailey', 'email': 'vsanchez@example.com', 'phone_number': '(636)899-3975x8461', 'address': '45918 Goodwin Isle\\nPort Autumn, IN 76290'}\n",
      "{'id_no': '652241524', 'name': 'Kenneth Barker', 'email': 'davidrodriguez@example.net', 'phone_number': '216.283.2504x64970', 'address': '341 Francis Tunnel Apt. 569\\nSmithmouth, KY 29748'}\n",
      "{'id_no': '388596134', 'name': 'Isaac Ochoa', 'email': 'millerashley@example.net', 'phone_number': '860-173-4769', 'address': '7585 Martinez Pines Apt. 861\\nWest Travisshire, PR 95242'}\n",
      "{'id_no': '319727042', 'name': 'Brandon Long', 'email': 'omar93@example.org', 'phone_number': '(248)130-7190', 'address': '2573 Jones Light\\nChandlerhaven, NV 18274'}\n",
      "{'id_no': '108324753', 'name': 'William Perez', 'email': 'riveraamanda@example.com', 'phone_number': '(307)473-5882x70564', 'address': '5677 Coleman Lodge\\nAmbermouth, OR 66279'}\n",
      "{'id_no': '062558385', 'name': 'Julie Adams', 'email': 'billylopez@example.com', 'phone_number': '232.976.5497x139', 'address': '846 Christopher Brooks\\nBrooksberg, DE 86188'}\n",
      "\n",
      "Masked Personal Data:\n",
      "{'id_no': 'XXXXXXX9320', 'name': 'XXXXX Parker', 'email': 'reynoldsstephanie@example.com', 'phone_number': '001-754-672-7246x524', 'address': '2210 Charles Ford\\nCisnerosshire, AR 45535'}\n",
      "{'id_no': 'XXXXXXX7890', 'name': 'XXXXXXXX Coleman', 'email': 'bdavis@example.com', 'phone_number': '3669458174', 'address': '43025 Gonzales Squares\\nWongfurt, TX 76564'}\n",
      "{'id_no': 'XXXXXXX5242', 'name': 'XXXXXXXX Dickerson', 'email': 'taylor27@example.com', 'phone_number': '+1-056-145-7357x74634', 'address': 'PSC 6566, Box 0488\\nAPO AA 54827'}\n",
      "{'id_no': 'XXXXXXX4059', 'name': 'XXXXXXXX Miller', 'email': 'griffinjesus@example.org', 'phone_number': '168-944-5536x261', 'address': '7537 Jamie Trail\\nWest Terrimouth, AL 01255'}\n",
      "{'id_no': 'XXXXXXX1931', 'name': 'XXXXX Bailey', 'email': 'vsanchez@example.com', 'phone_number': '(636)899-3975x8461', 'address': '45918 Goodwin Isle\\nPort Autumn, IN 76290'}\n",
      "{'id_no': 'XXXXXXX1524', 'name': 'XXXXXXX Barker', 'email': 'davidrodriguez@example.net', 'phone_number': '216.283.2504x64970', 'address': '341 Francis Tunnel Apt. 569\\nSmithmouth, KY 29748'}\n",
      "{'id_no': 'XXXXXXX6134', 'name': 'XXXXX Ochoa', 'email': 'millerashley@example.net', 'phone_number': '860-173-4769', 'address': '7585 Martinez Pines Apt. 861\\nWest Travisshire, PR 95242'}\n",
      "{'id_no': 'XXXXXXX7042', 'name': 'XXXXXXX Long', 'email': 'omar93@example.org', 'phone_number': '(248)130-7190', 'address': '2573 Jones Light\\nChandlerhaven, NV 18274'}\n",
      "{'id_no': 'XXXXXXX4753', 'name': 'XXXXXXX Perez', 'email': 'riveraamanda@example.com', 'phone_number': '(307)473-5882x70564', 'address': '5677 Coleman Lodge\\nAmbermouth, OR 66279'}\n",
      "{'id_no': 'XXXXXXX8385', 'name': 'XXXXX Adams', 'email': 'billylopez@example.com', 'phone_number': '232.976.5497x139', 'address': '846 Christopher Brooks\\nBrooksberg, DE 86188'}\n"
     ]
    },
    {
     "ename": "TypeError",
     "evalue": "string indices must be integers",
     "output_type": "error",
     "traceback": [
      "\u001b[1;31m---------------------------------------------------------------------------\u001b[0m",
      "\u001b[1;31mTypeError\u001b[0m                                 Traceback (most recent call last)",
      "Cell \u001b[1;32mIn[23], line 53\u001b[0m\n\u001b[0;32m     51\u001b[0m remapped_data \u001b[39m=\u001b[39m []\n\u001b[0;32m     52\u001b[0m \u001b[39mfor\u001b[39;00m masked_record \u001b[39min\u001b[39;00m masked_data:\n\u001b[1;32m---> 53\u001b[0m     masked_id_no \u001b[39m=\u001b[39m mapping_dict\u001b[39m.\u001b[39mget(masked_record[\u001b[39m'\u001b[39;49m\u001b[39mid_no\u001b[39;49m\u001b[39m'\u001b[39;49m], masked_record[\u001b[39m'\u001b[39m\u001b[39mid_no\u001b[39m\u001b[39m'\u001b[39m])\n\u001b[0;32m     54\u001b[0m     masked_name \u001b[39m=\u001b[39m mapping_dict\u001b[39m.\u001b[39mget(masked_record[\u001b[39m'\u001b[39m\u001b[39mname\u001b[39m\u001b[39m'\u001b[39m], masked_record[\u001b[39m'\u001b[39m\u001b[39mname\u001b[39m\u001b[39m'\u001b[39m])\n\u001b[0;32m     55\u001b[0m     original_id_no \u001b[39m=\u001b[39m mapping_dict\u001b[39m.\u001b[39mget(masked_id_no, masked_id_no)\n",
      "\u001b[1;31mTypeError\u001b[0m: string indices must be integers"
     ]
    }
   ],
   "source": [
    "from faker import Faker\n",
    "import random\n",
    "import string\n",
    "\n",
    "# Create a Faker instance\n",
    "fake = Faker()\n",
    "\n",
    "# Generate dummy personal data\n",
    "num_records = 10\n",
    "personal_data = []\n",
    "for i in range(num_records):\n",
    "    # Generate a random 9-digit ID number\n",
    "    id_no = ''.join(random.choices(string.digits, k=9))\n",
    "    data = {\n",
    "        \"id_no\": id_no,\n",
    "        \"name\": fake.name(),\n",
    "        \"email\": fake.email(),\n",
    "        \"phone_number\": fake.phone_number(),\n",
    "        \"address\": fake.address(),\n",
    "    }\n",
    "    personal_data.append(data)\n",
    "\n",
    "# Display the original personal data\n",
    "print(\"Original Personal Data:\")\n",
    "for data in personal_data:\n",
    "    print(data)\n",
    "\n",
    "# Mask the id_no and name columns\n",
    "masked_data = []\n",
    "for data in personal_data:\n",
    "    masked_id_no = 'X' * 7 + data['id_no'][-4:]\n",
    "    masked_name = 'X' * len(data['name'].split()[0]) + ' ' + ' '.join(data['name'].split()[1:])\n",
    "    masked_data.append({**data, \"id_no\": masked_id_no, \"name\": masked_name})\n",
    "\n",
    "# Display the masked personal data\n",
    "print(\"\\nMasked Personal Data:\")\n",
    "for data in masked_data:\n",
    "    print(data)\n",
    "\n",
    "# Create a mapping dictionary\n",
    "mapping_dict = {}\n",
    "for original_data, masked_data in zip(personal_data, masked_data):\n",
    "    original_id_no = original_data['id_no']\n",
    "    masked_id_no = masked_data['id_no']\n",
    "    original_name = original_data['name']\n",
    "    masked_name = masked_data['name']\n",
    "    mapping_dict[masked_id_no] = original_id_no\n",
    "    mapping_dict[masked_name] = original_name\n",
    "\n",
    "# Remap the masked data back to the original data\n",
    "remapped_data = []\n",
    "for masked_record in masked_data:\n",
    "    masked_id_no = mapping_dict.get(masked_record['id_no'], masked_record['id_no'])\n",
    "    masked_name = mapping_dict.get(masked_record['name'], masked_record['name'])\n",
    "    original_id_no = mapping_dict.get(masked_id_no, masked_id_no)\n",
    "    original_name = mapping_dict.get(masked_name, masked_name)\n",
    "    remapped_data.append({**masked_record, \"id_no\": original_id_no, \"name\": original_name})\n",
    "\n",
    "# Display the remapped personal data\n",
    "print(\"\\nRemapped Personal Data:\")\n",
    "for data in remapped_data:\n",
    "    print(data)\n"
   ]
  },
  {
   "attachments": {},
   "cell_type": "markdown",
   "metadata": {},
   "source": [
    "#### suitable for display the actual data with masking"
   ]
  },
  {
   "cell_type": "code",
   "execution_count": null,
   "metadata": {},
   "outputs": [],
   "source": []
  },
  {
   "attachments": {},
   "cell_type": "markdown",
   "metadata": {},
   "source": [
    "## SHA-hashlib (Succeed) - Can remapping the original data"
   ]
  },
  {
   "attachments": {},
   "cell_type": "markdown",
   "metadata": {},
   "source": [
    "### masking column no_id and name"
   ]
  },
  {
   "cell_type": "code",
   "execution_count": 37,
   "metadata": {},
   "outputs": [
    {
     "name": "stdout",
     "output_type": "stream",
     "text": [
      "Original Personal Data:\n",
      "{'id_no': '516421849', 'name': 'Susan Ortiz', 'email': 'thomasrodriguez@example.net', 'phone_number': '001-670-678-3257x98629', 'address': 'USNS Davis\\nFPO AP 47322'}\n",
      "{'id_no': '730055429', 'name': 'Emily Garcia', 'email': 'mirandatyler@example.com', 'phone_number': '332.400.2721x385', 'address': '9225 Henry Circles\\nSouth Ronald, HI 86563'}\n",
      "{'id_no': '307138181', 'name': 'Stephanie Andrade', 'email': 'kelly29@example.com', 'phone_number': '(623)752-2745', 'address': '40793 Timothy Stream Suite 179\\nMarieville, CA 69187'}\n",
      "{'id_no': '614912960', 'name': 'John James', 'email': 'mark47@example.org', 'phone_number': '581.774.7315', 'address': '91156 Smith Gardens Suite 999\\nRobertmouth, ID 96694'}\n",
      "{'id_no': '242655126', 'name': 'Danny Mathews', 'email': 'johnjensen@example.org', 'phone_number': '(012)940-4785x90533', 'address': '49134 Benjamin Village\\nMelissafort, ME 82403'}\n",
      "{'id_no': '830360754', 'name': 'Susan Miller', 'email': 'barbara96@example.org', 'phone_number': '001-184-627-6448', 'address': '73019 Nicole Mews Suite 505\\nNorth Andreachester, KS 46740'}\n",
      "{'id_no': '025834111', 'name': 'Karen Mosley', 'email': 'osummers@example.net', 'phone_number': '(958)840-7963', 'address': '765 Christopher Gardens\\nMarissashire, NE 47307'}\n",
      "{'id_no': '970547197', 'name': 'Andrea Myers', 'email': 'danielle47@example.org', 'phone_number': '0540504137', 'address': '999 Farmer Dale\\nLake Stevenborough, MN 03797'}\n",
      "{'id_no': '928053331', 'name': 'Cory Scott', 'email': 'millerdavid@example.org', 'phone_number': '312-213-5578x72992', 'address': '194 Caroline Mills Apt. 365\\nMooreborough, GU 74112'}\n",
      "{'id_no': '020065956', 'name': 'Brenda Brown', 'email': 'jodyfrost@example.org', 'phone_number': '454-734-7395x5668', 'address': '9199 Michael Tunnel\\nEast Williamstad, AZ 15743'}\n",
      "\n",
      "Masked Personal Data:\n",
      "{'id_no': '5bc95e09b059851c850ed505d50d34b271214e299566a49709897319c9e202ac', 'name': 'e5bac38d518f2d06de391217fc97cda20ea39c1b86691ad91a2b665382003d7d', 'email': 'thomasrodriguez@example.net', 'phone_number': '001-670-678-3257x98629', 'address': 'USNS Davis\\nFPO AP 47322'}\n",
      "{'id_no': '9ac5857ea9485d32ea42951ff47a1825e17961b7f857ed28a7b8cf1a41056887', 'name': '290ae1e53dc556580a340775dc11fcc1168eb1558cfc55ed31300c0fa932aa70', 'email': 'mirandatyler@example.com', 'phone_number': '332.400.2721x385', 'address': '9225 Henry Circles\\nSouth Ronald, HI 86563'}\n",
      "{'id_no': '8df390b6cbb295a016925749da36831f6fcc1ff4c3fa0b01ca4760ab17139086', 'name': '8c4ff027bdece52970e7fbcdc344324a3888e84d032956310878bbd702458608', 'email': 'kelly29@example.com', 'phone_number': '(623)752-2745', 'address': '40793 Timothy Stream Suite 179\\nMarieville, CA 69187'}\n",
      "{'id_no': '33ec0830b9074fdb8c757f5fde667c02a99c25b01b469bfdaafdab5a9d06a909', 'name': '0ff038bca6b6171d19920ca6cdf1103fbfed6fc2d0655bf8c485424267e41dc6', 'email': 'mark47@example.org', 'phone_number': '581.774.7315', 'address': '91156 Smith Gardens Suite 999\\nRobertmouth, ID 96694'}\n",
      "{'id_no': 'fb205051d8d7f452eb4128221791dd78fe819875ff9d90f34ad5a297a2bc5349', 'name': 'ff49843a50a584ccf88e41eb390fc42889612e3b6fa20f882112aca3876cd466', 'email': 'johnjensen@example.org', 'phone_number': '(012)940-4785x90533', 'address': '49134 Benjamin Village\\nMelissafort, ME 82403'}\n",
      "{'id_no': '07e7c9f9463aa28850c19ee3a6dabe4aadb6cfa1d2d094794d49400d1cceee34', 'name': '0300bcf1a0a8e08609506f69c666210b2c6bfecb324afc4c33db680b7eeedc52', 'email': 'barbara96@example.org', 'phone_number': '001-184-627-6448', 'address': '73019 Nicole Mews Suite 505\\nNorth Andreachester, KS 46740'}\n",
      "{'id_no': 'a1a5b28649ccf190cd4e318838b765e87c4bcf046eef98f494159834e73946bd', 'name': 'd535e706b94560c7d406283835d9dc6258dc0dba83b062d936a41caab393f327', 'email': 'osummers@example.net', 'phone_number': '(958)840-7963', 'address': '765 Christopher Gardens\\nMarissashire, NE 47307'}\n",
      "{'id_no': '1af90a003dd226d16742b969eb75d201e6b3ec34c93ea9524b795977c9b24f13', 'name': 'bfe875ce7ac5d6910c5550fe2a6a2f414b66c3137c22497dc94b3146466941c4', 'email': 'danielle47@example.org', 'phone_number': '0540504137', 'address': '999 Farmer Dale\\nLake Stevenborough, MN 03797'}\n",
      "{'id_no': '7be22c76744fd65f103bc1a51332aedb303c42af344299060fee480888ec0559', 'name': 'e9b549333821957c2f4add39b92c0d8c447df6ea08d28d6a6599100ffd29788e', 'email': 'millerdavid@example.org', 'phone_number': '312-213-5578x72992', 'address': '194 Caroline Mills Apt. 365\\nMooreborough, GU 74112'}\n",
      "{'id_no': 'ae351c7903b9285d2c9aa43a0970a79aa270c08870566176916b6fdb372bbafb', 'name': '0837e5219417f9dd90f645989842e844e08f7f4b4bb902e5646e122b93e57bea', 'email': 'jodyfrost@example.org', 'phone_number': '454-734-7395x5668', 'address': '9199 Michael Tunnel\\nEast Williamstad, AZ 15743'}\n",
      "\n",
      "Remapped Personal Data:\n",
      "{'id_no': '516421849', 'name': 'Susan Ortiz', 'email': 'thomasrodriguez@example.net', 'phone_number': '001-670-678-3257x98629', 'address': 'USNS Davis\\nFPO AP 47322'}\n",
      "{'id_no': '730055429', 'name': 'Emily Garcia', 'email': 'mirandatyler@example.com', 'phone_number': '332.400.2721x385', 'address': '9225 Henry Circles\\nSouth Ronald, HI 86563'}\n",
      "{'id_no': '307138181', 'name': 'Stephanie Andrade', 'email': 'kelly29@example.com', 'phone_number': '(623)752-2745', 'address': '40793 Timothy Stream Suite 179\\nMarieville, CA 69187'}\n",
      "{'id_no': '614912960', 'name': 'John James', 'email': 'mark47@example.org', 'phone_number': '581.774.7315', 'address': '91156 Smith Gardens Suite 999\\nRobertmouth, ID 96694'}\n",
      "{'id_no': '242655126', 'name': 'Danny Mathews', 'email': 'johnjensen@example.org', 'phone_number': '(012)940-4785x90533', 'address': '49134 Benjamin Village\\nMelissafort, ME 82403'}\n",
      "{'id_no': '830360754', 'name': 'Susan Miller', 'email': 'barbara96@example.org', 'phone_number': '001-184-627-6448', 'address': '73019 Nicole Mews Suite 505\\nNorth Andreachester, KS 46740'}\n",
      "{'id_no': '025834111', 'name': 'Karen Mosley', 'email': 'osummers@example.net', 'phone_number': '(958)840-7963', 'address': '765 Christopher Gardens\\nMarissashire, NE 47307'}\n",
      "{'id_no': '970547197', 'name': 'Andrea Myers', 'email': 'danielle47@example.org', 'phone_number': '0540504137', 'address': '999 Farmer Dale\\nLake Stevenborough, MN 03797'}\n",
      "{'id_no': '928053331', 'name': 'Cory Scott', 'email': 'millerdavid@example.org', 'phone_number': '312-213-5578x72992', 'address': '194 Caroline Mills Apt. 365\\nMooreborough, GU 74112'}\n",
      "{'id_no': '020065956', 'name': 'Brenda Brown', 'email': 'jodyfrost@example.org', 'phone_number': '454-734-7395x5668', 'address': '9199 Michael Tunnel\\nEast Williamstad, AZ 15743'}\n"
     ]
    }
   ],
   "source": [
    "from faker import Faker\n",
    "import random\n",
    "import string\n",
    "import hashlib\n",
    "\n",
    "# Create a Faker instance\n",
    "fake = Faker()\n",
    "\n",
    "# Generate dummy personal data\n",
    "num_records = 10\n",
    "personal_data = []\n",
    "for i in range(num_records):\n",
    "    # Generate a random 9-digit ID number\n",
    "    id_no = ''.join(random.choices(string.digits, k=9))\n",
    "    data = {\n",
    "        \"id_no\": id_no,\n",
    "        \"name\": fake.name(),\n",
    "        \"email\": fake.email(),\n",
    "        \"phone_number\": fake.phone_number(),\n",
    "        \"address\": fake.address(),\n",
    "    }\n",
    "    personal_data.append(data)\n",
    "\n",
    "# Display the original personal data\n",
    "print(\"Original Personal Data:\")\n",
    "for data in personal_data:\n",
    "    print(data)\n",
    "\n",
    "# Mask the id_no and name columns\n",
    "masked_data = []\n",
    "for data in personal_data:\n",
    "    masked_id_no = hashlib.sha256(data['id_no'].encode()).hexdigest()\n",
    "    masked_name = hashlib.sha256(data['name'].encode()).hexdigest()\n",
    "    masked_data.append({**data, \"id_no\": masked_id_no, \"name\": masked_name})\n",
    "\n",
    "# Display the masked personal data\n",
    "print(\"\\nMasked Personal Data:\")\n",
    "for data in masked_data:\n",
    "    print(data)\n",
    "\n",
    "# Create a mapping dictionary\n",
    "mapping_dict = {}\n",
    "for original_data, masked_record in zip(personal_data, masked_data):\n",
    "    original_id_no = original_data['id_no']\n",
    "    masked_id_no = masked_record['id_no']\n",
    "    original_name = original_data['name']\n",
    "    masked_name = masked_record['name']\n",
    "    mapping_dict[masked_id_no] = original_id_no\n",
    "    mapping_dict[masked_name] = original_name\n",
    "\n",
    "# Remap the masked data back to the original data\n",
    "remapped_data = []\n",
    "for masked_record in masked_data:\n",
    "    masked_id_no = masked_record['id_no']\n",
    "    masked_name = masked_record['name']\n",
    "    original_id_no = mapping_dict.get(masked_id_no, masked_id_no)\n",
    "    original_name = mapping_dict.get(masked_name, masked_name)\n",
    "    remapped_data.append({**masked_record, \"id_no\": original_id_no, \"name\": original_name})\n",
    "\n",
    "# Display the remapped personal data\n",
    "print(\"\\nRemapped Personal Data:\")\n",
    "for data in remapped_data:\n",
    "    print(data)"
   ]
  },
  {
   "cell_type": "code",
   "execution_count": 38,
   "metadata": {},
   "outputs": [
    {
     "name": "stdout",
     "output_type": "stream",
     "text": [
      "[{'id_no': '516421849', 'name': 'Susan Ortiz', 'email': 'thomasrodriguez@example.net', 'phone_number': '001-670-678-3257x98629', 'address': 'USNS Davis\\nFPO AP 47322'}, {'id_no': '730055429', 'name': 'Emily Garcia', 'email': 'mirandatyler@example.com', 'phone_number': '332.400.2721x385', 'address': '9225 Henry Circles\\nSouth Ronald, HI 86563'}, {'id_no': '307138181', 'name': 'Stephanie Andrade', 'email': 'kelly29@example.com', 'phone_number': '(623)752-2745', 'address': '40793 Timothy Stream Suite 179\\nMarieville, CA 69187'}, {'id_no': '614912960', 'name': 'John James', 'email': 'mark47@example.org', 'phone_number': '581.774.7315', 'address': '91156 Smith Gardens Suite 999\\nRobertmouth, ID 96694'}, {'id_no': '242655126', 'name': 'Danny Mathews', 'email': 'johnjensen@example.org', 'phone_number': '(012)940-4785x90533', 'address': '49134 Benjamin Village\\nMelissafort, ME 82403'}, {'id_no': '830360754', 'name': 'Susan Miller', 'email': 'barbara96@example.org', 'phone_number': '001-184-627-6448', 'address': '73019 Nicole Mews Suite 505\\nNorth Andreachester, KS 46740'}, {'id_no': '025834111', 'name': 'Karen Mosley', 'email': 'osummers@example.net', 'phone_number': '(958)840-7963', 'address': '765 Christopher Gardens\\nMarissashire, NE 47307'}, {'id_no': '970547197', 'name': 'Andrea Myers', 'email': 'danielle47@example.org', 'phone_number': '0540504137', 'address': '999 Farmer Dale\\nLake Stevenborough, MN 03797'}, {'id_no': '928053331', 'name': 'Cory Scott', 'email': 'millerdavid@example.org', 'phone_number': '312-213-5578x72992', 'address': '194 Caroline Mills Apt. 365\\nMooreborough, GU 74112'}, {'id_no': '020065956', 'name': 'Brenda Brown', 'email': 'jodyfrost@example.org', 'phone_number': '454-734-7395x5668', 'address': '9199 Michael Tunnel\\nEast Williamstad, AZ 15743'}]\n"
     ]
    }
   ],
   "source": [
    "print(personal_data)"
   ]
  },
  {
   "cell_type": "code",
   "execution_count": 39,
   "metadata": {},
   "outputs": [
    {
     "name": "stdout",
     "output_type": "stream",
     "text": [
      "[{'id_no': '5bc95e09b059851c850ed505d50d34b271214e299566a49709897319c9e202ac', 'name': 'e5bac38d518f2d06de391217fc97cda20ea39c1b86691ad91a2b665382003d7d', 'email': 'thomasrodriguez@example.net', 'phone_number': '001-670-678-3257x98629', 'address': 'USNS Davis\\nFPO AP 47322'}, {'id_no': '9ac5857ea9485d32ea42951ff47a1825e17961b7f857ed28a7b8cf1a41056887', 'name': '290ae1e53dc556580a340775dc11fcc1168eb1558cfc55ed31300c0fa932aa70', 'email': 'mirandatyler@example.com', 'phone_number': '332.400.2721x385', 'address': '9225 Henry Circles\\nSouth Ronald, HI 86563'}, {'id_no': '8df390b6cbb295a016925749da36831f6fcc1ff4c3fa0b01ca4760ab17139086', 'name': '8c4ff027bdece52970e7fbcdc344324a3888e84d032956310878bbd702458608', 'email': 'kelly29@example.com', 'phone_number': '(623)752-2745', 'address': '40793 Timothy Stream Suite 179\\nMarieville, CA 69187'}, {'id_no': '33ec0830b9074fdb8c757f5fde667c02a99c25b01b469bfdaafdab5a9d06a909', 'name': '0ff038bca6b6171d19920ca6cdf1103fbfed6fc2d0655bf8c485424267e41dc6', 'email': 'mark47@example.org', 'phone_number': '581.774.7315', 'address': '91156 Smith Gardens Suite 999\\nRobertmouth, ID 96694'}, {'id_no': 'fb205051d8d7f452eb4128221791dd78fe819875ff9d90f34ad5a297a2bc5349', 'name': 'ff49843a50a584ccf88e41eb390fc42889612e3b6fa20f882112aca3876cd466', 'email': 'johnjensen@example.org', 'phone_number': '(012)940-4785x90533', 'address': '49134 Benjamin Village\\nMelissafort, ME 82403'}, {'id_no': '07e7c9f9463aa28850c19ee3a6dabe4aadb6cfa1d2d094794d49400d1cceee34', 'name': '0300bcf1a0a8e08609506f69c666210b2c6bfecb324afc4c33db680b7eeedc52', 'email': 'barbara96@example.org', 'phone_number': '001-184-627-6448', 'address': '73019 Nicole Mews Suite 505\\nNorth Andreachester, KS 46740'}, {'id_no': 'a1a5b28649ccf190cd4e318838b765e87c4bcf046eef98f494159834e73946bd', 'name': 'd535e706b94560c7d406283835d9dc6258dc0dba83b062d936a41caab393f327', 'email': 'osummers@example.net', 'phone_number': '(958)840-7963', 'address': '765 Christopher Gardens\\nMarissashire, NE 47307'}, {'id_no': '1af90a003dd226d16742b969eb75d201e6b3ec34c93ea9524b795977c9b24f13', 'name': 'bfe875ce7ac5d6910c5550fe2a6a2f414b66c3137c22497dc94b3146466941c4', 'email': 'danielle47@example.org', 'phone_number': '0540504137', 'address': '999 Farmer Dale\\nLake Stevenborough, MN 03797'}, {'id_no': '7be22c76744fd65f103bc1a51332aedb303c42af344299060fee480888ec0559', 'name': 'e9b549333821957c2f4add39b92c0d8c447df6ea08d28d6a6599100ffd29788e', 'email': 'millerdavid@example.org', 'phone_number': '312-213-5578x72992', 'address': '194 Caroline Mills Apt. 365\\nMooreborough, GU 74112'}, {'id_no': 'ae351c7903b9285d2c9aa43a0970a79aa270c08870566176916b6fdb372bbafb', 'name': '0837e5219417f9dd90f645989842e844e08f7f4b4bb902e5646e122b93e57bea', 'email': 'jodyfrost@example.org', 'phone_number': '454-734-7395x5668', 'address': '9199 Michael Tunnel\\nEast Williamstad, AZ 15743'}]\n"
     ]
    }
   ],
   "source": [
    "print(masked_data)"
   ]
  },
  {
   "cell_type": "code",
   "execution_count": 40,
   "metadata": {},
   "outputs": [
    {
     "name": "stdout",
     "output_type": "stream",
     "text": [
      "{'5bc95e09b059851c850ed505d50d34b271214e299566a49709897319c9e202ac': '516421849', 'e5bac38d518f2d06de391217fc97cda20ea39c1b86691ad91a2b665382003d7d': 'Susan Ortiz', '9ac5857ea9485d32ea42951ff47a1825e17961b7f857ed28a7b8cf1a41056887': '730055429', '290ae1e53dc556580a340775dc11fcc1168eb1558cfc55ed31300c0fa932aa70': 'Emily Garcia', '8df390b6cbb295a016925749da36831f6fcc1ff4c3fa0b01ca4760ab17139086': '307138181', '8c4ff027bdece52970e7fbcdc344324a3888e84d032956310878bbd702458608': 'Stephanie Andrade', '33ec0830b9074fdb8c757f5fde667c02a99c25b01b469bfdaafdab5a9d06a909': '614912960', '0ff038bca6b6171d19920ca6cdf1103fbfed6fc2d0655bf8c485424267e41dc6': 'John James', 'fb205051d8d7f452eb4128221791dd78fe819875ff9d90f34ad5a297a2bc5349': '242655126', 'ff49843a50a584ccf88e41eb390fc42889612e3b6fa20f882112aca3876cd466': 'Danny Mathews', '07e7c9f9463aa28850c19ee3a6dabe4aadb6cfa1d2d094794d49400d1cceee34': '830360754', '0300bcf1a0a8e08609506f69c666210b2c6bfecb324afc4c33db680b7eeedc52': 'Susan Miller', 'a1a5b28649ccf190cd4e318838b765e87c4bcf046eef98f494159834e73946bd': '025834111', 'd535e706b94560c7d406283835d9dc6258dc0dba83b062d936a41caab393f327': 'Karen Mosley', '1af90a003dd226d16742b969eb75d201e6b3ec34c93ea9524b795977c9b24f13': '970547197', 'bfe875ce7ac5d6910c5550fe2a6a2f414b66c3137c22497dc94b3146466941c4': 'Andrea Myers', '7be22c76744fd65f103bc1a51332aedb303c42af344299060fee480888ec0559': '928053331', 'e9b549333821957c2f4add39b92c0d8c447df6ea08d28d6a6599100ffd29788e': 'Cory Scott', 'ae351c7903b9285d2c9aa43a0970a79aa270c08870566176916b6fdb372bbafb': '020065956', '0837e5219417f9dd90f645989842e844e08f7f4b4bb902e5646e122b93e57bea': 'Brenda Brown'}\n"
     ]
    }
   ],
   "source": [
    "print(mapping_dict)"
   ]
  },
  {
   "cell_type": "code",
   "execution_count": 41,
   "metadata": {},
   "outputs": [
    {
     "name": "stdout",
     "output_type": "stream",
     "text": [
      "[{'id_no': '516421849', 'name': 'Susan Ortiz', 'email': 'thomasrodriguez@example.net', 'phone_number': '001-670-678-3257x98629', 'address': 'USNS Davis\\nFPO AP 47322'}, {'id_no': '730055429', 'name': 'Emily Garcia', 'email': 'mirandatyler@example.com', 'phone_number': '332.400.2721x385', 'address': '9225 Henry Circles\\nSouth Ronald, HI 86563'}, {'id_no': '307138181', 'name': 'Stephanie Andrade', 'email': 'kelly29@example.com', 'phone_number': '(623)752-2745', 'address': '40793 Timothy Stream Suite 179\\nMarieville, CA 69187'}, {'id_no': '614912960', 'name': 'John James', 'email': 'mark47@example.org', 'phone_number': '581.774.7315', 'address': '91156 Smith Gardens Suite 999\\nRobertmouth, ID 96694'}, {'id_no': '242655126', 'name': 'Danny Mathews', 'email': 'johnjensen@example.org', 'phone_number': '(012)940-4785x90533', 'address': '49134 Benjamin Village\\nMelissafort, ME 82403'}, {'id_no': '830360754', 'name': 'Susan Miller', 'email': 'barbara96@example.org', 'phone_number': '001-184-627-6448', 'address': '73019 Nicole Mews Suite 505\\nNorth Andreachester, KS 46740'}, {'id_no': '025834111', 'name': 'Karen Mosley', 'email': 'osummers@example.net', 'phone_number': '(958)840-7963', 'address': '765 Christopher Gardens\\nMarissashire, NE 47307'}, {'id_no': '970547197', 'name': 'Andrea Myers', 'email': 'danielle47@example.org', 'phone_number': '0540504137', 'address': '999 Farmer Dale\\nLake Stevenborough, MN 03797'}, {'id_no': '928053331', 'name': 'Cory Scott', 'email': 'millerdavid@example.org', 'phone_number': '312-213-5578x72992', 'address': '194 Caroline Mills Apt. 365\\nMooreborough, GU 74112'}, {'id_no': '020065956', 'name': 'Brenda Brown', 'email': 'jodyfrost@example.org', 'phone_number': '454-734-7395x5668', 'address': '9199 Michael Tunnel\\nEast Williamstad, AZ 15743'}]\n"
     ]
    }
   ],
   "source": [
    "print(remapped_data)"
   ]
  },
  {
   "cell_type": "code",
   "execution_count": null,
   "metadata": {},
   "outputs": [],
   "source": []
  },
  {
   "attachments": {},
   "cell_type": "markdown",
   "metadata": {},
   "source": [
    "### masking column name only"
   ]
  },
  {
   "cell_type": "code",
   "execution_count": 43,
   "metadata": {},
   "outputs": [
    {
     "name": "stdout",
     "output_type": "stream",
     "text": [
      "Original Personal Data:\n",
      "{'id_no': '200748009', 'name': 'James Smith', 'email': 'ygamble@example.org', 'phone_number': '+1-084-062-8814x04455', 'address': '32729 Greg Crest Apt. 319\\nSimmonsbury, MI 47066'}\n",
      "{'id_no': '439509617', 'name': 'Matthew Long', 'email': 'richard38@example.com', 'phone_number': '256.563.6226x505', 'address': '97807 Sandra Knolls Suite 722\\nKathleenborough, WA 76037'}\n",
      "{'id_no': '675581399', 'name': 'James Peterson', 'email': 'melissa01@example.com', 'phone_number': '119.616.8843', 'address': '1713 Arias Corners Apt. 791\\nEast Michelle, MI 50773'}\n",
      "{'id_no': '420819284', 'name': 'Philip Schultz', 'email': 'ftaylor@example.com', 'phone_number': '001-326-527-6602x8659', 'address': 'Unit 6186 Box 9197\\nDPO AA 73365'}\n",
      "{'id_no': '421977096', 'name': 'Kimberly Diaz', 'email': 'steven90@example.org', 'phone_number': '001-687-329-1557x89647', 'address': '531 Wang Courts\\nSouth Christopher, MP 70619'}\n",
      "{'id_no': '296819419', 'name': 'Robin Wade', 'email': 'gary66@example.com', 'phone_number': '931.125.7294x7807', 'address': '17975 Kathy Gardens Suite 392\\nEast Lisa, AZ 17704'}\n",
      "{'id_no': '548026872', 'name': 'Sharon Owen', 'email': 'olivia34@example.com', 'phone_number': '419-646-4242x78809', 'address': '434 Jacqueline Trafficway\\nWest Marieborough, SD 39514'}\n",
      "{'id_no': '655228594', 'name': 'Amy Fields', 'email': 'hpetty@example.org', 'phone_number': '4508005441', 'address': '827 Collins Court\\nLake Kimberly, MI 18079'}\n",
      "{'id_no': '860548670', 'name': 'Brian Wright', 'email': 'jean02@example.org', 'phone_number': '255.209.0504x1497', 'address': '58942 Donna Cove Suite 110\\nClaytonmouth, KY 61855'}\n",
      "{'id_no': '107170602', 'name': 'Meredith Martin', 'email': 'janiceclark@example.com', 'phone_number': '(786)471-1660x4653', 'address': '2620 Isabel Divide Apt. 464\\nEast Paulside, WV 30232'}\n",
      "\n",
      "Masked Personal Data:\n",
      "{'id_no': '200748009', 'name': 'c84b4959dfc08d04b25ddd5adf77d05dbb353609bfc1e7f56a69affb4b6197f0', 'email': 'ygamble@example.org', 'phone_number': '+1-084-062-8814x04455', 'address': '32729 Greg Crest Apt. 319\\nSimmonsbury, MI 47066'}\n",
      "{'id_no': '439509617', 'name': '686d147c56bab42c44a791d1c40a72d4439e406c075d0dda2b90267f515946f1', 'email': 'richard38@example.com', 'phone_number': '256.563.6226x505', 'address': '97807 Sandra Knolls Suite 722\\nKathleenborough, WA 76037'}\n",
      "{'id_no': '675581399', 'name': '893560749c980a4c4d4dac150da9cd0890f77e382dd65413885020982d820202', 'email': 'melissa01@example.com', 'phone_number': '119.616.8843', 'address': '1713 Arias Corners Apt. 791\\nEast Michelle, MI 50773'}\n",
      "{'id_no': '420819284', 'name': 'e88d622298599216712a47d6a95e7bb9deb0cd1b82a587480dda27a4af4af72b', 'email': 'ftaylor@example.com', 'phone_number': '001-326-527-6602x8659', 'address': 'Unit 6186 Box 9197\\nDPO AA 73365'}\n",
      "{'id_no': '421977096', 'name': '96db96ac22a7683ebe24d1c13f55d3f6011982f64d16f4ecf7aca1a6833d09d4', 'email': 'steven90@example.org', 'phone_number': '001-687-329-1557x89647', 'address': '531 Wang Courts\\nSouth Christopher, MP 70619'}\n",
      "{'id_no': '296819419', 'name': 'fae61d44b0efa73a1ad1a9244c0434991d2501118fb30230a9903138c945d7b1', 'email': 'gary66@example.com', 'phone_number': '931.125.7294x7807', 'address': '17975 Kathy Gardens Suite 392\\nEast Lisa, AZ 17704'}\n",
      "{'id_no': '548026872', 'name': 'cdc3447c652caccc26bfd7df30165aca9e557f3fe1200c7f3ca54a7bd4cbb303', 'email': 'olivia34@example.com', 'phone_number': '419-646-4242x78809', 'address': '434 Jacqueline Trafficway\\nWest Marieborough, SD 39514'}\n",
      "{'id_no': '655228594', 'name': 'e14f27bf94ffe7c0a644af8d156ed30824d2685e9aa2efabbbc1a608df23fa9d', 'email': 'hpetty@example.org', 'phone_number': '4508005441', 'address': '827 Collins Court\\nLake Kimberly, MI 18079'}\n",
      "{'id_no': '860548670', 'name': '88748c0126d4656722def31d963d9b32d6a30faaf419a47dfc540ee29639db34', 'email': 'jean02@example.org', 'phone_number': '255.209.0504x1497', 'address': '58942 Donna Cove Suite 110\\nClaytonmouth, KY 61855'}\n",
      "{'id_no': '107170602', 'name': '9bfb5ddf6efdb220db4c35dcf99ec382d25046333898e86c307f42763296f483', 'email': 'janiceclark@example.com', 'phone_number': '(786)471-1660x4653', 'address': '2620 Isabel Divide Apt. 464\\nEast Paulside, WV 30232'}\n",
      "\n",
      "Remapped Personal Data:\n",
      "{'id_no': '200748009', 'name': 'James Smith', 'email': 'ygamble@example.org', 'phone_number': '+1-084-062-8814x04455', 'address': '32729 Greg Crest Apt. 319\\nSimmonsbury, MI 47066'}\n",
      "{'id_no': '439509617', 'name': 'Matthew Long', 'email': 'richard38@example.com', 'phone_number': '256.563.6226x505', 'address': '97807 Sandra Knolls Suite 722\\nKathleenborough, WA 76037'}\n",
      "{'id_no': '675581399', 'name': 'James Peterson', 'email': 'melissa01@example.com', 'phone_number': '119.616.8843', 'address': '1713 Arias Corners Apt. 791\\nEast Michelle, MI 50773'}\n",
      "{'id_no': '420819284', 'name': 'Philip Schultz', 'email': 'ftaylor@example.com', 'phone_number': '001-326-527-6602x8659', 'address': 'Unit 6186 Box 9197\\nDPO AA 73365'}\n",
      "{'id_no': '421977096', 'name': 'Kimberly Diaz', 'email': 'steven90@example.org', 'phone_number': '001-687-329-1557x89647', 'address': '531 Wang Courts\\nSouth Christopher, MP 70619'}\n",
      "{'id_no': '296819419', 'name': 'Robin Wade', 'email': 'gary66@example.com', 'phone_number': '931.125.7294x7807', 'address': '17975 Kathy Gardens Suite 392\\nEast Lisa, AZ 17704'}\n",
      "{'id_no': '548026872', 'name': 'Sharon Owen', 'email': 'olivia34@example.com', 'phone_number': '419-646-4242x78809', 'address': '434 Jacqueline Trafficway\\nWest Marieborough, SD 39514'}\n",
      "{'id_no': '655228594', 'name': 'Amy Fields', 'email': 'hpetty@example.org', 'phone_number': '4508005441', 'address': '827 Collins Court\\nLake Kimberly, MI 18079'}\n",
      "{'id_no': '860548670', 'name': 'Brian Wright', 'email': 'jean02@example.org', 'phone_number': '255.209.0504x1497', 'address': '58942 Donna Cove Suite 110\\nClaytonmouth, KY 61855'}\n",
      "{'id_no': '107170602', 'name': 'Meredith Martin', 'email': 'janiceclark@example.com', 'phone_number': '(786)471-1660x4653', 'address': '2620 Isabel Divide Apt. 464\\nEast Paulside, WV 30232'}\n"
     ]
    }
   ],
   "source": [
    "from faker import Faker\n",
    "import random\n",
    "import string\n",
    "import hashlib\n",
    "\n",
    "# Create a Faker instance\n",
    "fake = Faker()\n",
    "\n",
    "# Generate dummy personal data\n",
    "num_records = 10\n",
    "personal_data = []\n",
    "for i in range(num_records):\n",
    "    # Generate a random 9-digit ID number\n",
    "    id_no = ''.join(random.choices(string.digits, k=9))\n",
    "    data = {\n",
    "        \"id_no\": id_no,\n",
    "        \"name\": fake.name(),\n",
    "        \"email\": fake.email(),\n",
    "        \"phone_number\": fake.phone_number(),\n",
    "        \"address\": fake.address(),\n",
    "    }\n",
    "    personal_data.append(data)\n",
    "\n",
    "# Display the original personal data\n",
    "print(\"Original Personal Data:\")\n",
    "for data in personal_data:\n",
    "    print(data)\n",
    "\n",
    "# Mask the name column\n",
    "masked_data = []\n",
    "for data in personal_data:\n",
    "    masked_name = hashlib.sha256(data['name'].encode()).hexdigest()\n",
    "    masked_data.append({**data, \"name\": masked_name})\n",
    "\n",
    "# Display the masked personal data\n",
    "print(\"\\nMasked Personal Data:\")\n",
    "for data in masked_data:\n",
    "    print(data)\n",
    "\n",
    "# Create a mapping dictionary\n",
    "mapping_dict = {}\n",
    "for original_data, masked_record in zip(personal_data, masked_data):\n",
    "    original_name = original_data['name']\n",
    "    masked_name = masked_record['name']\n",
    "    mapping_dict[masked_name] = original_name\n",
    "\n",
    "# Remap the masked data back to the original data\n",
    "remapped_data = []\n",
    "for masked_record in masked_data:\n",
    "    masked_name = masked_record['name']\n",
    "    original_name = mapping_dict.get(masked_name, masked_name)\n",
    "    remapped_data.append({**masked_record, \"name\": original_name})\n",
    "\n",
    "# Display the remapped personal data\n",
    "print(\"\\nRemapped Personal Data:\")\n",
    "for data in remapped_data:\n",
    "    print(data)\n"
   ]
  },
  {
   "cell_type": "markdown",
   "metadata": {},
   "source": []
  },
  {
   "attachments": {},
   "cell_type": "markdown",
   "metadata": {},
   "source": [
    "### apply XXXX to masking name and id_no; still can use id_no as reference key"
   ]
  },
  {
   "cell_type": "code",
   "execution_count": 50,
   "metadata": {},
   "outputs": [
    {
     "name": "stdout",
     "output_type": "stream",
     "text": [
      "Original Personal Data:\n",
      "{'id_no': '680-57-8288', 'name': 'Mario Chavez', 'email': 'kimberlytaylor@example.net', 'phone_number': '(814)426-9115', 'address': '8000 Ward Drive Apt. 602\\nAmandaside, NJ 23472'}\n",
      "{'id_no': '770-36-1559', 'name': 'Michael Richard', 'email': 'kevin51@example.org', 'phone_number': '+1-013-328-0938x230', 'address': '025 Tanya Circle\\nEast Josephmouth, AK 73669'}\n",
      "{'id_no': '029-26-6431', 'name': 'Jordan Smith', 'email': 'eterry@example.com', 'phone_number': '357-522-5068', 'address': '982 Young Avenue\\nObrienberg, AS 15711'}\n",
      "{'id_no': '056-20-0822', 'name': 'Pamela Medina', 'email': 'jamesmorgan@example.org', 'phone_number': '265.739.2213x85603', 'address': '47465 Jacob Spring Suite 602\\nLake Luis, NC 89396'}\n",
      "{'id_no': '308-93-1905', 'name': 'Charles Torres', 'email': 'cruzpaul@example.net', 'phone_number': '076.406.4997', 'address': '1946 Joshua Drive Apt. 289\\nWest Kathy, CO 46723'}\n",
      "{'id_no': '583-34-9554', 'name': 'Grant Johnson', 'email': 'sbowman@example.org', 'phone_number': '3667547628', 'address': '1639 Michael Vista\\nEvansville, IA 37919'}\n",
      "{'id_no': '403-99-4069', 'name': 'Brandon Smith', 'email': 'jamescastaneda@example.org', 'phone_number': '001-635-249-0227x19181', 'address': 'Unit 5496 Box 0277\\nDPO AE 45208'}\n",
      "{'id_no': '557-89-1615', 'name': 'Frank Valdez', 'email': 'delgadokimberly@example.com', 'phone_number': '+1-354-479-9878x7267', 'address': 'PSC 5233, Box 5343\\nAPO AA 45648'}\n",
      "{'id_no': '108-68-5323', 'name': 'April Ford', 'email': 'garrisonlindsey@example.org', 'phone_number': '415.933.0989', 'address': '463 Joseph Tunnel Suite 109\\nWest Stephenfort, MA 25410'}\n",
      "{'id_no': '585-87-4260', 'name': 'Wendy Phillips', 'email': 'greenalisha@example.org', 'phone_number': '8762591352', 'address': '71520 Martinez Overpass Suite 695\\nDeborahtown, AK 38390'}\n",
      "\n",
      "Masked Personal Data:\n",
      "{'id_no': 'XXXXXXX288', 'name': 'XXXXX Chavez', 'email': 'kimberlytaylor@example.net', 'phone_number': '(814)426-9115', 'address': '8000 Ward Drive Apt. 602\\nAmandaside, NJ 23472'}\n",
      "{'id_no': 'XXXXXXX559', 'name': 'XXXXXXX Richard', 'email': 'kevin51@example.org', 'phone_number': '+1-013-328-0938x230', 'address': '025 Tanya Circle\\nEast Josephmouth, AK 73669'}\n",
      "{'id_no': 'XXXXXXX431', 'name': 'XXXXXX Smith', 'email': 'eterry@example.com', 'phone_number': '357-522-5068', 'address': '982 Young Avenue\\nObrienberg, AS 15711'}\n",
      "{'id_no': 'XXXXXXX822', 'name': 'XXXXXX Medina', 'email': 'jamesmorgan@example.org', 'phone_number': '265.739.2213x85603', 'address': '47465 Jacob Spring Suite 602\\nLake Luis, NC 89396'}\n",
      "{'id_no': 'XXXXXXX905', 'name': 'XXXXXXX Torres', 'email': 'cruzpaul@example.net', 'phone_number': '076.406.4997', 'address': '1946 Joshua Drive Apt. 289\\nWest Kathy, CO 46723'}\n",
      "{'id_no': 'XXXXXXX554', 'name': 'XXXXX Johnson', 'email': 'sbowman@example.org', 'phone_number': '3667547628', 'address': '1639 Michael Vista\\nEvansville, IA 37919'}\n",
      "{'id_no': 'XXXXXXX069', 'name': 'XXXXXXX Smith', 'email': 'jamescastaneda@example.org', 'phone_number': '001-635-249-0227x19181', 'address': 'Unit 5496 Box 0277\\nDPO AE 45208'}\n",
      "{'id_no': 'XXXXXXX615', 'name': 'XXXXX Valdez', 'email': 'delgadokimberly@example.com', 'phone_number': '+1-354-479-9878x7267', 'address': 'PSC 5233, Box 5343\\nAPO AA 45648'}\n",
      "{'id_no': 'XXXXXXX323', 'name': 'XXXXX Ford', 'email': 'garrisonlindsey@example.org', 'phone_number': '415.933.0989', 'address': '463 Joseph Tunnel Suite 109\\nWest Stephenfort, MA 25410'}\n",
      "{'id_no': 'XXXXXXX260', 'name': 'XXXXX Phillips', 'email': 'greenalisha@example.org', 'phone_number': '8762591352', 'address': '71520 Martinez Overpass Suite 695\\nDeborahtown, AK 38390'}\n",
      "\n",
      "External References:\n",
      "680-57-8288 -> XXXXXXX288\n",
      "770-36-1559 -> XXXXXXX559\n",
      "029-26-6431 -> XXXXXXX431\n",
      "056-20-0822 -> XXXXXXX822\n",
      "308-93-1905 -> XXXXXXX905\n",
      "583-34-9554 -> XXXXXXX554\n",
      "403-99-4069 -> XXXXXXX069\n",
      "557-89-1615 -> XXXXXXX615\n",
      "108-68-5323 -> XXXXXXX323\n",
      "585-87-4260 -> XXXXXXX260\n"
     ]
    }
   ],
   "source": [
    "from faker import Faker\n",
    "\n",
    "# Create a Faker instance\n",
    "fake = Faker()\n",
    "\n",
    "# Generate dummy personal data\n",
    "num_records = 10\n",
    "personal_data = []\n",
    "for i in range(num_records):\n",
    "    data = {\n",
    "        \"id_no\": fake.ssn(),\n",
    "        \"name\": fake.name(),\n",
    "        \"email\": fake.email(),\n",
    "        \"phone_number\": fake.phone_number(),\n",
    "        \"address\": fake.address(),\n",
    "    }\n",
    "    personal_data.append(data)\n",
    "\n",
    "# Display the original personal data\n",
    "print(\"Original Personal Data:\")\n",
    "for data in personal_data:\n",
    "    print(data)\n",
    "\n",
    "# Mask the id_no and name columns\n",
    "masked_data = []\n",
    "id_no_mapping = {}\n",
    "for data in personal_data:\n",
    "    masked_id_no = 'X' * 7 + data['id_no'][-3:] # Mask the first 7 digits of the SSN\n",
    "    masked_name ='X' * len(data['name'].split()[0]) + ' ' + ' '.join(data['name'].split()[1:]) # Mask the first name\n",
    "    masked_data.append({**data, \"id_no\": masked_id_no, \"name\": masked_name})\n",
    "    id_no_mapping[data['id_no']] = masked_id_no\n",
    "\n",
    "# Display the masked personal data\n",
    "print(\"\\nMasked Personal Data:\")\n",
    "for data in masked_data:\n",
    "    print(data)\n",
    "\n",
    "# Use the masked id_no for external references\n",
    "print(\"\\nExternal References:\")\n",
    "for original_id_no, masked_id_no in id_no_mapping.items():\n",
    "    print(original_id_no, \"->\", masked_id_no)"
   ]
  },
  {
   "cell_type": "code",
   "execution_count": 51,
   "metadata": {},
   "outputs": [
    {
     "name": "stdout",
     "output_type": "stream",
     "text": [
      "\n",
      "Remapped Personal Data:\n",
      "{'id_no': 'XXXXXXX288', 'name': 'XXXXX Chavez', 'email': 'kimberlytaylor@example.net', 'phone_number': '(814)426-9115', 'address': '8000 Ward Drive Apt. 602\\nAmandaside, NJ 23472'}\n",
      "{'id_no': 'XXXXXXX559', 'name': 'XXXXXXX Richard', 'email': 'kevin51@example.org', 'phone_number': '+1-013-328-0938x230', 'address': '025 Tanya Circle\\nEast Josephmouth, AK 73669'}\n",
      "{'id_no': 'XXXXXXX431', 'name': 'XXXXXX Smith', 'email': 'eterry@example.com', 'phone_number': '357-522-5068', 'address': '982 Young Avenue\\nObrienberg, AS 15711'}\n",
      "{'id_no': 'XXXXXXX822', 'name': 'XXXXXX Medina', 'email': 'jamesmorgan@example.org', 'phone_number': '265.739.2213x85603', 'address': '47465 Jacob Spring Suite 602\\nLake Luis, NC 89396'}\n",
      "{'id_no': 'XXXXXXX905', 'name': 'XXXXXXX Torres', 'email': 'cruzpaul@example.net', 'phone_number': '076.406.4997', 'address': '1946 Joshua Drive Apt. 289\\nWest Kathy, CO 46723'}\n",
      "{'id_no': 'XXXXXXX554', 'name': 'XXXXX Johnson', 'email': 'sbowman@example.org', 'phone_number': '3667547628', 'address': '1639 Michael Vista\\nEvansville, IA 37919'}\n",
      "{'id_no': 'XXXXXXX069', 'name': 'XXXXXXX Smith', 'email': 'jamescastaneda@example.org', 'phone_number': '001-635-249-0227x19181', 'address': 'Unit 5496 Box 0277\\nDPO AE 45208'}\n",
      "{'id_no': 'XXXXXXX615', 'name': 'XXXXX Valdez', 'email': 'delgadokimberly@example.com', 'phone_number': '+1-354-479-9878x7267', 'address': 'PSC 5233, Box 5343\\nAPO AA 45648'}\n",
      "{'id_no': 'XXXXXXX323', 'name': 'XXXXX Ford', 'email': 'garrisonlindsey@example.org', 'phone_number': '415.933.0989', 'address': '463 Joseph Tunnel Suite 109\\nWest Stephenfort, MA 25410'}\n",
      "{'id_no': 'XXXXXXX260', 'name': 'XXXXX Phillips', 'email': 'greenalisha@example.org', 'phone_number': '8762591352', 'address': '71520 Martinez Overpass Suite 695\\nDeborahtown, AK 38390'}\n"
     ]
    }
   ],
   "source": [
    "# Remap the masked data back to the original data\n",
    "remapped_data = []\n",
    "for masked_record in masked_data:\n",
    "    original_id_no = id_no_mapping.get(masked_record['id_no'], masked_record['id_no'])\n",
    "    remapped_data.append({**masked_record, \"id_no\": original_id_no})\n",
    "\n",
    "# Display the remapped personal data\n",
    "print(\"\\nRemapped Personal Data:\")\n",
    "for data in remapped_data:\n",
    "    print(data)"
   ]
  },
  {
   "cell_type": "code",
   "execution_count": null,
   "metadata": {},
   "outputs": [],
   "source": []
  }
 ],
 "metadata": {
  "kernelspec": {
   "display_name": "ui",
   "language": "python",
   "name": "python3"
  },
  "language_info": {
   "codemirror_mode": {
    "name": "ipython",
    "version": 3
   },
   "file_extension": ".py",
   "mimetype": "text/x-python",
   "name": "python",
   "nbconvert_exporter": "python",
   "pygments_lexer": "ipython3",
   "version": "3.10.11"
  },
  "orig_nbformat": 4
 },
 "nbformat": 4,
 "nbformat_minor": 2
}
