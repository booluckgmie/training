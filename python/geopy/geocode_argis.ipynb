{
 "cells": [
  {
   "cell_type": "markdown",
   "id": "d56089fc-1a54-4896-85e1-0e9aa4643821",
   "metadata": {},
   "source": [
    "## Install Packages"
   ]
  },
  {
   "cell_type": "code",
   "execution_count": 9,
   "id": "b21f81a9-fe29-4ad5-88f6-60a94e89216c",
   "metadata": {},
   "outputs": [],
   "source": [
    "# Install GDAL and Geopandas\n",
    "!pip install shapely geopandas geopy --quiet"
   ]
  },
  {
   "cell_type": "code",
   "execution_count": 2,
   "id": "95f38382-b7f3-4f68-9ff6-f44754c066cf",
   "metadata": {},
   "outputs": [
    {
     "name": "stdout",
     "output_type": "stream",
     "text": [
      "2.3.0\n"
     ]
    }
   ],
   "source": [
    "import xlrd\n",
    "import pandas as pd\n",
    "from shapely.geometry import shape, Point, LineString, Polygon\n",
    "import geopandas as gpd\n",
    "from geopandas.tools import geocode, geocoding, reverse_geocode\n",
    "import geopy, inspect\n",
    "print(geopy.__version__)\n",
    "\n",
    "from tqdm import tqdm\n",
    "import urllib.request\n",
    "import json\n",
    "import time\n",
    "\n",
    "time_start = time.time()\n",
    "tqdm.pandas()"
   ]
  },
  {
   "attachments": {},
   "cell_type": "markdown",
   "id": "3c0be468",
   "metadata": {},
   "source": [
    "## Kawasan Hotspot Banjir di Pulau Pinang"
   ]
  },
  {
   "attachments": {},
   "cell_type": "markdown",
   "id": "f4760a45",
   "metadata": {},
   "source": [
    "### Single search"
   ]
  },
  {
   "cell_type": "code",
   "execution_count": 3,
   "id": "3ca4ebc4",
   "metadata": {},
   "outputs": [
    {
     "data": {
      "text/html": [
       "<div>\n",
       "<style scoped>\n",
       "    .dataframe tbody tr th:only-of-type {\n",
       "        vertical-align: middle;\n",
       "    }\n",
       "\n",
       "    .dataframe tbody tr th {\n",
       "        vertical-align: top;\n",
       "    }\n",
       "\n",
       "    .dataframe thead th {\n",
       "        text-align: right;\n",
       "    }\n",
       "</style>\n",
       "<table border=\"1\" class=\"dataframe\">\n",
       "  <thead>\n",
       "    <tr style=\"text-align: right;\">\n",
       "      <th></th>\n",
       "      <th>geometry</th>\n",
       "      <th>address</th>\n",
       "    </tr>\n",
       "  </thead>\n",
       "  <tbody>\n",
       "    <tr>\n",
       "      <th>0</th>\n",
       "      <td>POINT (100.48149 5.16576)</td>\n",
       "      <td>Kampung Sanglang, Nibong Tebal, Seberang Perai...</td>\n",
       "    </tr>\n",
       "  </tbody>\n",
       "</table>\n",
       "</div>"
      ],
      "text/plain": [
       "                    geometry  \\\n",
       "0  POINT (100.48149 5.16576)   \n",
       "\n",
       "                                             address  \n",
       "0  Kampung Sanglang, Nibong Tebal, Seberang Perai...  "
      ]
     },
     "execution_count": 3,
     "metadata": {},
     "output_type": "execute_result"
    }
   ],
   "source": [
    "geocode(strings='Kg. Sanglang, SEBERANG PERAI SELATAN', provider='arcgis')"
   ]
  },
  {
   "attachments": {},
   "cell_type": "markdown",
   "id": "b24cd908",
   "metadata": {},
   "source": [
    "### Bulk search"
   ]
  },
  {
   "cell_type": "code",
   "execution_count": 17,
   "id": "5f758b30",
   "metadata": {},
   "outputs": [
    {
     "data": {
      "text/html": [
       "<div>\n",
       "<style scoped>\n",
       "    .dataframe tbody tr th:only-of-type {\n",
       "        vertical-align: middle;\n",
       "    }\n",
       "\n",
       "    .dataframe tbody tr th {\n",
       "        vertical-align: top;\n",
       "    }\n",
       "\n",
       "    .dataframe thead th {\n",
       "        text-align: right;\n",
       "    }\n",
       "</style>\n",
       "<table border=\"1\" class=\"dataframe\">\n",
       "  <thead>\n",
       "    <tr style=\"text-align: right;\">\n",
       "      <th></th>\n",
       "      <th>lokasi</th>\n",
       "    </tr>\n",
       "  </thead>\n",
       "  <tbody>\n",
       "    <tr>\n",
       "      <th>0</th>\n",
       "      <td>Kampung Makam Haji Kassim</td>\n",
       "    </tr>\n",
       "    <tr>\n",
       "      <th>1</th>\n",
       "      <td>Kampung Dodol</td>\n",
       "    </tr>\n",
       "    <tr>\n",
       "      <th>2</th>\n",
       "      <td>Kampung Masjid Hashim Yahya</td>\n",
       "    </tr>\n",
       "    <tr>\n",
       "      <th>3</th>\n",
       "      <td>Jalan P.Ramlee</td>\n",
       "    </tr>\n",
       "    <tr>\n",
       "      <th>4</th>\n",
       "      <td>Lilitan Stadium (Astaka Makan)</td>\n",
       "    </tr>\n",
       "  </tbody>\n",
       "</table>\n",
       "</div>"
      ],
      "text/plain": [
       "                           lokasi\n",
       "0       Kampung Makam Haji Kassim\n",
       "1                   Kampung Dodol\n",
       "2     Kampung Masjid Hashim Yahya\n",
       "3                  Jalan P.Ramlee\n",
       "4  Lilitan Stadium (Astaka Makan)"
      ]
     },
     "execution_count": 17,
     "metadata": {},
     "output_type": "execute_result"
    }
   ],
   "source": [
    "# hspot = pd.read_excel(\"kawasan-hotspot-banjir-mengikut-daerah-di-pulau-pinang-2020-ppsn-17022020.xlsx\", skiprows=2)\n",
    "hspot = pd.read_csv(\"https://github.com/booluckgmie/podac/raw/main/hotspot_loc.csv\", usecols=['lokasi','address'])\n",
    "\n",
    "hspot.head()"
   ]
  },
  {
   "cell_type": "markdown",
   "id": "cd3fb4e3-78be-4f21-a098-3a7f9a6b1e28",
   "metadata": {},
   "source": [
    "### Geocoding lokasi hotspot banjir"
   ]
  },
  {
   "cell_type": "code",
   "execution_count": 18,
   "id": "2c088a25-daaa-41e0-acff-95d4c84ebdf9",
   "metadata": {},
   "outputs": [],
   "source": [
    "gkwsn_hot = geocode(strings=hspot['lokasi'], provider='arcgis')"
   ]
  },
  {
   "cell_type": "code",
   "execution_count": 19,
   "id": "c651a949",
   "metadata": {},
   "outputs": [
    {
     "data": {
      "text/html": [
       "<div>\n",
       "<style scoped>\n",
       "    .dataframe tbody tr th:only-of-type {\n",
       "        vertical-align: middle;\n",
       "    }\n",
       "\n",
       "    .dataframe tbody tr th {\n",
       "        vertical-align: top;\n",
       "    }\n",
       "\n",
       "    .dataframe thead th {\n",
       "        text-align: right;\n",
       "    }\n",
       "</style>\n",
       "<table border=\"1\" class=\"dataframe\">\n",
       "  <thead>\n",
       "    <tr style=\"text-align: right;\">\n",
       "      <th></th>\n",
       "      <th>geometry</th>\n",
       "      <th>address</th>\n",
       "    </tr>\n",
       "  </thead>\n",
       "  <tbody>\n",
       "    <tr>\n",
       "      <th>0</th>\n",
       "      <td>POINT (100.32053 5.41116)</td>\n",
       "      <td>Jalan Haji Kassim, Kampung Makam, George Town,...</td>\n",
       "    </tr>\n",
       "    <tr>\n",
       "      <th>1</th>\n",
       "      <td>POINT (100.31403 5.40441)</td>\n",
       "      <td>Kampung Dodol, George Town, Timur Laut, Pulau ...</td>\n",
       "    </tr>\n",
       "    <tr>\n",
       "      <th>2</th>\n",
       "      <td>POINT (100.31539 5.40651)</td>\n",
       "      <td>Masjid Jamek Hashim Yahaya</td>\n",
       "    </tr>\n",
       "    <tr>\n",
       "      <th>3</th>\n",
       "      <td>POINT (101.71078 3.15719)</td>\n",
       "      <td>Jalan P. Ramlee</td>\n",
       "    </tr>\n",
       "    <tr>\n",
       "      <th>4</th>\n",
       "      <td>POINT (58.34210 51.96045)</td>\n",
       "      <td>Makan, Khaybullinskiy rayon, Respublika Bashko...</td>\n",
       "    </tr>\n",
       "  </tbody>\n",
       "</table>\n",
       "</div>"
      ],
      "text/plain": [
       "                    geometry  \\\n",
       "0  POINT (100.32053 5.41116)   \n",
       "1  POINT (100.31403 5.40441)   \n",
       "2  POINT (100.31539 5.40651)   \n",
       "3  POINT (101.71078 3.15719)   \n",
       "4  POINT (58.34210 51.96045)   \n",
       "\n",
       "                                             address  \n",
       "0  Jalan Haji Kassim, Kampung Makam, George Town,...  \n",
       "1  Kampung Dodol, George Town, Timur Laut, Pulau ...  \n",
       "2                         Masjid Jamek Hashim Yahaya  \n",
       "3                                    Jalan P. Ramlee  \n",
       "4  Makan, Khaybullinskiy rayon, Respublika Bashko...  "
      ]
     },
     "execution_count": 19,
     "metadata": {},
     "output_type": "execute_result"
    }
   ],
   "source": [
    "gkwsn_hot.head()"
   ]
  },
  {
   "cell_type": "code",
   "execution_count": 20,
   "id": "986b74fa-c22c-40b8-9536-d6f693008e51",
   "metadata": {},
   "outputs": [
    {
     "data": {
      "text/html": [
       "<div>\n",
       "<style scoped>\n",
       "    .dataframe tbody tr th:only-of-type {\n",
       "        vertical-align: middle;\n",
       "    }\n",
       "\n",
       "    .dataframe tbody tr th {\n",
       "        vertical-align: top;\n",
       "    }\n",
       "\n",
       "    .dataframe thead th {\n",
       "        text-align: right;\n",
       "    }\n",
       "</style>\n",
       "<table border=\"1\" class=\"dataframe\">\n",
       "  <thead>\n",
       "    <tr style=\"text-align: right;\">\n",
       "      <th></th>\n",
       "      <th>geometry</th>\n",
       "      <th>address</th>\n",
       "    </tr>\n",
       "  </thead>\n",
       "  <tbody>\n",
       "    <tr>\n",
       "      <th>0</th>\n",
       "      <td>POINT (100.32053 5.41116)</td>\n",
       "      <td>Jalan Haji Kassim, Kampung Makam, George Town,...</td>\n",
       "    </tr>\n",
       "    <tr>\n",
       "      <th>1</th>\n",
       "      <td>POINT (100.31403 5.40441)</td>\n",
       "      <td>Kampung Dodol, George Town, Timur Laut, Pulau ...</td>\n",
       "    </tr>\n",
       "    <tr>\n",
       "      <th>2</th>\n",
       "      <td>POINT (100.31539 5.40651)</td>\n",
       "      <td>Masjid Jamek Hashim Yahaya</td>\n",
       "    </tr>\n",
       "    <tr>\n",
       "      <th>3</th>\n",
       "      <td>POINT (101.71078 3.15719)</td>\n",
       "      <td>Jalan P. Ramlee</td>\n",
       "    </tr>\n",
       "    <tr>\n",
       "      <th>4</th>\n",
       "      <td>POINT (58.34210 51.96045)</td>\n",
       "      <td>Makan, Khaybullinskiy rayon, Respublika Bashko...</td>\n",
       "    </tr>\n",
       "    <tr>\n",
       "      <th>...</th>\n",
       "      <td>...</td>\n",
       "      <td>...</td>\n",
       "    </tr>\n",
       "    <tr>\n",
       "      <th>306</th>\n",
       "      <td>POINT (100.48149 5.16576)</td>\n",
       "      <td>Kampung Sanglang, Nibong Tebal, Seberang Perai...</td>\n",
       "    </tr>\n",
       "    <tr>\n",
       "      <th>307</th>\n",
       "      <td>POINT (100.48204 5.16870)</td>\n",
       "      <td>Taman Veerapen, Nibong Tebal, Seberang Perai S...</td>\n",
       "    </tr>\n",
       "    <tr>\n",
       "      <th>308</th>\n",
       "      <td>POINT (100.48307 5.17203)</td>\n",
       "      <td>Taman Penting, Nibong Tebal, Seberang Perai Se...</td>\n",
       "    </tr>\n",
       "    <tr>\n",
       "      <th>309</th>\n",
       "      <td>POINT (102.58027 2.04336)</td>\n",
       "      <td>Taman Permai, Muar, Johor</td>\n",
       "    </tr>\n",
       "    <tr>\n",
       "      <th>310</th>\n",
       "      <td>POINT (101.94413 2.62682)</td>\n",
       "      <td>Kampung Stesen, Rantau, Seremban, Negeri Sembilan</td>\n",
       "    </tr>\n",
       "  </tbody>\n",
       "</table>\n",
       "<p>311 rows × 2 columns</p>\n",
       "</div>"
      ],
      "text/plain": [
       "                      geometry  \\\n",
       "0    POINT (100.32053 5.41116)   \n",
       "1    POINT (100.31403 5.40441)   \n",
       "2    POINT (100.31539 5.40651)   \n",
       "3    POINT (101.71078 3.15719)   \n",
       "4    POINT (58.34210 51.96045)   \n",
       "..                         ...   \n",
       "306  POINT (100.48149 5.16576)   \n",
       "307  POINT (100.48204 5.16870)   \n",
       "308  POINT (100.48307 5.17203)   \n",
       "309  POINT (102.58027 2.04336)   \n",
       "310  POINT (101.94413 2.62682)   \n",
       "\n",
       "                                               address  \n",
       "0    Jalan Haji Kassim, Kampung Makam, George Town,...  \n",
       "1    Kampung Dodol, George Town, Timur Laut, Pulau ...  \n",
       "2                           Masjid Jamek Hashim Yahaya  \n",
       "3                                      Jalan P. Ramlee  \n",
       "4    Makan, Khaybullinskiy rayon, Respublika Bashko...  \n",
       "..                                                 ...  \n",
       "306  Kampung Sanglang, Nibong Tebal, Seberang Perai...  \n",
       "307  Taman Veerapen, Nibong Tebal, Seberang Perai S...  \n",
       "308  Taman Penting, Nibong Tebal, Seberang Perai Se...  \n",
       "309                          Taman Permai, Muar, Johor  \n",
       "310  Kampung Stesen, Rantau, Seremban, Negeri Sembilan  \n",
       "\n",
       "[311 rows x 2 columns]"
      ]
     },
     "execution_count": 20,
     "metadata": {},
     "output_type": "execute_result"
    }
   ],
   "source": [
    "gkwsn_hot"
   ]
  },
  {
   "cell_type": "code",
   "execution_count": null,
   "id": "6b7bea86",
   "metadata": {},
   "outputs": [],
   "source": []
  }
 ],
 "metadata": {
  "kernelspec": {
   "display_name": "Python 3",
   "language": "python",
   "name": "python3"
  },
  "language_info": {
   "codemirror_mode": {
    "name": "ipython",
    "version": 3
   },
   "file_extension": ".py",
   "mimetype": "text/x-python",
   "name": "python",
   "nbconvert_exporter": "python",
   "pygments_lexer": "ipython3",
   "version": "3.10.0"
  }
 },
 "nbformat": 4,
 "nbformat_minor": 5
}
