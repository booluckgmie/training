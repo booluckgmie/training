{
  "nbformat": 4,
  "nbformat_minor": 0,
  "metadata": {
    "colab": {
      "name": "Apps GeoBengkel_PenangOpenData",
      "private_outputs": true,
      "provenance": [],
      "collapsed_sections": []
    },
    "kernelspec": {
      "name": "python3",
      "display_name": "Python 3"
    },
    "language_info": {
      "name": "python"
    }
  },
  "cells": [
    {
      "cell_type": "code",
      "source": [
        "import pandas as pd\n",
        "import requests\n",
        "import json\n",
        "from shapely.geometry import shape, Point\n",
        "\n",
        "# Create an API request \n",
        "url = 'https://raw.githubusercontent.com/dosm-malaysia/data-open/main/datasets/geodata/electoral_1_dun.geojson'\n",
        "response = requests.get(url)\n",
        "#print(\"Status code: \", response.status_code)\n",
        "# In a variable, save the API response.\n",
        "js = response.json()"
      ],
      "metadata": {
        "id": "6c1oTxBTocTW"
      },
      "execution_count": null,
      "outputs": []
    },
    {
      "cell_type": "code",
      "source": [
        "print(\"insert your geocode\")\n",
        "insert = input()"
      ],
      "metadata": {
        "id": "fbsfVuvOn-d5"
      },
      "execution_count": null,
      "outputs": []
    },
    {
      "cell_type": "code",
      "source": [
        "data = insert\n",
        "df = pd.DataFrame([x.split(',') for x in data.split('\\n')])\n",
        "df.columns =['lat', 'long']\n",
        "print(df)"
      ],
      "metadata": {
        "id": "6KJXTUjc4hgj"
      },
      "execution_count": null,
      "outputs": []
    },
    {
      "cell_type": "code",
      "source": [
        "import pandas as pd"
      ],
      "metadata": {
        "id": "ryqVZJ7r3Q23"
      },
      "execution_count": null,
      "outputs": []
    },
    {
      "cell_type": "code",
      "source": [
        "# Import necessary geometric objects from shapely module\n",
        "from shapely.geometry import Point, LineString, Polygon\n",
        "\n",
        "# Create Point geometric object(s) with coordinates\n",
        "point = Point(float(df.long), float(df.lat))"
      ],
      "metadata": {
        "id": "FZDvHhUd0hLH"
      },
      "execution_count": null,
      "outputs": []
    },
    {
      "cell_type": "code",
      "source": [
        "#selected DUN"
      ],
      "metadata": {
        "id": "u6DkNtSj1dF7"
      },
      "execution_count": null,
      "outputs": []
    },
    {
      "cell_type": "code",
      "source": [
        "# check each polygon to see if it contains the point\n",
        "for feature in js['features']:\n",
        "    polygon = shape(feature['geometry'])\n",
        "    if polygon.contains(point):\n",
        "        select_dun = feature['properties']['dun'] \n",
        "        \n",
        "print(select_dun)\n"
      ],
      "metadata": {
        "id": "JUS3FzR4kJCH"
      },
      "execution_count": null,
      "outputs": []
    },
    {
      "cell_type": "code",
      "source": [
        "select_dun"
      ],
      "metadata": {
        "id": "gQS9vbxcqCMa"
      },
      "execution_count": null,
      "outputs": []
    },
    {
      "cell_type": "code",
      "source": [
        "from google.colab import data_table\n",
        "\n",
        "data_table.enable_dataframe_formatter()"
      ],
      "metadata": {
        "id": "8Io7Z_hY-LQ7"
      },
      "execution_count": null,
      "outputs": []
    },
    {
      "cell_type": "code",
      "source": [
        "#data = pd.read_csv('/content/car_repair_motorMapping.csv')\n",
        "\n",
        "data = pd.read_csv(\"https://raw.githubusercontent.com/booluckgmie/training/main/python/hvplot_panel/datasetPenang/car_repair_motorMapping.csv\")"
      ],
      "metadata": {
        "id": "Qp94zI-1nfo_"
      },
      "execution_count": null,
      "outputs": []
    },
    {
      "cell_type": "code",
      "source": [
        "data"
      ],
      "metadata": {
        "id": "bfXS-w-7nuvm"
      },
      "execution_count": null,
      "outputs": []
    },
    {
      "cell_type": "code",
      "source": [
        "data['location'] = \"https://www.google.com/maps/search/?api=1&query=\"+ data['lat'].map(str) + \"%2C\"+  data['lon'].map(str)"
      ],
      "metadata": {
        "id": "q2W6Q5EGzIaL"
      },
      "execution_count": null,
      "outputs": []
    },
    {
      "cell_type": "code",
      "source": [
        "#https://www.google.com/maps/search/?api=1&query=47.5951518%2C-122.3316393"
      ],
      "metadata": {
        "id": "e96G-Voc0epe"
      },
      "execution_count": null,
      "outputs": []
    },
    {
      "cell_type": "code",
      "source": [
        "print (\"https://www.google.com/maps/search/?api=1&query=\"+ str(5.5188357) + \"%2C\"+ str(100.4299993))"
      ],
      "metadata": {
        "id": "5SqzPNma0enV"
      },
      "execution_count": null,
      "outputs": []
    },
    {
      "cell_type": "code",
      "source": [
        ""
      ],
      "metadata": {
        "id": "7JQhWs9K0elO"
      },
      "execution_count": null,
      "outputs": []
    },
    {
      "cell_type": "code",
      "source": [
        "pip install sidetable -qq"
      ],
      "metadata": {
        "id": "DRz8e-G_l6-c"
      },
      "execution_count": null,
      "outputs": []
    },
    {
      "cell_type": "code",
      "source": [
        "import sidetable as stb"
      ],
      "metadata": {
        "id": "xz4ctq9RmT_b"
      },
      "execution_count": null,
      "outputs": []
    },
    {
      "cell_type": "code",
      "source": [
        "result = data[data['dun'].str.contains(select_dun)]"
      ],
      "metadata": {
        "id": "MYOLAHKsmWZP"
      },
      "execution_count": null,
      "outputs": []
    },
    {
      "cell_type": "code",
      "source": [
        "result.stb.freq(['shop'])"
      ],
      "metadata": {
        "id": "CHJMutNomkBb"
      },
      "execution_count": null,
      "outputs": []
    },
    {
      "cell_type": "code",
      "source": [
        "result"
      ],
      "metadata": {
        "id": "PoC1zR9-5XB5"
      },
      "execution_count": null,
      "outputs": []
    },
    {
      "cell_type": "code",
      "source": [
        ""
      ],
      "metadata": {
        "id": "rm4isXkoypED"
      },
      "execution_count": null,
      "outputs": []
    }
  ]
}