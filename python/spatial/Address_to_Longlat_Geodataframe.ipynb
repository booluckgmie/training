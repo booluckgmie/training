{
  "nbformat": 4,
  "nbformat_minor": 0,
  "metadata": {
    "colab": {
      "name": "Address to Longlat Geodataframe",
      "private_outputs": true,
      "provenance": [],
      "include_colab_link": true
    },
    "kernelspec": {
      "name": "python3",
      "display_name": "Python 3"
    },
    "language_info": {
      "name": "python"
    }
  },
  "cells": [
    {
      "cell_type": "markdown",
      "metadata": {
        "id": "view-in-github",
        "colab_type": "text"
      },
      "source": [
        "<a href=\"https://colab.research.google.com/github/booluckgmie/training/blob/main/Address_to_Longlat_Geodataframe.ipynb\" target=\"_parent\"><img src=\"https://colab.research.google.com/assets/colab-badge.svg\" alt=\"Open In Colab\"/></a>"
      ]
    },
    {
      "cell_type": "code",
      "source": [
        "import pandas as pd\n",
        "from geopy.geocoders import Nominatim\n",
        "import folium"
      ],
      "metadata": {
        "id": "iDvgExNJzfFn"
      },
      "execution_count": null,
      "outputs": []
    },
    {
      "cell_type": "code",
      "source": [
        "geolocator = Nominatim(timeout=10, user_agent=\"PDS\")"
      ],
      "metadata": {
        "id": "DVnYzaVfzo5U"
      },
      "execution_count": null,
      "outputs": []
    },
    {
      "cell_type": "code",
      "execution_count": null,
      "metadata": {
        "id": "x7u1-lqRy95c"
      },
      "outputs": [],
      "source": [
        "df = pd.read_csv('https://github.com/booluckgmie/training/raw/main/python/geopy/dummy_addr.csv')\n",
        "df"
      ]
    },
    {
      "cell_type": "code",
      "source": [
        "#testing\n",
        "location = geolocator.geocode('TAMAN SURIA 86000 Johor, Malaysia')"
      ],
      "metadata": {
        "id": "j7QW7wuhzg8t"
      },
      "execution_count": null,
      "outputs": []
    },
    {
      "cell_type": "code",
      "source": [
        "location"
      ],
      "metadata": {
        "id": "jDF3zJZQzsT1"
      },
      "execution_count": null,
      "outputs": []
    },
    {
      "cell_type": "code",
      "source": [
        "df['geocode'] = df['Address'].apply(geolocator.geocode)"
      ],
      "metadata": {
        "id": "PZ1iCORgzxjK"
      },
      "execution_count": null,
      "outputs": []
    },
    {
      "cell_type": "code",
      "source": [
        "df"
      ],
      "metadata": {
        "id": "KLpF6dZT0M9d"
      },
      "execution_count": null,
      "outputs": []
    },
    {
      "cell_type": "code",
      "source": [
        ""
      ],
      "metadata": {
        "id": "Gw-Iroir0OkF"
      },
      "execution_count": null,
      "outputs": []
    },
    {
      "cell_type": "code",
      "source": [
        ""
      ],
      "metadata": {
        "id": "BMajYCrY1OG0"
      },
      "execution_count": null,
      "outputs": []
    },
    {
      "cell_type": "markdown",
      "source": [
        "## Using Nomintim API"
      ],
      "metadata": {
        "id": "wBtMo7Kp7D04"
      }
    },
    {
      "cell_type": "code",
      "source": [
        "#https://nominatim.org/release-docs/develop/api/Search/"
      ],
      "metadata": {
        "id": "_S36hDFI1OIh"
      },
      "execution_count": null,
      "outputs": []
    },
    {
      "cell_type": "code",
      "source": [
        "import requests\n",
        "import json"
      ],
      "metadata": {
        "id": "FRicKRwx1RCg"
      },
      "execution_count": null,
      "outputs": []
    },
    {
      "cell_type": "code",
      "source": [
        "def get_geocoded_nom(address):\n",
        "    # URL\n",
        "    address = address.replace(' ', '+')\n",
        "    url = 'https://nominatim.openstreetmap.org/search?q=' + address + \"&format=geojson&limit=1\"\n",
        "    \n",
        "    # Response\n",
        "    response = requests.get(url)\n",
        "    return json.loads(response.text)"
      ],
      "metadata": {
        "id": "D2aZXOWc1ONY"
      },
      "execution_count": null,
      "outputs": []
    },
    {
      "cell_type": "code",
      "source": [
        "#formating api search\n",
        "#https://nominatim.openstreetmap.org/search?q=Pulau%Pinang&format=geojson\n",
        "#https://nominatim.openstreetmap.org/search?q=Pulau%Pinang&format=geojson&limit=1 #limit no."
      ],
      "metadata": {
        "id": "56SjMB8h4nYd"
      },
      "execution_count": null,
      "outputs": []
    },
    {
      "cell_type": "code",
      "source": [
        "get_geocoded_nom(\"SEROM SUNGAI MATI 84410 Johor, Malaysia\")"
      ],
      "metadata": {
        "id": "FZ9c-S9s1PWP"
      },
      "execution_count": null,
      "outputs": []
    },
    {
      "cell_type": "code",
      "source": [
        "#eg: NO. 16 JALAN IKS 1, TAMAN IKS AIR MANIS. TAMAN AIR MANIS 45200  SABAK BERNAM"
      ],
      "metadata": {
        "id": "5JgPyuXlmAGV"
      },
      "execution_count": null,
      "outputs": []
    },
    {
      "cell_type": "code",
      "source": [
        "get_geocoded_nom(\"TAMAN AIR MANIS, SABAK BERNAM, SELANGOR, MALAYSIA\")"
      ],
      "metadata": {
        "id": "eJqs37IE1fG9"
      },
      "execution_count": null,
      "outputs": []
    },
    {
      "cell_type": "code",
      "source": [
        "result = get_geocoded_nom(\"TAMAN AIR MANIS, SABAK BERNAM, SELANGOR, MALAYSIA\")"
      ],
      "metadata": {
        "id": "bQjhOoFsf_Wz"
      },
      "execution_count": null,
      "outputs": []
    },
    {
      "cell_type": "code",
      "source": [
        "lon = result['features'][0]['geometry']['coordinates'][0]"
      ],
      "metadata": {
        "id": "4d6UcODp5oHC"
      },
      "execution_count": null,
      "outputs": []
    },
    {
      "cell_type": "code",
      "source": [
        "lat = result['features'][0]['geometry']['coordinates'][1]"
      ],
      "metadata": {
        "id": "_su5JOi55vGK"
      },
      "execution_count": null,
      "outputs": []
    },
    {
      "cell_type": "code",
      "source": [
        "print (lon, lat)"
      ],
      "metadata": {
        "id": "Nd3riHVN6Tan"
      },
      "execution_count": null,
      "outputs": []
    },
    {
      "cell_type": "code",
      "source": [
        "!pip install geopandas -qq"
      ],
      "metadata": {
        "id": "XvK4sFIrehr7"
      },
      "execution_count": null,
      "outputs": []
    },
    {
      "cell_type": "code",
      "source": [
        "import pandas as pd\n",
        "import geopandas as gpd"
      ],
      "metadata": {
        "id": "oNd2lFkTd2Xv"
      },
      "execution_count": null,
      "outputs": []
    },
    {
      "cell_type": "code",
      "source": [
        "import json\n",
        "import time\n",
        "import requests\n",
        "import pandas as pd\n",
        "import geopandas as gpd\n",
        "import shapely.geometry\n",
        "\n",
        "def geocode_place(place, country):\n",
        "    time.sleep(1)  # keep the requests limited to 1 second\n",
        "    url = 'https://nominatim.openstreetmap.org/search/{}'.format(\n",
        "        place + ', ' + country)\n",
        "    data = requests.get(url, params={'format': 'json'}).json()\n",
        "    if data:\n",
        "        # Create shapely Point geometry from lon, lat coordinates\n",
        "        lon = float(data[0]['lon'])\n",
        "        lat = float(data[0]['lat'])\n",
        "        return shapely.geometry.Point(lon, lat)\n",
        "    else:\n",
        "        return None"
      ],
      "metadata": {
        "id": "OxXj6sUEexrx"
      },
      "execution_count": null,
      "outputs": []
    },
    {
      "cell_type": "code",
      "source": [
        "df['geometry'] = df.apply(lambda row: geocode_place(row['City'], row['Country']), axis=1)\n"
      ],
      "metadata": {
        "id": "oJRcRGp_d1Fj"
      },
      "execution_count": null,
      "outputs": []
    },
    {
      "cell_type": "code",
      "source": [
        "gdf = gpd.GeoDataFrame(df, geometry='geometry', crs=\"EPSG:4326\")\n",
        "gdf.head()"
      ],
      "metadata": {
        "id": "BZX_xNJzd8x2"
      },
      "execution_count": null,
      "outputs": []
    },
    {
      "cell_type": "code",
      "source": [
        "gdf['geocode'][0]"
      ],
      "metadata": {
        "id": "WmAUq0P8eZzz"
      },
      "execution_count": null,
      "outputs": []
    },
    {
      "cell_type": "code",
      "source": [
        ""
      ],
      "metadata": {
        "id": "IrOyAbxvLxSD"
      },
      "execution_count": null,
      "outputs": []
    }
  ]
}
