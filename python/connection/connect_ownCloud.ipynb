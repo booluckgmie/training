{
 "cells": [
  {
   "attachments": {},
   "cell_type": "markdown",
   "metadata": {},
   "source": [
    "## Testing Connection to ownCloud"
   ]
  },
  {
   "attachments": {},
   "cell_type": "markdown",
   "metadata": {},
   "source": [
    "### Automatic installation with pip:\n",
    "\n",
    "$ pip install pyocclient\n",
    "\n",
    "### Manual installation of development version with git:\n",
    "\n",
    "pip install requests <br>\n",
    "git clone https://github.com/owncloud/pyocclient.git <br>\n",
    "cd pyocclient <br>\n",
    "python setup.py install"
   ]
  },
  {
   "attachments": {},
   "cell_type": "markdown",
   "metadata": {},
   "source": [
    "### Testing 1"
   ]
  },
  {
   "cell_type": "code",
   "execution_count": 100,
   "metadata": {},
   "outputs": [],
   "source": [
    "import owncloud\n",
    "import pandas as pd"
   ]
  },
  {
   "cell_type": "code",
   "execution_count": 50,
   "metadata": {},
   "outputs": [
    {
     "name": "stdout",
     "output_type": "stream",
     "text": [
      "Slide Korporat_7 Feb 2023.pptx\n",
      "Template Slaid Korporat DOSM 2023 (MALAYSIA MADANI).pptx\n"
     ]
    }
   ],
   "source": [
    "public_link = 'https://cloud.stats.gov.my/index.php/s/FQ8HcbvxkqgACVd'\n",
    "folder_password = ''\n",
    "\n",
    "oc = owncloud.Client.from_public_link(public_link, folder_password=folder_password)\n",
    "# oc.get_file('Slide Korporat_7 Feb 2023.pptx', 'Slide Korporat_7 Feb 2023.pptx')\n",
    "files = oc.list('/')\n",
    "\n",
    "for file in files:\n",
    "    if not file.is_dir():\n",
    "        print(file.get_name())\n"
   ]
  },
  {
   "attachments": {},
   "cell_type": "markdown",
   "metadata": {},
   "source": [
    "### Testing 2"
   ]
  },
  {
   "cell_type": "code",
   "execution_count": 105,
   "metadata": {},
   "outputs": [
    {
     "name": "stdout",
     "output_type": "stream",
     "text": [
      "agama.csv\n",
      "agensi.csv\n",
      "bank.csv\n",
      "bantuan.csv\n",
      "daerah.csv\n",
      "dun.csv\n",
      "etnik.csv\n",
      "institusi_pendidikan.csv\n",
      "jantina.csv\n",
      "jenis_akaun_bank.csv\n",
      "jenis_kemahiran.csv\n",
      "jenis_kenderaan.csv\n",
      "jenis_oku.csv\n",
      "jenis_pekerjaan.csv\n",
      "jenis_pemilikan_kediaman.csv\n",
      "jenis_pemilikan_kenderaan.csv\n",
      "jenis_sub_kategori.csv\n",
      "jenis_tempat_kediaman.csv\n",
      "kategori.csv\n",
      "kediaman.csv\n",
      "kekerapan.csv\n",
      "kemahiran.csv\n",
      "kementerian.csv\n",
      "kenderaan.csv\n",
      "kluster.csv\n",
      "kluster_etnik.csv\n",
      "kumpulan_sasar.csv\n",
      "manfaat.csv\n",
      "mukim.csv\n",
      "negeri.csv\n",
      "oku.csv\n",
      "parlimen.csv\n",
      "pendapatan.csv\n",
      "penyakit.csv\n",
      "profil.csv\n",
      "profil_penyakit_rawatan.csv\n",
      "program.csv\n",
      "program_jenis_sub_kategori.csv\n",
      "program_kumpulan_sasar.csv\n",
      "rawatan.csv\n",
      "sijil.csv\n",
      "status_bantuan.csv\n",
      "status_kahwin.csv\n",
      "status_pekerjaan.csv\n",
      "status_pelaksanaan.csv\n",
      "strata.csv\n",
      "sub_kategori.csv\n",
      "sumber_pendapatan.csv\n",
      "taraf_pendidikan.csv\n",
      "teras.csv\n",
      "warganegara.csv\n"
     ]
    }
   ],
   "source": [
    "public_link = 'https://cloud.stats.gov.my/index.php/s/vs3qNi6Ttd2New9'\n",
    "folder_password = ''\n",
    "\n",
    "oc = owncloud.Client.from_public_link(public_link, folder_password=folder_password)\n",
    "files = oc.list('/PDPS Codebook')\n",
    "\n",
    "for file in files:\n",
    "    if not file.is_dir():\n",
    "        print(file.get_name())\n"
   ]
  },
  {
   "attachments": {},
   "cell_type": "markdown",
   "metadata": {},
   "source": [
    "# Working Database DUN_PARLIMEN"
   ]
  },
  {
   "attachments": {},
   "cell_type": "markdown",
   "metadata": {},
   "source": [
    "## List of Files in directory"
   ]
  },
  {
   "cell_type": "code",
   "execution_count": 109,
   "metadata": {},
   "outputs": [],
   "source": [
    "import owncloud\n",
    "import pandas as pd"
   ]
  },
  {
   "cell_type": "code",
   "execution_count": 106,
   "metadata": {},
   "outputs": [
    {
     "name": "stdout",
     "output_type": "stream",
     "text": [
      "DB_Par_Dun_V2.xlsx\n",
      "DB_Par_Dun_V5.xlsx\n",
      "DB_Par_Dun_V7.xlsx\n",
      "DB_Par_Dun_v1.2.xlsx\n",
      "DB_Par_Dun_v10.xlsx\n",
      "DB_Par_Dun_v11.xlsx\n",
      "DB_Par_Dun_v3.xlsx\n",
      "DB_Par_Dun_v4.xlsx\n",
      "DB_Par_Dun_v6.xlsx\n",
      "DB_Par_Dun_v8.xlsx\n",
      "DB_Par_Dun_v9.xlsx\n",
      "DB_par_Dun_v1.3.xlsx\n"
     ]
    }
   ],
   "source": [
    "public_link = 'https://cloud.stats.gov.my/index.php/s/========'\n",
    "folder_password = ''\n",
    "\n",
    "oc = owncloud.Client.from_public_link(public_link, folder_password=folder_password)\n",
    "files = oc.list('/DATA DUN TAHUN 2023/DATABASE_2023/DB_VERSION2023')\n",
    "\n",
    "for file in files:\n",
    "    if not file.is_dir():\n",
    "        print(file.get_name())\n"
   ]
  },
  {
   "attachments": {},
   "cell_type": "markdown",
   "metadata": {},
   "source": [
    "## Read table in excel without download"
   ]
  },
  {
   "cell_type": "code",
   "execution_count": 108,
   "metadata": {},
   "outputs": [
    {
     "data": {
      "text/html": [
       "<div>\n",
       "<style scoped>\n",
       "    .dataframe tbody tr th:only-of-type {\n",
       "        vertical-align: middle;\n",
       "    }\n",
       "\n",
       "    .dataframe tbody tr th {\n",
       "        vertical-align: top;\n",
       "    }\n",
       "\n",
       "    .dataframe thead th {\n",
       "        text-align: right;\n",
       "    }\n",
       "</style>\n",
       "<table border=\"1\" class=\"dataframe\">\n",
       "  <thead>\n",
       "    <tr style=\"text-align: right;\">\n",
       "      <th></th>\n",
       "      <th>Kod_Dun_State</th>\n",
       "      <th>Kod_Dun</th>\n",
       "      <th>Nama_Dun</th>\n",
       "      <th>Kod_Par</th>\n",
       "      <th>Nama_Par</th>\n",
       "      <th>Kod_Ng</th>\n",
       "      <th>Ng</th>\n",
       "      <th>Luas_Kawasan</th>\n",
       "      <th>Jumlah_Penduduk</th>\n",
       "      <th>Kepadatan_Penduduk</th>\n",
       "      <th>P.Luas_Kawasan</th>\n",
       "      <th>P.Jumlah_Penduduk</th>\n",
       "      <th>P.Kepadatan_Penduduk</th>\n",
       "      <th>Tahun</th>\n",
       "    </tr>\n",
       "  </thead>\n",
       "  <tbody>\n",
       "    <tr>\n",
       "      <th>0</th>\n",
       "      <td>N.01_09</td>\n",
       "      <td>N.01</td>\n",
       "      <td>Titi Tinggi</td>\n",
       "      <td>P.001</td>\n",
       "      <td>Padang Besar</td>\n",
       "      <td>9</td>\n",
       "      <td>Perlis</td>\n",
       "      <td>120.0</td>\n",
       "      <td>18.9</td>\n",
       "      <td>157.283333</td>\n",
       "      <td>450</td>\n",
       "      <td>87.6</td>\n",
       "      <td>194.717778</td>\n",
       "      <td>2021</td>\n",
       "    </tr>\n",
       "    <tr>\n",
       "      <th>1</th>\n",
       "      <td>N.01_09</td>\n",
       "      <td>N.01</td>\n",
       "      <td>Titi Tinggi</td>\n",
       "      <td>P.001</td>\n",
       "      <td>Padang Besar</td>\n",
       "      <td>9</td>\n",
       "      <td>Perlis</td>\n",
       "      <td>120.0</td>\n",
       "      <td>19.0</td>\n",
       "      <td>158.466667</td>\n",
       "      <td>450</td>\n",
       "      <td>88.3</td>\n",
       "      <td>196.184444</td>\n",
       "      <td>2022</td>\n",
       "    </tr>\n",
       "    <tr>\n",
       "      <th>2</th>\n",
       "      <td>N.02_09</td>\n",
       "      <td>N.02</td>\n",
       "      <td>Beseri</td>\n",
       "      <td>P.001</td>\n",
       "      <td>Padang Besar</td>\n",
       "      <td>9</td>\n",
       "      <td>Perlis</td>\n",
       "      <td>133.0</td>\n",
       "      <td>18.3</td>\n",
       "      <td>137.601504</td>\n",
       "      <td>450</td>\n",
       "      <td>87.6</td>\n",
       "      <td>194.717778</td>\n",
       "      <td>2021</td>\n",
       "    </tr>\n",
       "    <tr>\n",
       "      <th>3</th>\n",
       "      <td>N.02_09</td>\n",
       "      <td>N.02</td>\n",
       "      <td>Beseri</td>\n",
       "      <td>P.001</td>\n",
       "      <td>Padang Besar</td>\n",
       "      <td>9</td>\n",
       "      <td>Perlis</td>\n",
       "      <td>133.0</td>\n",
       "      <td>18.4</td>\n",
       "      <td>138.639098</td>\n",
       "      <td>450</td>\n",
       "      <td>88.3</td>\n",
       "      <td>196.184444</td>\n",
       "      <td>2022</td>\n",
       "    </tr>\n",
       "    <tr>\n",
       "      <th>4</th>\n",
       "      <td>N.03_09</td>\n",
       "      <td>N.03</td>\n",
       "      <td>Chuping</td>\n",
       "      <td>P.001</td>\n",
       "      <td>Padang Besar</td>\n",
       "      <td>9</td>\n",
       "      <td>Perlis</td>\n",
       "      <td>150.0</td>\n",
       "      <td>24.5</td>\n",
       "      <td>163.126667</td>\n",
       "      <td>450</td>\n",
       "      <td>87.6</td>\n",
       "      <td>194.717778</td>\n",
       "      <td>2021</td>\n",
       "    </tr>\n",
       "    <tr>\n",
       "      <th>...</th>\n",
       "      <td>...</td>\n",
       "      <td>...</td>\n",
       "      <td>...</td>\n",
       "      <td>...</td>\n",
       "      <td>...</td>\n",
       "      <td>...</td>\n",
       "      <td>...</td>\n",
       "      <td>...</td>\n",
       "      <td>...</td>\n",
       "      <td>...</td>\n",
       "      <td>...</td>\n",
       "      <td>...</td>\n",
       "      <td>...</td>\n",
       "      <td>...</td>\n",
       "    </tr>\n",
       "    <tr>\n",
       "      <th>1221</th>\n",
       "      <td>N.80_13</td>\n",
       "      <td>N.80</td>\n",
       "      <td>Batu Danau</td>\n",
       "      <td>P.221</td>\n",
       "      <td>Limbang</td>\n",
       "      <td>13</td>\n",
       "      <td>Sarawak</td>\n",
       "      <td>3743.0</td>\n",
       "      <td>13.4</td>\n",
       "      <td>3.585627</td>\n",
       "      <td>4211</td>\n",
       "      <td>45.4</td>\n",
       "      <td>10.775588</td>\n",
       "      <td>2022</td>\n",
       "    </tr>\n",
       "    <tr>\n",
       "      <th>1222</th>\n",
       "      <td>N.81_13</td>\n",
       "      <td>N.81</td>\n",
       "      <td>Ba`Kelalan</td>\n",
       "      <td>P.222</td>\n",
       "      <td>Lawas</td>\n",
       "      <td>13</td>\n",
       "      <td>Sarawak</td>\n",
       "      <td>3444.0</td>\n",
       "      <td>9.7</td>\n",
       "      <td>2.820267</td>\n",
       "      <td>3889</td>\n",
       "      <td>36.8</td>\n",
       "      <td>9.458987</td>\n",
       "      <td>2021</td>\n",
       "    </tr>\n",
       "    <tr>\n",
       "      <th>1223</th>\n",
       "      <td>N.81_13</td>\n",
       "      <td>N.81</td>\n",
       "      <td>Ba`Kelalan</td>\n",
       "      <td>P.222</td>\n",
       "      <td>Lawas</td>\n",
       "      <td>13</td>\n",
       "      <td>Sarawak</td>\n",
       "      <td>3444.0</td>\n",
       "      <td>9.7</td>\n",
       "      <td>2.826074</td>\n",
       "      <td>3889</td>\n",
       "      <td>36.9</td>\n",
       "      <td>9.479043</td>\n",
       "      <td>2022</td>\n",
       "    </tr>\n",
       "    <tr>\n",
       "      <th>1224</th>\n",
       "      <td>N.82_13</td>\n",
       "      <td>N.82</td>\n",
       "      <td>Bukit Sari</td>\n",
       "      <td>P.222</td>\n",
       "      <td>Lawas</td>\n",
       "      <td>13</td>\n",
       "      <td>Sarawak</td>\n",
       "      <td>445.0</td>\n",
       "      <td>27.1</td>\n",
       "      <td>60.838202</td>\n",
       "      <td>3889</td>\n",
       "      <td>36.8</td>\n",
       "      <td>9.458987</td>\n",
       "      <td>2021</td>\n",
       "    </tr>\n",
       "    <tr>\n",
       "      <th>1225</th>\n",
       "      <td>N.82_13</td>\n",
       "      <td>N.82</td>\n",
       "      <td>Bukit Sari</td>\n",
       "      <td>P.222</td>\n",
       "      <td>Lawas</td>\n",
       "      <td>13</td>\n",
       "      <td>Sarawak</td>\n",
       "      <td>445.0</td>\n",
       "      <td>27.1</td>\n",
       "      <td>60.968539</td>\n",
       "      <td>3889</td>\n",
       "      <td>36.9</td>\n",
       "      <td>9.479043</td>\n",
       "      <td>2022</td>\n",
       "    </tr>\n",
       "  </tbody>\n",
       "</table>\n",
       "<p>1226 rows × 14 columns</p>\n",
       "</div>"
      ],
      "text/plain": [
       "     Kod_Dun_State Kod_Dun     Nama_Dun Kod_Par      Nama_Par  Kod_Ng  \\\n",
       "0          N.01_09    N.01  Titi Tinggi   P.001  Padang Besar       9   \n",
       "1          N.01_09    N.01  Titi Tinggi   P.001  Padang Besar       9   \n",
       "2          N.02_09    N.02       Beseri   P.001  Padang Besar       9   \n",
       "3          N.02_09    N.02       Beseri   P.001  Padang Besar       9   \n",
       "4          N.03_09    N.03      Chuping   P.001  Padang Besar       9   \n",
       "...            ...     ...          ...     ...           ...     ...   \n",
       "1221       N.80_13    N.80   Batu Danau   P.221       Limbang      13   \n",
       "1222       N.81_13    N.81   Ba`Kelalan   P.222         Lawas      13   \n",
       "1223       N.81_13    N.81   Ba`Kelalan   P.222         Lawas      13   \n",
       "1224       N.82_13    N.82   Bukit Sari   P.222         Lawas      13   \n",
       "1225       N.82_13    N.82   Bukit Sari   P.222         Lawas      13   \n",
       "\n",
       "           Ng  Luas_Kawasan  Jumlah_Penduduk  Kepadatan_Penduduk  \\\n",
       "0      Perlis         120.0             18.9          157.283333   \n",
       "1      Perlis         120.0             19.0          158.466667   \n",
       "2      Perlis         133.0             18.3          137.601504   \n",
       "3      Perlis         133.0             18.4          138.639098   \n",
       "4      Perlis         150.0             24.5          163.126667   \n",
       "...       ...           ...              ...                 ...   \n",
       "1221  Sarawak        3743.0             13.4            3.585627   \n",
       "1222  Sarawak        3444.0              9.7            2.820267   \n",
       "1223  Sarawak        3444.0              9.7            2.826074   \n",
       "1224  Sarawak         445.0             27.1           60.838202   \n",
       "1225  Sarawak         445.0             27.1           60.968539   \n",
       "\n",
       "      P.Luas_Kawasan  P.Jumlah_Penduduk  P.Kepadatan_Penduduk  Tahun   \n",
       "0                450               87.6            194.717778    2021  \n",
       "1                450               88.3            196.184444    2022  \n",
       "2                450               87.6            194.717778    2021  \n",
       "3                450               88.3            196.184444    2022  \n",
       "4                450               87.6            194.717778    2021  \n",
       "...              ...                ...                   ...     ...  \n",
       "1221            4211               45.4             10.775588    2022  \n",
       "1222            3889               36.8              9.458987    2021  \n",
       "1223            3889               36.9              9.479043    2022  \n",
       "1224            3889               36.8              9.458987    2021  \n",
       "1225            3889               36.9              9.479043    2022  \n",
       "\n",
       "[1226 rows x 14 columns]"
      ]
     },
     "execution_count": 108,
     "metadata": {},
     "output_type": "execute_result"
    }
   ],
   "source": [
    "import pandas as pd\n",
    "import owncloud\n",
    "\n",
    "# Replace with the actual public link and folder password\n",
    "public_link = 'https://cloud.stats.gov.my/index.php/s/=====' ##gciOpJBOv4Fnw4j\n",
    "folder_password = ''\n",
    "\n",
    "# Initialize the OwnCloud client\n",
    "oc = owncloud.Client.from_public_link(public_link, folder_password=folder_password)\n",
    "\n",
    "# Define the path to the Excel file\n",
    "file_path = '/DATA DUN TAHUN 2023/DATABASE_2023/DB_VERSION2023/DB_Par_Dun_V7.xlsx'\n",
    "\n",
    "# Download the file from OwnCloud\n",
    "file_content = oc.get_file_contents(file_path)\n",
    "\n",
    "# Read the Excel file into a pandas dataframe\n",
    "df = pd.read_excel(file_content)\n",
    "\n",
    "# Print the first few rows of the dataframe\n",
    "df\n"
   ]
  },
  {
   "attachments": {},
   "cell_type": "markdown",
   "metadata": {},
   "source": [
    "## Upload multiple files"
   ]
  },
  {
   "attachments": {},
   "cell_type": "markdown",
   "metadata": {},
   "source": [
    "## check dir and single file"
   ]
  },
  {
   "cell_type": "code",
   "execution_count": 81,
   "metadata": {},
   "outputs": [],
   "source": [
    "public_link = 'https://cloud.stats.gov.my/index.php/s/WzlpPEepjPfUaAz'\n",
    "folder_password = ''\n",
    "\n",
    "oc = owncloud.Client.from_public_link(public_link, folder_password=folder_password)\n",
    "files = oc.list('/') #foldertest\n",
    "\n",
    "for file in files:\n",
    "    if not file.is_dir():\n",
    "        print(file.get_name())\n"
   ]
  },
  {
   "cell_type": "code",
   "execution_count": 82,
   "metadata": {},
   "outputs": [
    {
     "data": {
      "text/plain": [
       "True"
      ]
     },
     "execution_count": 82,
     "metadata": {},
     "output_type": "execute_result"
    }
   ],
   "source": [
    "import owncloud\n",
    "\n",
    "public_link = 'https://cloud.stats.gov.my/index.php/s/WzlpPEepjPfUaAz'\n",
    "\n",
    "oc = owncloud.Client.from_public_link(public_link)\n",
    "oc.drop_file('file2.txt')"
   ]
  },
  {
   "cell_type": "code",
   "execution_count": 41,
   "metadata": {},
   "outputs": [
    {
     "data": {
      "text/plain": [
       "'e:\\\\ownCloud\\\\pyocclient'"
      ]
     },
     "execution_count": 41,
     "metadata": {},
     "output_type": "execute_result"
    }
   ],
   "source": [
    "# os.getcwd()"
   ]
  },
  {
   "attachments": {},
   "cell_type": "markdown",
   "metadata": {},
   "source": [
    "### Multiple files upload"
   ]
  },
  {
   "cell_type": "code",
   "execution_count": 84,
   "metadata": {},
   "outputs": [
    {
     "name": "stdout",
     "output_type": "stream",
     "text": [
      "Adding file 1/2: file1.txt\n",
      "Adding file 2/2: file3.txt\n",
      "Added 2 files.\n"
     ]
    }
   ],
   "source": [
    "import owncloud\n",
    "\n",
    "public_link = 'https://cloud.stats.gov.my/index.php/s/WzlpPEepjPfUaAz'\n",
    "\n",
    "oc = owncloud.Client.from_public_link(public_link)\n",
    "\n",
    "# list of file names to add\n",
    "file_names = ['file1.txt', 'file3.txt']\n",
    "num_files = len(file_names)\n",
    "\n",
    "# iterate through the list and add each file\n",
    "for i, file_name in enumerate(file_names, start=1):\n",
    "    # print progress\n",
    "    print(f'Adding file {i}/{num_files}: {file_name}')\n",
    "    oc.drop_file(file_name)\n",
    "\n",
    "# print completion message\n",
    "print(f'Added {num_files} files.')\n"
   ]
  },
  {
   "cell_type": "code",
   "execution_count": null,
   "metadata": {},
   "outputs": [],
   "source": []
  }
 ],
 "metadata": {
  "kernelspec": {
   "display_name": "ui",
   "language": "python",
   "name": "python3"
  },
  "language_info": {
   "codemirror_mode": {
    "name": "ipython",
    "version": 3
   },
   "file_extension": ".py",
   "mimetype": "text/x-python",
   "name": "python",
   "nbconvert_exporter": "python",
   "pygments_lexer": "ipython3",
   "version": "3.10.4"
  },
  "orig_nbformat": 4,
  "vscode": {
   "interpreter": {
    "hash": "81309d57082c684c3ffccb221501acbef83db6334dc1079f3f2fa91faf2d7a72"
   }
  }
 },
 "nbformat": 4,
 "nbformat_minor": 2
}
