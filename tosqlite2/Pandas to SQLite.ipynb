{
 "cells": [
  {
   "cell_type": "code",
   "execution_count": 26,
   "metadata": {
    "scrolled": false
   },
   "outputs": [],
   "source": [
    "import pandas as pd\n",
    "data = pd.read_csv(r\"D:\\Lab Python\\Pandas Profiling\\PDPS_10perc02_null.csv\", low_memory=False)"
   ]
  },
  {
   "cell_type": "code",
   "execution_count": 27,
   "metadata": {},
   "outputs": [],
   "source": [
    "# Exporting To SQLite\n",
    "import sqlite3\n",
    "conn = sqlite3.connect(\"pdps10perc.db\")\n",
    "data.to_sql(\"pdps10perc\", conn, index = False)"
   ]
  },
  {
   "cell_type": "code",
   "execution_count": 28,
   "metadata": {},
   "outputs": [
    {
     "name": "stdout",
     "output_type": "stream",
     "text": [
      "[(0, 'Unnamed: 0', 'INTEGER', 0, None, 0), (1, 'No_IC', 'REAL', 0, None, 0), (2, 'No_IC_Lama', 'TEXT', 0, None, 0), (3, 'No_Passport', 'REAL', 0, None, 0), (4, 'Nama_Penerima', 'TEXT', 0, None, 0), (5, 'No_Telefon', 'TEXT', 0, None, 0), (6, 'Umur_Semasa', 'REAL', 0, None, 0), (7, 'Jantina', 'TEXT', 0, None, 0), (8, 'Agama', 'TEXT', 0, None, 0), (9, 'Kumpulan_Etnik', 'TEXT', 0, None, 0), (10, 'Kluster_Etnik', 'TEXT', 0, None, 0), (11, 'Warganegara', 'TEXT', 0, None, 0), (12, 'Emel', 'TEXT', 0, None, 0), (13, 'Status_Perkahwinan', 'TEXT', 0, None, 0), (14, 'Alamat', 'TEXT', 0, None, 0), (15, 'Poskod', 'REAL', 0, None, 0), (16, 'Negeri', 'TEXT', 0, None, 0), (17, 'Daerah', 'TEXT', 0, None, 0), (18, 'Mukim', 'TEXT', 0, None, 0), (19, 'Parlimen', 'TEXT', 0, None, 0), (20, 'DUN', 'TEXT', 0, None, 0), (21, 'Strata', 'TEXT', 0, None, 0), (22, 'Peringkat_Pendidikan', 'TEXT', 0, None, 0), (23, 'Sijil_Tertinggi', 'TEXT', 0, None, 0), (24, 'Pemilikan_Kediaman', 'TEXT', 0, None, 0), (25, 'Jenis_Kediaman', 'TEXT', 0, None, 0), (26, 'Pemilikan_Kenderaan', 'REAL', 0, None, 0), (27, 'Jenis_Kenderaan', 'REAL', 0, None, 0), (28, 'Plat_Kenderaan', 'REAL', 0, None, 0), (29, 'Status_Pekerjaan', 'TEXT', 0, None, 0), (30, 'Jenis_Pekerjaan', 'TEXT', 0, None, 0), (31, 'Nama_Majikan', 'TEXT', 0, None, 0), (32, 'No_Daftar_Majikan', 'REAL', 0, None, 0), (33, 'Kemahiran_Penerima', 'REAL', 0, None, 0), (34, 'Jenis_Penyakit', 'TEXT', 0, None, 0), (35, 'No_OKU', 'TEXT', 0, None, 0), (36, 'Jenis_Ketidakupayaan', 'TEXT', 0, None, 0), (37, 'Sejarah_Rawatan', 'REAL', 0, None, 0), (38, 'No_Akaun_Bank', 'TEXT', 0, None, 0), (39, 'Nama_Bank', 'TEXT', 0, None, 0), (40, 'Jenis_Akaun_Bank', 'REAL', 0, None, 0), (41, 'Pendapatan_Bulanan_Penerima', 'REAL', 0, None, 0), (42, 'Sumber_Pendapatan', 'REAL', 0, None, 0), (43, 'Pendapatan_Bulanan_Keseluruhan', 'REAL', 0, None, 0)]\n",
      "[(0, 101021338.0, None, None, 'NUR DINI BINTI ROSLAN', '0134533465', 21.0, 'PEREMPUAN', 'ISLAM', 'MELAYU', 'MELAYU', 'WARGANEGARA', 'pkmdkm@yahoo.com', 'BERKAHWIN', 'NO 92 TAMAN SRI PUTRABAKAR ARANG', 8000.0, 'KEDAH', 'KUALA MUDA', 'SUNGAI PASIR', 'P.015 SUNGAI PETANI', 'N.28 BAKAR ARANG', 'BANDAR', 'PENDIDIKAN MENENGAH', None, 'TIADA', 'TERES', None, None, None, 'LAIN-LAIN', 'PEMBANTU KEDAI KEK', None, None, None, None, None, None, None, '0211929000171511', 'BANK SIMPANAN NASIONAL', None, 750.0, None, 0.0), (1, 101110533.0, None, None, 'AHMAD RAMADHAN BIN ZAWI', '0179114674', 20.0, 'LELAKI', 'ISLAM', 'MELAYU', 'MELAYU', 'WARGANEGARA', None, 'TIDAK PERNAH BERKAHWIN', '2053, TAMAN SAMUDERA TIMUR, JALAN PASIR MINAL', 24000.0, 'TERENGGANU', 'KEMAMAN', 'CUKAI', 'P.040 KEMAMAN', 'N.31 CUKAI', None, None, None, None, None, None, None, None, 'TIDAK BEKERJA', None, None, None, None, None, None, None, None, None, None, None, 0.0, None, 400.0), (2, 102021292.0, None, None, 'NORQURRATUL AIN BINTI GHAZALI', '01135233066', 21.0, 'PEREMPUAN', 'ISLAM', 'MELAYU', 'MELAYU', 'WARGANEGARA', None, None, 'NO 83 RTP BUKIT MAK INSUN NULL PENDANG', 6720.0, 'KEDAH', 'PENDANG', 'AYER PUTEH', 'P.011 PENDANG', 'N.19 SUNGAI TIANG', 'LUAR BANDAR', None, None, None, None, None, None, None, None, None, None, None, None, None, None, None, None, None, None, None, None, None, 2100.0), (3, 102030148.0, None, None, 'SITI NORSAHIRAH BINTI MOHAMAD YUSUF', None, 21.0, 'PEREMPUAN', 'ISLAM', 'MELAYU', 'MELAYU', 'WARGANEGARA', None, None, 'NO55 KG JERAM TEKOH GUA MUSANG', 18300.0, 'KELANTAN', 'GUA MUSANG', 'BERTAM', 'P.032 GUA MUSANG', 'N.43 NENGGIRI', 'LUAR BANDAR', None, None, None, None, None, None, None, None, None, None, None, None, None, None, None, None, None, None, None, None, None, 794.0), (4, 102030287.0, None, None, 'AHMAD SAFWAN BIN ADENAN', '0145279337', 21.0, 'LELAKI', 'ISLAM', 'MELAYU', 'MELAYU', 'WARGANEGARA', None, 'TIDAK PERNAH BERKAHWIN', 'LOT 994 BINJAL BARU KAMPUNG KIJANG, JALAN PCB', 15350.0, 'KELANTAN', 'TUMPAT', 'JAL BESAR', 'P.020 PENGKALAN CHEPA', 'N.05 KIJANG', 'LUAR BANDAR', 'PENDIDIKAN MENENGAH', None, 'TIADA', 'TERES', None, None, None, 'TIDAK BEKERJA', None, None, None, None, 'LAIN-LAIN', None, None, None, None, None, None, 0.0, None, 400.0), (5, 102030412.0, None, None, \"NUR A'IN FATIN NABILAH BINTI NORHASMIZI\", None, 20.0, 'PEREMPUAN', 'ISLAM', 'MELAYU', 'MELAYU', 'WARGANEGARA', 'ainfatin.hasmizi@gmail.com', 'TIDAK PERNAH BERKAHWIN', None, None, None, None, None, None, None, None, 'PENDIDIKAN TERTIARI', 'DIPLOMA POLITEKNIK/UNIVERSITI ATAU YANG SETARAF', None, None, None, None, None, None, None, None, None, None, None, None, None, None, None, None, None, None, None, None), (6, 102030658.0, None, None, 'NUR SYAMIMI AFIQA BINTI ROSDI', None, 21.0, 'PEREMPUAN', 'ISLAM', 'MELAYU', 'MELAYU', 'WARGANEGARA', None, 'TIDAK PERNAH BERKAHWIN', 'NO KG KELABORAN TUMPAT', 16200.0, 'KELANTAN', 'TUMPAT', 'TUMPAT', 'P.019 TUMPAT', 'N.02 KELABORAN', 'BANDAR', 'PENDIDIKAN RENDAH', 'TIADA SIJIL', None, None, None, None, None, 'PELAJAR', None, None, None, None, None, None, None, None, None, None, None, 80.0, None, 80.0), (7, 102031159.0, None, None, 'MOHAMMAD ASHRAF BIN MOHD SABRI', None, 21.0, 'LELAKI', 'ISLAM', 'MELAYU', 'MELAYU', 'WARGANEGARA', None, None, 'DPN SK KUBANG BATANG NULL TUMPAT', 16210.0, 'KELANTAN', 'TUMPAT', 'WAKAF BHARU', 'P.019 TUMPAT', 'N.04 WAKAF BHARU', 'BANDAR', None, None, None, None, None, None, None, None, None, None, None, None, None, None, None, None, None, None, None, None, None, 1518.0), (8, 102060152.0, None, None, 'SITI NOR MAISHARAH BINTI MOHD MARZUKI', None, 20.0, 'PEREMPUAN', 'ISLAM', 'MELAYU', 'MELAYU', 'WARGANEGARA', 'sarahzukyyy@gmail.com', 'TIDAK PERNAH BERKAHWIN', None, None, None, None, None, None, None, None, 'PENDIDIKAN TERTIARI', 'DIPLOMA POLITEKNIK/UNIVERSITI ATAU YANG SETARAF', None, None, None, None, None, None, None, None, None, None, None, None, None, None, None, None, None, None, None, None), (9, 102060259.0, None, None, 'MUHAMMAD FAHMI FIRDAUS BIN MOHD ZULKIFLI', '011-17811906', 21.0, 'LELAKI', 'ISLAM', 'MELAYU', 'MELAYU', 'WARGANEGARA', None, 'TIDAK PERNAH BERKAHWIN', 'NO 19, LRG 27TMN CENDERAWASIH INDAH', 25200.0, 'PAHANG', 'KUANTAN', 'KUALA KUANTAN', 'P.082 INDERA MAHKOTA', 'N.13 SEMAMBU', 'BANDAR', 'PENDIDIKAN MENENGAH', None, 'TIADA', 'TERES', None, None, None, 'PEKERJA SWASTA', None, 'KAFE IMIGRESEN', None, None, 'LAIN-LAIN', None, None, None, '0410229000152984', 'BANK SIMPANAN NASIONAL', None, None, None, 0.0)]\n"
     ]
    }
   ],
   "source": [
    "# Verify the table_info\n",
    "query_tableinfo = \"pragma table_info(pdps10perc);\"\n",
    "print(conn.execute(query_tableinfo).fetchall())\n",
    "# Check the table has data in i\n",
    "query_data = \"select * from pdps10perc limit 10;\"\n",
    "print(conn.execute(query_data).fetchall())"
   ]
  },
  {
   "cell_type": "code",
   "execution_count": null,
   "metadata": {},
   "outputs": [],
   "source": [
    "#reference : https://github.com/sandeepbhatt18/excel_to_sqlite/blob/master/Excel_to_SQLite.ipynb\n",
    "#https://github.com/thombashi/sqlitebiter\n"
   ]
  },
  {
   "cell_type": "code",
   "execution_count": null,
   "metadata": {},
   "outputs": [],
   "source": []
  },
  {
   "cell_type": "code",
   "execution_count": null,
   "metadata": {},
   "outputs": [],
   "source": [
    "conn.close()"
   ]
  },
  {
   "cell_type": "code",
   "execution_count": null,
   "metadata": {},
   "outputs": [],
   "source": []
  },
  {
   "cell_type": "markdown",
   "metadata": {},
   "source": [
    "## Huge_CSV_to_SQlite"
   ]
  },
  {
   "cell_type": "code",
   "execution_count": 30,
   "metadata": {},
   "outputs": [
    {
     "name": "stdout",
     "output_type": "stream",
     "text": [
      "        Voos        Companhia.Aerea Codigo.Tipo.Linha      Partida.Prevista  \\\n",
      "0  AAL - 203  AMERICAN AIRLINES INC     Internacional  2016-01-30T08:58:00Z   \n",
      "1  AAL - 203  AMERICAN AIRLINES INC     Internacional  2016-01-13T12:13:00Z   \n",
      "2  AAL - 203  AMERICAN AIRLINES INC     Internacional  2016-01-29T12:13:00Z   \n",
      "3  AAL - 203  AMERICAN AIRLINES INC     Internacional  2016-01-19T12:13:00Z   \n",
      "4  AAL - 203  AMERICAN AIRLINES INC     Internacional  2016-01-30T12:13:00Z   \n",
      "\n",
      "           Partida.Real      Chegada.Prevista          Chegada.Real  \\\n",
      "0  2016-01-30T08:58:00Z  2016-01-30T10:35:00Z  2016-01-30T10:35:00Z   \n",
      "1  2016-01-13T12:13:00Z  2016-01-13T21:30:00Z  2016-01-13T21:30:00Z   \n",
      "2  2016-01-29T12:13:00Z  2016-01-29T21:30:00Z  2016-01-29T21:30:00Z   \n",
      "3  2016-01-18T12:03:00Z  2016-01-19T21:30:00Z  2016-01-18T20:41:00Z   \n",
      "4  2016-01-30T12:13:00Z  2016-01-30T21:30:00Z  2016-01-30T21:30:00Z   \n",
      "\n",
      "  Situacao.Voo                       Codigo.Justificativa Aeroporto.Origem  \\\n",
      "0    Realizado                                        NaN      Afonso Pena   \n",
      "1    Realizado                                        NaN    Salgado Filho   \n",
      "2    Realizado                                        NaN    Salgado Filho   \n",
      "3    Realizado  LIBERACAO SERV. TRAFEGO AEREO/ANTECIPACAO    Salgado Filho   \n",
      "4    Realizado                                        NaN    Salgado Filho   \n",
      "\n",
      "   ... Estado.Origem Pais.Origem Aeroporto.Destino Cidade.Destino  \\\n",
      "0  ...            PR      Brasil     Salgado Filho   Porto Alegre   \n",
      "1  ...            RS      Brasil             Miami          Miami   \n",
      "2  ...            RS      Brasil             Miami          Miami   \n",
      "3  ...            RS      Brasil             Miami          Miami   \n",
      "4  ...            RS      Brasil             Miami          Miami   \n",
      "\n",
      "  Estado.Destino    Pais.Destino   LongDest    LatDest   LongOrig    LatOrig  \n",
      "0             RS          Brasil -51.175381 -29.993473 -49.172481 -25.532713  \n",
      "1            N/I  Estados Unidos -80.287046  25.795865 -51.175381 -29.993473  \n",
      "2            N/I  Estados Unidos -80.287046  25.795865 -51.175381 -29.993473  \n",
      "3            N/I  Estados Unidos -80.287046  25.795865 -51.175381 -29.993473  \n",
      "4            N/I  Estados Unidos -80.287046  25.795865 -51.175381 -29.993473  \n",
      "\n",
      "[5 rows x 21 columns]\n"
     ]
    }
   ],
   "source": [
    "## import pandas as pd\n",
    "from sqlalchemy import create_engine\n",
    "\n",
    "print (pd.read_csv(r'D:\\Lab Python\\Kaggle\\BrFlights2.csv', nrows=5, encoding='latin1')) #imprime apenas para visualizacao das primeiras linha\n",
    "csv_database = create_engine('sqlite:///brflight.db')"
   ]
  },
  {
   "cell_type": "code",
   "execution_count": 32,
   "metadata": {},
   "outputs": [],
   "source": [
    "chunksize = 100000 #limita uso da memoria\n",
    "i = 0\n",
    "j = 1\n",
    "for df in pd.read_csv(r'D:\\Lab Python\\Kaggle\\BrFlights2.csv', chunksize=chunksize, iterator=True, encoding='latin1'): #SEP E LINETERMINATOR É POR CONTA DA TABULAÇÃO DO CSV\n",
    "      df = df.rename(columns={c: c.replace(' ', '') for c in df.columns}) \n",
    "      df.index += j\n",
    "      i+=1\n",
    "      df.to_sql('table', csv_database, if_exists='append')\n",
    "      j = df.index[-1] + 1"
   ]
  },
  {
   "cell_type": "code",
   "execution_count": null,
   "metadata": {},
   "outputs": [],
   "source": []
  }
 ],
 "metadata": {
  "kernelspec": {
   "display_name": "Python 3",
   "language": "python",
   "name": "python3"
  },
  "language_info": {
   "codemirror_mode": {
    "name": "ipython",
    "version": 3
   },
   "file_extension": ".py",
   "mimetype": "text/x-python",
   "name": "python",
   "nbconvert_exporter": "python",
   "pygments_lexer": "ipython3",
   "version": "3.8.5"
  }
 },
 "nbformat": 4,
 "nbformat_minor": 4
}
